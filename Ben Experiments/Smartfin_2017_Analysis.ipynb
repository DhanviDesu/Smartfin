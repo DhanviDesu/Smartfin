{
 "cells": [
  {
   "cell_type": "markdown",
   "metadata": {},
   "source": [
    "# Calculating the difference between CDIP buoy data (actual heights) and Smartfin data (expected heights) for the month with most data points available"
   ]
  },
  {
   "cell_type": "code",
   "execution_count": 40,
   "metadata": {},
   "outputs": [],
   "source": [
    "#Ben Werb 07/09/2020\n",
    "#E4E\n",
    "\n",
    "import matplotlib\n",
    "import matplotlib.pyplot as plt\n",
    "import matplotlib.dates as mdates\n",
    "\n",
    "import os\n",
    "os.environ['PROJ_LIB'] = 'C:/Users/USERNAME/Anaconda3/Lib/site-packages/mpl_toolkits/basemap'\n",
    "from mpl_toolkits.basemap import Basemap\n",
    "\n",
    "import pandas as pd\n",
    "import numpy as np\n",
    "\n",
    "from sklearn.linear_model import LinearRegression\n",
    "from scipy import stats\n",
    "from scipy import constants\n",
    "from scipy import signal #added\n",
    "from scipy.interpolate import CubicSpline\n",
    "from scipy.interpolate import interp1d\n",
    "from scipy.integrate import simps\n",
    "from scipy.integrate import cumtrapz\n",
    "from pandas import DataFrame\n",
    "from statsmodels.stats.weightstats import ttest_ind\n",
    "from scipy import stats\n",
    "import os\n",
    "import datetime\n",
    "import pytz\n",
    "import re\n",
    "\n",
    "import peakutils\n",
    "import statsmodels.api as sm\n",
    "\n",
    "import requests\n",
    "\n",
    "\n",
    "from plotly import tools #added all the plotly's\n",
    "import plotly.offline\n",
    "import plotly.graph_objs as go\n",
    "\n",
    "import math #added\n",
    "import re   #added\n",
    "import statistics #added\n",
    "\n",
    "# For the definition of the abstract base class IMU_Base\n",
    "import abc\n",
    "\n",
    "import sys\n",
    "\n",
    "# %matplotlib notebook\n",
    "%matplotlib inline"
   ]
  },
  {
   "cell_type": "markdown",
   "metadata": {},
   "source": [
    "## Load in expected height data from Scripps_Final_Double_Integral_Analysis"
   ]
  },
  {
   "cell_type": "code",
   "execution_count": 41,
   "metadata": {},
   "outputs": [
    {
     "name": "stdout",
     "output_type": "stream",
     "text": [
      "   Unnamed: 0                             UTC        Date  Actual Height  \\\n",
      "0          38  2017-05-20T00:40:00.0870+00:00  2017-05-20       0.679704   \n",
      "1          39  2017-05-20T01:10:00.2870+00:00  2017-05-20       0.749808   \n",
      "2          26  2017-05-31T19:10:00.1080+00:00  2017-05-31       0.810768   \n",
      "3          27  2017-05-31T19:40:00.2080+00:00  2017-05-31       0.810768   \n",
      "4          68  2017-06-16T21:10:00.1970+00:00  2017-06-16       0.841248   \n",
      "\n",
      "   Expected Height  \n",
      "0         0.906603  \n",
      "1         0.908520  \n",
      "2         0.874762  \n",
      "3         0.725721  \n",
      "4         0.824378  \n"
     ]
    }
   ],
   "source": [
    "plot_df = pd.read_csv('plot_df.csv')\n",
    "print(plot_df.head())"
   ]
  },
  {
   "cell_type": "markdown",
   "metadata": {},
   "source": [
    "## I want to find the year/month with the most data points to work with"
   ]
  },
  {
   "cell_type": "code",
   "execution_count": 42,
   "metadata": {},
   "outputs": [
    {
     "name": "stdout",
     "output_type": "stream",
     "text": [
      "                              UTC        Date  Expected Height  Actual Height\n",
      "0  2017-05-20T00:40:00.0870+00:00  2017-05-20         0.906603       0.679704\n",
      "1  2017-05-20T01:10:00.2870+00:00  2017-05-20         0.908520       0.749808\n",
      "2  2017-05-31T19:10:00.1080+00:00  2017-05-31         0.874762       0.810768\n",
      "3  2017-05-31T19:40:00.2080+00:00  2017-05-31         0.725721       0.810768\n",
      "4  2017-06-16T21:10:00.1970+00:00  2017-06-16         0.824378       0.841248\n"
     ]
    }
   ],
   "source": [
    "#Creates list of UTC times, dates, actual and expected heights from calculated data in Scripps Double Integral Analysis\n",
    "Expected_Heights_df = DataFrame(plot_df, columns= ['UTC', 'Date', 'Expected Height', 'Actual Height'])\n",
    "print(Expected_Heights_df.head())"
   ]
  },
  {
   "cell_type": "code",
   "execution_count": 43,
   "metadata": {},
   "outputs": [
    {
     "name": "stdout",
     "output_type": "stream",
     "text": [
      "Data points from 2017: 74\n",
      "Data points from 2018: 33\n",
      "Data points from 2019: 9\n"
     ]
    }
   ],
   "source": [
    "Expected_Heights_2017_df = Expected_Heights_df[Expected_Heights_df['Date'].str.contains('2017')]\n",
    "Expected_Heights_2018_df = Expected_Heights_df[Expected_Heights_df['Date'].str.contains('2018')]\n",
    "Expected_Heights_2019_df = Expected_Heights_df[Expected_Heights_df['Date'].str.contains('2019')]\n",
    "print(str('Data points from 2017: ') + str(len(Expected_Heights_2017_df)))\n",
    "print(str('Data points from 2018: ') + str(len(Expected_Heights_2018_df)))\n",
    "print(str('Data points from 2019: ') + str(len(Expected_Heights_2019_df)))"
   ]
  },
  {
   "cell_type": "code",
   "execution_count": 44,
   "metadata": {},
   "outputs": [
    {
     "name": "stdout",
     "output_type": "stream",
     "text": [
      "Surf sessions by month:\n",
      "1: 0\n",
      "2: 0\n",
      "3: 0\n",
      "4: 0\n",
      "5: 4\n",
      "6: 29\n",
      "7: 5\n",
      "8: 11\n",
      "9: 11\n",
      "10: 10\n",
      "11: 0\n",
      "12: 4\n"
     ]
    }
   ],
   "source": [
    "Heights = []\n",
    "\n",
    "for i in range(0, 10):\n",
    "    Heights.append(Expected_Heights_2017_df[Expected_Heights_2017_df['Date'].str.contains('-0'+str(i)+'-')])\n",
    "    \n",
    "for i in range(10,13):\n",
    "        Heights.append(Expected_Heights_2017_df[Expected_Heights_2017_df['Date'].str.contains('-'+str(i)+'-')])\n",
    "\n",
    "print('Surf sessions by month:')\n",
    "for i in range(1,13):\n",
    "     print(str(i) + str(': ') + str(len(Heights[i])))"
   ]
  },
  {
   "cell_type": "code",
   "execution_count": 45,
   "metadata": {},
   "outputs": [
    {
     "data": {
      "image/png": "[encoded data removed]",
      "text/plain": [
       "<Figure size 432x288 with 1 Axes>"
      ]
     },
     "metadata": {
      "needs_background": "light"
     },
     "output_type": "display_data"
    }
   ],
   "source": [
    "x = [1,2,3,4,5,6,7,8,9,10,11,12]\n",
    "y = [0,0,0,0,4,29,5,11,11,10,0,4]\n",
    "plt.bar(x,y)\n",
    "plt.xlabel('months')\n",
    "plt.ylabel('data points')\n",
    "plt.show()"
   ]
  },
  {
   "cell_type": "code",
   "execution_count": 46,
   "metadata": {},
   "outputs": [
    {
     "name": "stdout",
     "output_type": "stream",
     "text": [
      "month:6\n"
     ]
    }
   ],
   "source": [
    "month = int(input('month:'))"
   ]
  },
  {
   "cell_type": "code",
   "execution_count": 47,
   "metadata": {},
   "outputs": [
    {
     "name": "stdout",
     "output_type": "stream",
     "text": [
      "                              UTC        Date  Expected Height  Actual Height\n",
      "4  2017-06-16T21:10:00.1970+00:00  2017-06-16         0.824378       0.841248\n",
      "5  2017-06-16T21:40:00.2680+00:00  2017-06-16         0.939788       0.920496\n",
      "6  2017-06-18T23:10:00.1900+00:00  2017-06-18         1.016650       0.899160\n",
      "7  2017-06-18T23:40:00.4410+00:00  2017-06-18         1.163987       1.078992\n",
      "8  2017-06-22T19:40:00.1790+00:00  2017-06-22         1.072348       0.929640\n",
      "20\n"
     ]
    }
   ],
   "source": [
    "Height_df = Heights[month]\n",
    "Height_df = Height_df.drop_duplicates(subset='Expected Height', keep=\"first\")\n",
    "Height_df = Height_df[Height_df['Expected Height'] <= 1.7] \n",
    "print(Height_df.head())\n",
    "print(len(Height_df))"
   ]
  },
  {
   "cell_type": "markdown",
   "metadata": {},
   "source": [
    "## Running T-tests on June 2017 data to determine how accurate it is compared to CDIP buoy data\n",
    "\n",
    "Null Hypothesis: The monthly buoy wave height average is the same as the Smartfin's\n",
    "\n",
    "Alternate Hypothesis: The monthly averages are different"
   ]
  },
  {
   "cell_type": "code",
   "execution_count": 48,
   "metadata": {},
   "outputs": [
    {
     "name": "stdout",
     "output_type": "stream",
     "text": [
      "T-score is 1.9759123263213314 with 94.45415120533751% confidence\n"
     ]
    }
   ],
   "source": [
    "Expected_Heights_06_2017 = Height_df['Expected Height'].to_numpy()\n",
    "Actual_Heights_06_2017 = Height_df['Actual Height'].to_numpy()\n",
    "test1 = stats.ttest_ind(Expected_Heights_06_2017, Actual_Heights_06_2017)\n",
    "test2 = stats.ttest_1samp(Expected_Heights_06_2017, Actual_Heights_06_2017)\n",
    "#I do not understand the results of test2\n",
    "print('T-score is ' + str(test1[0]) + ' with ' + str(100 - test1[1]*100) + '% ' + 'confidence')"
   ]
  },
  {
   "cell_type": "markdown",
   "metadata": {},
   "source": [
    "## Plot data together to see differences\n",
    "CDIP data is plotted only from dates that match the Smartfin database"
   ]
  },
  {
   "cell_type": "code",
   "execution_count": 49,
   "metadata": {},
   "outputs": [
    {
     "name": "stdout",
     "output_type": "stream",
     "text": [
      "Buoy Mean is: 0.821436\n",
      "Smartfin Mean is: 0.9274999034411355\n"
     ]
    },
    {
     "data": {
      "image/png": "[encoded data removed]",
      "text/plain": [
       "<Figure size 432x288 with 1 Axes>"
      ]
     },
     "metadata": {
      "needs_background": "light"
     },
     "output_type": "display_data"
    }
   ],
   "source": [
    "plt.boxplot([Actual_Heights_06_2017, Expected_Heights_06_2017], labels = ['Buoy', 'Smartfin'], showmeans=True)\n",
    "plt.title('June 2017 Buoy and Smartfin')\n",
    "print('Buoy Mean is: ' + str(np.mean(Actual_Heights_06_2017)))\n",
    "print('Smartfin Mean is: ' + str(np.mean(Expected_Heights_06_2017)))"
   ]
  },
  {
   "cell_type": "code",
   "execution_count": 50,
   "metadata": {},
   "outputs": [
    {
     "data": {
      "image/png": "[encoded data removed]",
      "text/plain": [
       "<Figure size 432x288 with 1 Axes>"
      ]
     },
     "metadata": {
      "needs_background": "light"
     },
     "output_type": "display_data"
    }
   ],
   "source": [
    "plt.hist(Actual_Heights_06_2017, color = 'blue', edgecolor = 'black', bins=5, alpha=.8)\n",
    "plt.hist(Expected_Heights_06_2017, color = 'red', edgecolor = 'black', bins=5, alpha=.8)\n",
    "#ax.hist(Actual_Heights_06_2017, bins, weights=Actual_Heights_06_2017)\n",
    "plt.legend(['Buoy', 'Smartfin'])\n",
    "plt.title('Frequencies of Buoy and Smartfin Height Data')\n",
    "plt.show()"
   ]
  },
  {
   "cell_type": "code",
   "execution_count": 51,
   "metadata": {},
   "outputs": [
    {
     "data": {
      "image/png": "[encoded data removed]",
      "text/plain": [
       "<Figure size 1080x504 with 1 Axes>"
      ]
     },
     "metadata": {
      "needs_background": "light"
     },
     "output_type": "display_data"
    },
    {
     "name": "stdout",
     "output_type": "stream",
     "text": [
      "mean error is 17.494277056476456\n"
     ]
    }
   ],
   "source": [
    "from scipy.stats import linregress\n",
    "ax = plt.gca()\n",
    "Height_df.plot(x='Date', y='Actual Height', ax=ax, style='.', figsize=(15,7), color='blue')\n",
    "Height_df.plot(x='Date', y='Expected Height', color='red', ax=ax, style='.')\n",
    "plt.legend(labels=['Buoy Height', 'Smartfin Height'])\n",
    "plt.xlabel('Date')\n",
    "plt.ylabel('Height (m)')\n",
    "plt.title('Buoy Vs. Smartfin Significant Wave Heights (June 2017)', size=20)\n",
    "plt.show()\n",
    "error = abs((1 - (Actual_Heights_06_2017/Expected_Heights_06_2017)) *100)\n",
    "error = np.mean(error)\n",
    "print('mean error is ' + str(error))"
   ]
  },
  {
   "cell_type": "markdown",
   "metadata": {},
   "source": [
    "## Buoy Significant Wave Height Prediction for June"
   ]
  },
  {
   "cell_type": "code",
   "execution_count": 52,
   "metadata": {},
   "outputs": [
    {
     "data": {
      "image/png": "[encoded data removed]",
      "text/plain": [
       "<Figure size 432x288 with 1 Axes>"
      ]
     },
     "metadata": {
      "needs_background": "light"
     },
     "output_type": "display_data"
    },
    {
     "name": "stdout",
     "output_type": "stream",
     "text": [
      "Prediction is: y = 0.309x + 0.5349\n"
     ]
    }
   ],
   "source": [
    "x = Height_df['Expected Height']#.values.reshape(-1,1)\n",
    "y = Height_df['Actual Height']#.values.reshape(-1,1)\n",
    "# linear_regressor = LinearRegression()  # create object for the class\n",
    "# linear_regressor.fit(x,y)  # perform linear regression\n",
    "# y_pred = linear_regressor.predict(x)  # make predictions\n",
    "\n",
    "(m,b) = np.polyfit(x ,y ,1)\n",
    "yp = np.polyval([m,b],x)\n",
    "equation = 'y = ' + str(round(m,4)) + 'x' ' + ' + str(round(b,4))\n",
    "plt.scatter(x,y, color='red')\n",
    "plt.plot(x,yp)\n",
    "plt.text(1,1, equation)\n",
    "\n",
    "# plt.scatter(x, y)\n",
    "# plt.plot(x, y_pred, color='red')\n",
    "plt.xlabel('Smartfin Height')\n",
    "plt.ylabel('Buoy Height')\n",
    "plt.title('Buoy Estimate for June 2017', size=15)\n",
    "plt.grid()\n",
    "plt.show()\n",
    "print('Prediction is: ' + str(equation))"
   ]
  },
  {
   "cell_type": "code",
   "execution_count": 53,
   "metadata": {},
   "outputs": [],
   "source": [
    "# Expected = float(input('Expected Wave Height is: '))\n",
    "# Prediction = ((Expected * .309) + .5349)\n",
    "# print('Smartfin Wave Height Prediction is: ' + str(Prediction))"
   ]
  },
  {
   "cell_type": "code",
   "execution_count": null,
   "metadata": {},
   "outputs": [],
   "source": []
  },
  {
   "cell_type": "code",
   "execution_count": null,
   "metadata": {},
   "outputs": [],
   "source": []
  },
  {
   "cell_type": "code",
   "execution_count": null,
   "metadata": {},
   "outputs": [],
   "source": []
  }
 ],
 "metadata": {
  "kernelspec": {
   "display_name": "Python 3",
   "language": "python",
   "name": "python3"
  },
  "language_info": {
   "codemirror_mode": {
    "name": "ipython",
    "version": 3
   },
   "file_extension": ".py",
   "mimetype": "text/x-python",
   "name": "python",
   "nbconvert_exporter": "python",
   "pygments_lexer": "ipython3",
   "version": "3.7.6"
  }
 },
 "nbformat": 4,
 "nbformat_minor": 2
}
