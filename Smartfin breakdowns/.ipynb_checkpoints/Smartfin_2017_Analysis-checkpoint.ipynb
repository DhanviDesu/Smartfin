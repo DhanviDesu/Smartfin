{
 "cells": [
  {
   "cell_type": "markdown",
   "metadata": {},
   "source": [
    "# Calculating the difference between CDIP buoy data (actual heights) and Smartfin data (expected heights) for the month with most data points available"
   ]
  },
  {
   "cell_type": "code",
   "execution_count": 1,
   "metadata": {},
   "outputs": [
    {
     "ename": "KeyError",
     "evalue": "'PROJ_LIB'",
     "output_type": "error",
     "traceback": [
      "\u001b[1;31m---------------------------------------------------------------------------\u001b[0m",
      "\u001b[1;31mKeyError\u001b[0m                                  Traceback (most recent call last)",
      "\u001b[1;32m<ipython-input-1-6b5345cafa50>\u001b[0m in \u001b[0;36m<module>\u001b[1;34m\u001b[0m\n\u001b[0;32m      6\u001b[0m \u001b[1;32mimport\u001b[0m \u001b[0mmatplotlib\u001b[0m\u001b[1;33m.\u001b[0m\u001b[0mdates\u001b[0m \u001b[1;32mas\u001b[0m \u001b[0mmdates\u001b[0m\u001b[1;33m\u001b[0m\u001b[1;33m\u001b[0m\u001b[0m\n\u001b[0;32m      7\u001b[0m \u001b[1;33m\u001b[0m\u001b[0m\n\u001b[1;32m----> 8\u001b[1;33m \u001b[1;32mfrom\u001b[0m \u001b[0mmpl_toolkits\u001b[0m\u001b[1;33m.\u001b[0m\u001b[0mbasemap\u001b[0m \u001b[1;32mimport\u001b[0m \u001b[0mBasemap\u001b[0m\u001b[1;33m\u001b[0m\u001b[1;33m\u001b[0m\u001b[0m\n\u001b[0m\u001b[0;32m      9\u001b[0m \u001b[1;33m\u001b[0m\u001b[0m\n\u001b[0;32m     10\u001b[0m \u001b[1;32mimport\u001b[0m \u001b[0mpandas\u001b[0m \u001b[1;32mas\u001b[0m \u001b[0mpd\u001b[0m\u001b[1;33m\u001b[0m\u001b[1;33m\u001b[0m\u001b[0m\n",
      "\u001b[1;32m~\\Anaconda3\\lib\\site-packages\\mpl_toolkits\\basemap\\__init__.py\u001b[0m in \u001b[0;36m<module>\u001b[1;34m\u001b[0m\n\u001b[0;32m    150\u001b[0m \u001b[1;33m\u001b[0m\u001b[0m\n\u001b[0;32m    151\u001b[0m \u001b[1;31m# create dictionary that maps epsg codes to Basemap kwargs.\u001b[0m\u001b[1;33m\u001b[0m\u001b[1;33m\u001b[0m\u001b[1;33m\u001b[0m\u001b[0m\n\u001b[1;32m--> 152\u001b[1;33m \u001b[0mpyproj_datadir\u001b[0m \u001b[1;33m=\u001b[0m \u001b[0mos\u001b[0m\u001b[1;33m.\u001b[0m\u001b[0menviron\u001b[0m\u001b[1;33m[\u001b[0m\u001b[1;34m'PROJ_LIB'\u001b[0m\u001b[1;33m]\u001b[0m\u001b[1;33m\u001b[0m\u001b[1;33m\u001b[0m\u001b[0m\n\u001b[0m\u001b[0;32m    153\u001b[0m \u001b[0mepsgf\u001b[0m \u001b[1;33m=\u001b[0m \u001b[0mopen\u001b[0m\u001b[1;33m(\u001b[0m\u001b[0mos\u001b[0m\u001b[1;33m.\u001b[0m\u001b[0mpath\u001b[0m\u001b[1;33m.\u001b[0m\u001b[0mjoin\u001b[0m\u001b[1;33m(\u001b[0m\u001b[0mbasemap_datadir\u001b[0m\u001b[1;33m,\u001b[0m\u001b[1;34m'epsg'\u001b[0m\u001b[1;33m)\u001b[0m\u001b[1;33m)\u001b[0m\u001b[1;33m\u001b[0m\u001b[1;33m\u001b[0m\u001b[0m\n\u001b[0;32m    154\u001b[0m \u001b[0mepsg_dict\u001b[0m\u001b[1;33m=\u001b[0m\u001b[1;33m{\u001b[0m\u001b[1;33m}\u001b[0m\u001b[1;33m\u001b[0m\u001b[1;33m\u001b[0m\u001b[0m\n",
      "\u001b[1;32m~\\Anaconda3\\lib\\os.py\u001b[0m in \u001b[0;36m__getitem__\u001b[1;34m(self, key)\u001b[0m\n\u001b[0;32m    677\u001b[0m         \u001b[1;32mexcept\u001b[0m \u001b[0mKeyError\u001b[0m\u001b[1;33m:\u001b[0m\u001b[1;33m\u001b[0m\u001b[1;33m\u001b[0m\u001b[0m\n\u001b[0;32m    678\u001b[0m             \u001b[1;31m# raise KeyError with the original key value\u001b[0m\u001b[1;33m\u001b[0m\u001b[1;33m\u001b[0m\u001b[1;33m\u001b[0m\u001b[0m\n\u001b[1;32m--> 679\u001b[1;33m             \u001b[1;32mraise\u001b[0m \u001b[0mKeyError\u001b[0m\u001b[1;33m(\u001b[0m\u001b[0mkey\u001b[0m\u001b[1;33m)\u001b[0m \u001b[1;32mfrom\u001b[0m \u001b[1;32mNone\u001b[0m\u001b[1;33m\u001b[0m\u001b[1;33m\u001b[0m\u001b[0m\n\u001b[0m\u001b[0;32m    680\u001b[0m         \u001b[1;32mreturn\u001b[0m \u001b[0mself\u001b[0m\u001b[1;33m.\u001b[0m\u001b[0mdecodevalue\u001b[0m\u001b[1;33m(\u001b[0m\u001b[0mvalue\u001b[0m\u001b[1;33m)\u001b[0m\u001b[1;33m\u001b[0m\u001b[1;33m\u001b[0m\u001b[0m\n\u001b[0;32m    681\u001b[0m \u001b[1;33m\u001b[0m\u001b[0m\n",
      "\u001b[1;31mKeyError\u001b[0m: 'PROJ_LIB'"
     ]
    }
   ],
   "source": [
    "#Ben Werb 07/09/2020\n",
    "#E4E\n",
    "\n",
    "import matplotlib\n",
    "import matplotlib.pyplot as plt\n",
    "import matplotlib.dates as mdates\n",
    "\n",
    "from mpl_toolkits.basemap import Basemap\n",
    "\n",
    "import pandas as pd\n",
    "import numpy as np\n",
    "\n",
    "from sklearn.linear_model import LinearRegression\n",
    "from scipy import stats\n",
    "from scipy import constants\n",
    "from scipy import signal #added\n",
    "from scipy.interpolate import CubicSpline\n",
    "from scipy.interpolate import interp1d\n",
    "from scipy.integrate import simps\n",
    "from scipy.integrate import cumtrapz\n",
    "from pandas import DataFrame\n",
    "from statsmodels.stats.weightstats import ttest_ind\n",
    "from scipy import stats\n",
    "import os\n",
    "import datetime\n",
    "import pytz\n",
    "import re\n",
    "\n",
    "import peakutils\n",
    "import statsmodels.api as sm\n",
    "\n",
    "import requests\n",
    "\n",
    "\n",
    "from plotly import tools #added all the plotly's\n",
    "import plotly.offline\n",
    "import plotly.graph_objs as go\n",
    "\n",
    "import math #added\n",
    "import re   #added\n",
    "import statistics #added\n",
    "\n",
    "# For the definition of the abstract base class IMU_Base\n",
    "import abc\n",
    "\n",
    "import sys\n",
    "\n",
    "# %matplotlib notebook\n",
    "%matplotlib inline"
   ]
  },
  {
   "cell_type": "markdown",
   "metadata": {},
   "source": [
    "## Load in expected height data from Scripps_Final_Double_Integral_Analysis"
   ]
  },
  {
   "cell_type": "code",
   "execution_count": null,
   "metadata": {},
   "outputs": [],
   "source": [
    "plot_df = pd.read_csv('plot_df.csv')\n",
    "print(plot_df.head())"
   ]
  },
  {
   "cell_type": "markdown",
   "metadata": {},
   "source": [
    "## I want to find the year/month with the most data points to work with"
   ]
  },
  {
   "cell_type": "code",
   "execution_count": null,
   "metadata": {},
   "outputs": [],
   "source": [
    "#Creates list of UTC times, dates, actual and expected heights from calculated data in Scripps Double Integral Analysis\n",
    "Expected_Heights_df = DataFrame(plot_df, columns= ['UTC', 'Date', 'Expected Height', 'Actual Height'])\n",
    "print(Expected_Heights_df.head())"
   ]
  },
  {
   "cell_type": "code",
   "execution_count": null,
   "metadata": {},
   "outputs": [],
   "source": [
    "Expected_Heights_2017_df = Expected_Heights_df[Expected_Heights_df['Date'].str.contains('2017')]\n",
    "Expected_Heights_2018_df = Expected_Heights_df[Expected_Heights_df['Date'].str.contains('2018')]\n",
    "Expected_Heights_2019_df = Expected_Heights_df[Expected_Heights_df['Date'].str.contains('2019')]\n",
    "print(str('Data points from 2017: ') + str(len(Expected_Heights_2017_df)))\n",
    "print(str('Data points from 2018: ') + str(len(Expected_Heights_2018_df)))\n",
    "print(str('Data points from 2019: ') + str(len(Expected_Heights_2019_df)))"
   ]
  },
  {
   "cell_type": "code",
   "execution_count": null,
   "metadata": {},
   "outputs": [],
   "source": [
    "Heights = []\n",
    "\n",
    "for i in range(0, 10):\n",
    "    Heights.append(Expected_Heights_2017_df[Expected_Heights_2017_df['Date'].str.contains('-0'+str(i)+'-')])\n",
    "    \n",
    "for i in range(10,13):\n",
    "        Heights.append(Expected_Heights_2017_df[Expected_Heights_2017_df['Date'].str.contains('-'+str(i)+'-')])\n",
    "\n",
    "print('Surf sessions by month:')\n",
    "for i in range(1,13):\n",
    "     print(str(i) + str(': ') + str(len(Heights[i])))"
   ]
  },
  {
   "cell_type": "code",
   "execution_count": null,
   "metadata": {},
   "outputs": [],
   "source": [
    "x = [1,2,3,4,5,6,7,8,9,10,11,12]\n",
    "y = [0,0,0,0,4,29,5,11,11,10,0,4]\n",
    "plt.bar(x,y)\n",
    "plt.xlabel('months')\n",
    "plt.ylabel('data points')\n",
    "plt.show()"
   ]
  },
  {
   "cell_type": "code",
   "execution_count": null,
   "metadata": {},
   "outputs": [],
   "source": [
    "month = int(input('month:'))"
   ]
  },
  {
   "cell_type": "code",
   "execution_count": null,
   "metadata": {},
   "outputs": [],
   "source": [
    "Height_df = Heights[month]\n",
    "Height_df = Height_df.drop_duplicates(subset='Expected Height', keep=\"first\")\n",
    "Height_df = Height_df[Height_df['Expected Height'] <= 1.7] \n",
    "print(Height_df.head())\n",
    "print(len(Height_df))"
   ]
  },
  {
   "cell_type": "markdown",
   "metadata": {},
   "source": [
    "## Running T-tests on June 2017 data to determine how accurate it is compared to CDIP buoy data\n",
    "\n",
    "Null Hypothesis: The monthly buoy wave height average is the same as the Smartfin's\n",
    "\n",
    "Alternate Hypothesis: The monthly averages are different"
   ]
  },
  {
   "cell_type": "code",
   "execution_count": null,
   "metadata": {},
   "outputs": [],
   "source": [
    "Expected_Heights_06_2017 = Height_df['Expected Height'].to_numpy()\n",
    "Actual_Heights_06_2017 = Height_df['Actual Height'].to_numpy()\n",
    "test1 = stats.ttest_ind(Expected_Heights_06_2017, Actual_Heights_06_2017)\n",
    "test2 = stats.ttest_1samp(Expected_Heights_06_2017, Actual_Heights_06_2017)\n",
    "#I do not understand the results of test2\n",
    "print('T-score is ' + str(test1[0]) + ' with ' + str(100 - test1[1]*100) + '% ' + 'confidence')"
   ]
  },
  {
   "cell_type": "markdown",
   "metadata": {},
   "source": [
    "## Plot data together to see differences\n",
    "CDIP data is plotted only from dates that match the Smartfin database"
   ]
  },
  {
   "cell_type": "code",
   "execution_count": null,
   "metadata": {},
   "outputs": [],
   "source": [
    "plt.boxplot([Actual_Heights_06_2017, Expected_Heights_06_2017], labels = ['Buoy', 'Smartfin'], showmeans=True)\n",
    "plt.title('June 2017 Buoy and Smartfin')\n",
    "print('Buoy Mean is: ' + str(np.mean(Actual_Heights_06_2017)))\n",
    "print('Smartfin Mean is: ' + str(np.mean(Expected_Heights_06_2017)))"
   ]
  },
  {
   "cell_type": "code",
   "execution_count": null,
   "metadata": {},
   "outputs": [],
   "source": [
    "plt.hist(Actual_Heights_06_2017, color = 'blue', edgecolor = 'black', bins=5, alpha=.8)\n",
    "plt.hist(Expected_Heights_06_2017, color = 'red', edgecolor = 'black', bins=5, alpha=.8)\n",
    "#ax.hist(Actual_Heights_06_2017, bins, weights=Actual_Heights_06_2017)\n",
    "plt.legend(['Buoy', 'Smartfin'])\n",
    "plt.title('Frequencies of Buoy and Smartfin Height Data')\n",
    "plt.show()"
   ]
  },
  {
   "cell_type": "code",
   "execution_count": null,
   "metadata": {},
   "outputs": [],
   "source": [
    "# data_to_plot = DataFrame(plot_df, columns= ['UTC', 'Date', 'Expected Height', 'Actual Height'])\n",
    "# June = data_to_plot[data_to_plot['UTC'].str.contains('2017-06-')]\n",
    "from scipy.stats import linregress\n",
    "ax = plt.gca()\n",
    "Height_df.plot(x='Date', y='Actual Height', ax=ax, style='.', figsize=(15,7), color='blue')\n",
    "Height_df.plot(x='Date', y='Expected Height', color='red', ax=ax, style='.')\n",
    "plt.legend()\n",
    "plt.xlabel('Date')\n",
    "plt.ylabel('Height (m)')\n",
    "plt.title('Buoy Vs. Smartfin Wave Heights (June 2017)', size=20)\n",
    "plt.show()"
   ]
  },
  {
   "cell_type": "markdown",
   "metadata": {},
   "source": [
    "## Buoy Wave Height Prediction for June"
   ]
  },
  {
   "cell_type": "code",
   "execution_count": null,
   "metadata": {},
   "outputs": [],
   "source": [
    "x = Height_df['Expected Height']#.values.reshape(-1,1)\n",
    "y = Height_df['Actual Height']#.values.reshape(-1,1)\n",
    "# linear_regressor = LinearRegression()  # create object for the class\n",
    "# linear_regressor.fit(x,y)  # perform linear regression\n",
    "# y_pred = linear_regressor.predict(x)  # make predictions\n",
    "\n",
    "(m,b) = np.polyfit(x ,y ,1)\n",
    "yp = np.polyval([m,b],x)\n",
    "equation = 'y = ' + str(round(m,4)) + 'x' ' + ' + str(round(b,4))\n",
    "plt.scatter(x,y, color='red')\n",
    "plt.plot(x,yp)\n",
    "plt.text(1,1, equation)\n",
    "\n",
    "# plt.scatter(x, y)\n",
    "# plt.plot(x, y_pred, color='red')\n",
    "plt.xlabel('Smartfin Height')\n",
    "plt.ylabel('Buoy Height')\n",
    "plt.title('Buoy Estimate', size=15)\n",
    "plt.show()\n",
    "print('Prediction is: ' + str(equation))"
   ]
  },
  {
   "cell_type": "code",
   "execution_count": null,
   "metadata": {},
   "outputs": [],
   "source": [
    "Expected = float(input('Expected Wave Height is: '))\n",
    "Prediction = ((Expected * .309) + .5349)\n",
    "print('Smartfin Wave Height Prediction is: ' + str(Prediction))"
   ]
  }
 ],
 "metadata": {
  "kernelspec": {
   "display_name": "Python 3",
   "language": "python",
   "name": "python3"
  },
  "language_info": {
   "codemirror_mode": {
    "name": "ipython",
    "version": 3
   },
   "file_extension": ".py",
   "mimetype": "text/x-python",
   "name": "python",
   "nbconvert_exporter": "python",
   "pygments_lexer": "ipython3",
   "version": "3.7.6"
  }
 },
 "nbformat": 4,
 "nbformat_minor": 2
}
