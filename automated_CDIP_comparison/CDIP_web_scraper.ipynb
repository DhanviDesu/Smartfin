{
 "cells": [
  {
   "cell_type": "markdown",
   "metadata": {},
   "source": [
    "# CDIP Web Scraper"
   ]
  },
  {
   "cell_type": "code",
   "execution_count": 1,
   "metadata": {},
   "outputs": [
    {
     "name": "stdout",
     "output_type": "stream",
     "text": [
      "Requirement already satisfied: netCDF4 in /Users/Evan/opt/anaconda3/lib/python3.8/site-packages (1.5.4)\n",
      "Requirement already satisfied: numpy>=1.9 in /Users/Evan/opt/anaconda3/lib/python3.8/site-packages (from netCDF4) (1.18.5)\n",
      "Requirement already satisfied: cftime in /Users/Evan/opt/anaconda3/lib/python3.8/site-packages (from netCDF4) (1.2.1)\n",
      "Note: you may need to restart the kernel to use updated packages.\n"
     ]
    }
   ],
   "source": [
    "pip install netCDF4"
   ]
  },
  {
   "cell_type": "markdown",
   "metadata": {},
   "source": [
    "### Import packages"
   ]
  },
  {
   "cell_type": "code",
   "execution_count": 2,
   "metadata": {},
   "outputs": [],
   "source": [
    "import pandas as pd\n",
    "import numpy as np\n",
    "import netCDF4\n",
    "import matplotlib.pyplot as plt\n",
    "import datetime\n",
    "import time\n",
    "from matplotlib import gridspec"
   ]
  },
  {
   "cell_type": "markdown",
   "metadata": {},
   "source": [
    "### Constants"
   ]
  },
  {
   "cell_type": "code",
   "execution_count": 3,
   "metadata": {},
   "outputs": [
    {
     "name": "stdout",
     "output_type": "stream",
     "text": [
      "fetching ride from:  https://surf.smartfin.org/ride/15692\n",
      "fetching motion data from:  https://surf.smartfin.org/media/201811/google_105349665704999793400_0006667E229D_181109191556_Motion.CSV\n"
     ]
    },
    {
     "data": {
      "text/plain": [
       "'http://thredds.cdip.ucsd.edu/thredds/dodsC/cdip/archive/067p1/067p1_historic.nc'"
      ]
     },
     "execution_count": 3,
     "metadata": {},
     "output_type": "execute_result"
    }
   ],
   "source": [
    "# TODO: load station number and yeardate based on smartfin ride date input\n",
    "from smartfin_web_scraper import Ride\n",
    "\n",
    "ride = Ride(ride_id='15692', data='motion')\n",
    "start_date, end_date = ride.get_ride_timeframe()\n",
    "\n",
    "# station number <- temporary values\n",
    "stn = '067'\n",
    "\n",
    "# CDIP Archived Dataset URL\n",
    "data_url = 'http://thredds.cdip.ucsd.edu/thredds/dodsC/cdip/archive/' + stn + 'p1/' + stn + 'p1_historic.nc'\n",
    "data_url"
   ]
  },
  {
   "cell_type": "markdown",
   "metadata": {},
   "source": [
    "### Read vars from CDIP THREDDS Server Dataset"
   ]
  },
  {
   "cell_type": "code",
   "execution_count": 4,
   "metadata": {},
   "outputs": [],
   "source": [
    "# netCDF data object fetched from CDIP API\n",
    "nc = netCDF4.Dataset(data_url)\n",
    "\n",
    "# UNIX based time from 1991-yeardate in 30 minute increments\n",
    "ncTime = nc.variables['sstTime'][:]\n",
    "timeall = [datetime.datetime.fromtimestamp(t) for t in ncTime]\n",
    "\n",
    "# wave heights\n",
    "Hs = nc.variables['waveHs']\n"
   ]
  },
  {
   "cell_type": "code",
   "execution_count": 5,
   "metadata": {},
   "outputs": [],
   "source": [
    "# Find nearest value in ncTime array to inputted UNIX Timestamp\n",
    "def find_nearest(array,value):\n",
    "    idx = (np.abs(array-value)).argmin()\n",
    "    print(idx)\n",
    "    return array[idx]"
   ]
  },
  {
   "cell_type": "markdown",
   "metadata": {},
   "source": [
    "### Convert human time to UNIX time"
   ]
  },
  {
   "cell_type": "code",
   "execution_count": 6,
   "metadata": {},
   "outputs": [],
   "source": [
    "# Convert human-formatted date to UNIX timestamp\n",
    "def getUnixTimestamp(humanTime,dateFormat):\n",
    "    unixTimestamp = int(time.mktime(datetime.datetime.strptime(humanTime, dateFormat).timetuple()))\n",
    "    print('humanTime: ', humanTime)\n",
    "    print('UNIX Timestamp: ', unixTimestamp)\n",
    "    return unixTimestamp"
   ]
  },
  {
   "cell_type": "markdown",
   "metadata": {},
   "source": [
    "## Time Index Values\n",
    "\n",
    "Find the UNIX values that correspond to start (Day 1) and end (Day 28) dates for each month. Then find the array index numbers for each UNIX value within the 'ncTime' arrays."
   ]
  },
  {
   "cell_type": "code",
   "execution_count": 7,
   "metadata": {},
   "outputs": [
    {
     "name": "stdout",
     "output_type": "stream",
     "text": [
      "humanTime:  09/11/2018 19:16:03\n",
      "UNIX Timestamp:  1536718563\n",
      "309100\n",
      "humanTime:  09/11/2018 20:38:15\n",
      "UNIX Timestamp:  1536723495\n",
      "309103\n",
      "1536717765\n",
      "1536723165\n"
     ]
    }
   ],
   "source": [
    "# # Create array of lists of Hs data for each month \n",
    "\n",
    "# timeindex_start = []\n",
    "# timeindex_end = []\n",
    "# monthcount = 0\n",
    "\n",
    "unixstart = getUnixTimestamp(start_date,\"%m/%d/%Y %H:%M:%S\")\n",
    "nearest_date = find_nearest(ncTime, unixstart)  # Find the closest unix timestamp\n",
    "start_index = np.where(ncTime==nearest_date)[0][0]  # Grab the index number of found date\n",
    "\n",
    "unixend = getUnixTimestamp(end_date,\"%m/%d/%Y %H:%M:%S\")\n",
    "future_date = find_nearest(ncTime, unixend)  # Find the closest unix timestamp\n",
    "end_index = np.where(ncTime==future_date)[0][0]  # Grab the index number of found date    \n",
    "\n",
    "print(nearest_date)\n",
    "print(future_date)\n",
    "\n",
    "# timeindex_start.append(start_index) # Append 'month start date' and 'month end date' index numbers for each month to corresponding array\n",
    "# timeindex_end.append(end_index)\n"
   ]
  },
  {
   "cell_type": "markdown",
   "metadata": {},
   "source": [
    "### Calculate mean wave heights of each month\n",
    "\n",
    "Create array of month-long chunks of Hs data, to be plotted as a series of boxplots. Use a for-loop to cycle through the Hs variable and define each month-long array using the above-specified time index numbers."
   ]
  },
  {
   "cell_type": "code",
   "execution_count": 24,
   "metadata": {},
   "outputs": [
    {
     "name": "stdout",
     "output_type": "stream",
     "text": [
      "-3\n",
      "3\n",
      "[2.3  2.15 2.04]\n",
      "[2.1633332]\n",
      "2.1633332\n",
      "mean wave height: [2.16]\n"
     ]
    },
    {
     "data": {
      "text/plain": [
       "array([2.3 , 2.15, 2.04], dtype=float32)"
      ]
     },
     "execution_count": 24,
     "metadata": {},
     "output_type": "execute_result"
    }
   ],
   "source": [
    "box_data = []\n",
    "i = 0\n",
    "print(start_index - end_index)\n",
    "    \n",
    "# all wave height averages per 30 minute increments over each month\n",
    "ride_hs = Hs[start_index:end_index]\n",
    "i = i+1\n",
    "print(len(ride_hs))\n",
    "print(ride_hs)\n",
    "    \n",
    "# append each dataset to the box data\n",
    "box_data.append(ride_hs)\n",
    "    \n",
    "# calculate means of each month dataset in box_data\n",
    "means = np.asarray([np.mean(m) for m in box_data]) \n",
    "\n",
    "# Round each monthly mean value to 2 decimal points, for plotting\n",
    "meansround = [round(k,2) for k in means] \n",
    "print(means)\n",
    "print(ride_hs.mean())\n",
    "print('mean wave height:', meansround)\n",
    "ride_hs.data"
   ]
  },
  {
   "cell_type": "markdown",
   "metadata": {},
   "source": [
    "Calculate the number of instances of the variable being incorporated into each month-long average"
   ]
  },
  {
   "cell_type": "code",
   "execution_count": 9,
   "metadata": {},
   "outputs": [
    {
     "data": {
      "text/plain": [
       "[3]"
      ]
     },
     "execution_count": 9,
     "metadata": {},
     "output_type": "execute_result"
    }
   ],
   "source": [
    "monthlengths = []\n",
    "j = 0\n",
    "\n",
    "for Hsj in range(len(Hs[timeindex_start])):\n",
    "    \n",
    "    # how many readings were recorded during that month\n",
    "    monthlenHs = len(Hs[timeindex_start[j]:timeindex_end[j]])\n",
    "    j = j+1\n",
    "    monthlengths.append(monthlenHs)\n",
    "    \n",
    "monthlengths"
   ]
  },
  {
   "cell_type": "markdown",
   "metadata": {},
   "source": [
    "## Plot Wave Time-Series\n",
    "* Create boxplot graph of month-long datasets\n",
    "* Each box includes:\n",
    "    - Median (red line)\n",
    "    - 25th and 75th percentiles (top and bottom of box)\n",
    "    - Remaining data within 1.5L above and below (whiskers) the quartiles, where L = length (m) from 25th to 75th percentile\n",
    "    - Outliers (red crosses) - data beyond whiskers\n",
    "    - Mean position (green line) and value (green number)\n",
    "* Adjust colors and labels of graphical display\n",
    "* Include a second plot of a sample 'legend' boxplot"
   ]
  },
  {
   "cell_type": "code",
   "execution_count": 10,
   "metadata": {},
   "outputs": [
    {
     "ename": "ValueError",
     "evalue": "x and y must be the same size",
     "output_type": "error",
     "traceback": [
      "\u001b[0;31m---------------------------------------------------------------------------\u001b[0m",
      "\u001b[0;31mValueError\u001b[0m                                Traceback (most recent call last)",
      "\u001b[0;32m<ipython-input-10-b8b1079132bc>\u001b[0m in \u001b[0;36m<module>\u001b[0;34m\u001b[0m\n\u001b[1;32m     13\u001b[0m \u001b[0mbp\u001b[0m \u001b[0;34m=\u001b[0m \u001b[0mplt\u001b[0m\u001b[0;34m.\u001b[0m\u001b[0msubplot\u001b[0m\u001b[0;34m(\u001b[0m\u001b[0mgs\u001b[0m\u001b[0;34m[\u001b[0m\u001b[0;36m0\u001b[0m\u001b[0;34m,\u001b[0m\u001b[0;34m:\u001b[0m\u001b[0;34m]\u001b[0m\u001b[0;34m)\u001b[0m\u001b[0;34m\u001b[0m\u001b[0;34m\u001b[0m\u001b[0m\n\u001b[1;32m     14\u001b[0m \u001b[0mbp_data\u001b[0m \u001b[0;34m=\u001b[0m \u001b[0mbp\u001b[0m\u001b[0;34m.\u001b[0m\u001b[0mboxplot\u001b[0m\u001b[0;34m(\u001b[0m\u001b[0mbox_data\u001b[0m\u001b[0;34m)\u001b[0m \u001b[0;31m# Add 'meanlineprops' to include the above-defined properties\u001b[0m\u001b[0;34m\u001b[0m\u001b[0;34m\u001b[0m\u001b[0m\n\u001b[0;32m---> 15\u001b[0;31m \u001b[0mbp\u001b[0m\u001b[0;34m.\u001b[0m\u001b[0mscatter\u001b[0m\u001b[0;34m(\u001b[0m\u001b[0mmonths\u001b[0m\u001b[0;34m,\u001b[0m\u001b[0mmeans\u001b[0m\u001b[0;34m,\u001b[0m\u001b[0mmarker\u001b[0m\u001b[0;34m=\u001b[0m\u001b[0;34m\"_\"\u001b[0m\u001b[0;34m,\u001b[0m\u001b[0mcolor\u001b[0m\u001b[0;34m=\u001b[0m\u001b[0;34m'g'\u001b[0m\u001b[0;34m,\u001b[0m\u001b[0mlinewidths\u001b[0m\u001b[0;34m=\u001b[0m\u001b[0;36m2.5\u001b[0m\u001b[0;34m,\u001b[0m\u001b[0ms\u001b[0m\u001b[0;34m=\u001b[0m\u001b[0;36m900\u001b[0m\u001b[0;34m)\u001b[0m \u001b[0;31m# Overlay monthly means as green lines using 'scatter' function.\u001b[0m\u001b[0;34m\u001b[0m\u001b[0;34m\u001b[0m\u001b[0m\n\u001b[0m\u001b[1;32m     16\u001b[0m \u001b[0;34m\u001b[0m\u001b[0m\n\u001b[1;32m     17\u001b[0m \u001b[0;31m# Subplot to show example 'legend' boxplot below actual monthly-averaged boxplot graph\u001b[0m\u001b[0;34m\u001b[0m\u001b[0;34m\u001b[0m\u001b[0;34m\u001b[0m\u001b[0m\n",
      "\u001b[0;32m~/opt/anaconda3/lib/python3.8/site-packages/matplotlib/__init__.py\u001b[0m in \u001b[0;36minner\u001b[0;34m(ax, data, *args, **kwargs)\u001b[0m\n\u001b[1;32m   1563\u001b[0m     \u001b[0;32mdef\u001b[0m \u001b[0minner\u001b[0m\u001b[0;34m(\u001b[0m\u001b[0max\u001b[0m\u001b[0;34m,\u001b[0m \u001b[0;34m*\u001b[0m\u001b[0margs\u001b[0m\u001b[0;34m,\u001b[0m \u001b[0mdata\u001b[0m\u001b[0;34m=\u001b[0m\u001b[0;32mNone\u001b[0m\u001b[0;34m,\u001b[0m \u001b[0;34m**\u001b[0m\u001b[0mkwargs\u001b[0m\u001b[0;34m)\u001b[0m\u001b[0;34m:\u001b[0m\u001b[0;34m\u001b[0m\u001b[0;34m\u001b[0m\u001b[0m\n\u001b[1;32m   1564\u001b[0m         \u001b[0;32mif\u001b[0m \u001b[0mdata\u001b[0m \u001b[0;32mis\u001b[0m \u001b[0;32mNone\u001b[0m\u001b[0;34m:\u001b[0m\u001b[0;34m\u001b[0m\u001b[0;34m\u001b[0m\u001b[0m\n\u001b[0;32m-> 1565\u001b[0;31m             \u001b[0;32mreturn\u001b[0m \u001b[0mfunc\u001b[0m\u001b[0;34m(\u001b[0m\u001b[0max\u001b[0m\u001b[0;34m,\u001b[0m \u001b[0;34m*\u001b[0m\u001b[0mmap\u001b[0m\u001b[0;34m(\u001b[0m\u001b[0msanitize_sequence\u001b[0m\u001b[0;34m,\u001b[0m \u001b[0margs\u001b[0m\u001b[0;34m)\u001b[0m\u001b[0;34m,\u001b[0m \u001b[0;34m**\u001b[0m\u001b[0mkwargs\u001b[0m\u001b[0;34m)\u001b[0m\u001b[0;34m\u001b[0m\u001b[0;34m\u001b[0m\u001b[0m\n\u001b[0m\u001b[1;32m   1566\u001b[0m \u001b[0;34m\u001b[0m\u001b[0m\n\u001b[1;32m   1567\u001b[0m         \u001b[0mbound\u001b[0m \u001b[0;34m=\u001b[0m \u001b[0mnew_sig\u001b[0m\u001b[0;34m.\u001b[0m\u001b[0mbind\u001b[0m\u001b[0;34m(\u001b[0m\u001b[0max\u001b[0m\u001b[0;34m,\u001b[0m \u001b[0;34m*\u001b[0m\u001b[0margs\u001b[0m\u001b[0;34m,\u001b[0m \u001b[0;34m**\u001b[0m\u001b[0mkwargs\u001b[0m\u001b[0;34m)\u001b[0m\u001b[0;34m\u001b[0m\u001b[0;34m\u001b[0m\u001b[0m\n",
      "\u001b[0;32m~/opt/anaconda3/lib/python3.8/site-packages/matplotlib/cbook/deprecation.py\u001b[0m in \u001b[0;36mwrapper\u001b[0;34m(*args, **kwargs)\u001b[0m\n\u001b[1;32m    356\u001b[0m                 \u001b[0;34mf\"%(removal)s.  If any parameter follows {name!r}, they \"\u001b[0m\u001b[0;34m\u001b[0m\u001b[0;34m\u001b[0m\u001b[0m\n\u001b[1;32m    357\u001b[0m                 f\"should be pass as keyword, not positionally.\")\n\u001b[0;32m--> 358\u001b[0;31m         \u001b[0;32mreturn\u001b[0m \u001b[0mfunc\u001b[0m\u001b[0;34m(\u001b[0m\u001b[0;34m*\u001b[0m\u001b[0margs\u001b[0m\u001b[0;34m,\u001b[0m \u001b[0;34m**\u001b[0m\u001b[0mkwargs\u001b[0m\u001b[0;34m)\u001b[0m\u001b[0;34m\u001b[0m\u001b[0;34m\u001b[0m\u001b[0m\n\u001b[0m\u001b[1;32m    359\u001b[0m \u001b[0;34m\u001b[0m\u001b[0m\n\u001b[1;32m    360\u001b[0m     \u001b[0;32mreturn\u001b[0m \u001b[0mwrapper\u001b[0m\u001b[0;34m\u001b[0m\u001b[0;34m\u001b[0m\u001b[0m\n",
      "\u001b[0;32m~/opt/anaconda3/lib/python3.8/site-packages/matplotlib/axes/_axes.py\u001b[0m in \u001b[0;36mscatter\u001b[0;34m(self, x, y, s, c, marker, cmap, norm, vmin, vmax, alpha, linewidths, verts, edgecolors, plotnonfinite, **kwargs)\u001b[0m\n\u001b[1;32m   4389\u001b[0m         \u001b[0my\u001b[0m \u001b[0;34m=\u001b[0m \u001b[0mnp\u001b[0m\u001b[0;34m.\u001b[0m\u001b[0mma\u001b[0m\u001b[0;34m.\u001b[0m\u001b[0mravel\u001b[0m\u001b[0;34m(\u001b[0m\u001b[0my\u001b[0m\u001b[0;34m)\u001b[0m\u001b[0;34m\u001b[0m\u001b[0;34m\u001b[0m\u001b[0m\n\u001b[1;32m   4390\u001b[0m         \u001b[0;32mif\u001b[0m \u001b[0mx\u001b[0m\u001b[0;34m.\u001b[0m\u001b[0msize\u001b[0m \u001b[0;34m!=\u001b[0m \u001b[0my\u001b[0m\u001b[0;34m.\u001b[0m\u001b[0msize\u001b[0m\u001b[0;34m:\u001b[0m\u001b[0;34m\u001b[0m\u001b[0;34m\u001b[0m\u001b[0m\n\u001b[0;32m-> 4391\u001b[0;31m             \u001b[0;32mraise\u001b[0m \u001b[0mValueError\u001b[0m\u001b[0;34m(\u001b[0m\u001b[0;34m\"x and y must be the same size\"\u001b[0m\u001b[0;34m)\u001b[0m\u001b[0;34m\u001b[0m\u001b[0;34m\u001b[0m\u001b[0m\n\u001b[0m\u001b[1;32m   4392\u001b[0m \u001b[0;34m\u001b[0m\u001b[0m\n\u001b[1;32m   4393\u001b[0m         \u001b[0;32mif\u001b[0m \u001b[0ms\u001b[0m \u001b[0;32mis\u001b[0m \u001b[0;32mNone\u001b[0m\u001b[0;34m:\u001b[0m\u001b[0;34m\u001b[0m\u001b[0;34m\u001b[0m\u001b[0m\n",
      "\u001b[0;31mValueError\u001b[0m: x and y must be the same size"
     ]
    },
    {
     "data": {
      "image/png": "[encoded data removed]",
      "text/plain": [
       "<Figure size 864x1080 with 1 Axes>"
      ]
     },
     "metadata": {
      "needs_background": "light"
     },
     "output_type": "display_data"
    }
   ],
   "source": [
    "# Create overall figure and specify size, and grid to specify positions of subplots\n",
    "fig = plt.figure(figsize=(12,15)) \n",
    "gs = gridspec.GridSpec(2,2,height_ratios=[5,1]) \n",
    "\n",
    "\n",
    "# Create a dataset for sample 'legend' boxplot, to go underneath actual boxplot\n",
    "bp_sample2 = np.random.normal(2.5,0.5,500)\n",
    "\n",
    "\n",
    "# Create two subplots - actual monthly-averaged data (top) and example 'legend' boxplot (bottom)\n",
    "\n",
    "# Subplot of monthly-averaged boxplot data\n",
    "bp = plt.subplot(gs[0,:])\n",
    "bp_data = bp.boxplot(box_data) # Add 'meanlineprops' to include the above-defined properties\n",
    "bp.scatter(months,means,marker=\"_\",color='g',linewidths=2.5,s=900) # Overlay monthly means as green lines using 'scatter' function.\n",
    "\n",
    "# Subplot to show example 'legend' boxplot below actual monthly-averaged boxplot graph\n",
    "bp2 = plt.subplot(gs[1,1:-1])\n",
    "bp2_example = bp2.boxplot(bp_sample2,vert=False) # Plot horizontal example boxplot with labels\n",
    "bp2.scatter(2.3,1,marker=\"|\",color='g',linewidths=2.5,s=400)\n",
    "\n",
    "\n",
    "# Add values of monthly means as text\n",
    "for i, txt in enumerate(meansround):\n",
    "    bp.annotate(txt, (months[i],means[i]),fontsize=12,horizontalalignment='center',verticalalignment='bottom',color='g')\n",
    "\n",
    "    \n",
    "# Get positions of Median, Quartiles and Outliers to use in 'legend' text labels \n",
    "for line in bp2_example['medians']:\n",
    "    xm, ym = line.get_xydata()[0] # location of Median line   \n",
    "for line in bp2_example['boxes']:\n",
    "    xb, yb = line.get_xydata()[0] # location of Box edges (Quartiles)\n",
    "for line in bp2_example['whiskers']:\n",
    "    xw, yw = line.get_xydata()[0] # location of Whisker ends (Outliers)\n",
    "    \n",
    "\n",
    "# Add text labels for 'Median', Mean', '25th/75th %iles' and 'Outliers' to subplot2, to create sample 'legend' boxplot\n",
    "bp2.annotate(\"Median\",[xm,ym-0.3*ym],fontsize=14,color='r')\n",
    "bp2.annotate(\"Mean\",[2.2,0.65],fontsize=14,color='g')\n",
    "bp2.annotate(\"25%ile\",[xb-0.01*xb,yb-0.15*yb],fontsize=12)\n",
    "bp2.annotate(\"75%ile\",[xb+0.2*xb,yb-0.15*yb],fontsize=12)\n",
    "bp2.annotate(\"Outliers\",[xw+0.38*xw,yw-0.3*yw],fontsize=14,color='r')\n",
    "\n",
    " \n",
    "# Set colors of box aspects for top subplot    \n",
    "pylab.setp(bp_data['boxes'], color='black')\n",
    "pylab.setp(bp_data['whiskers'], color='black')\n",
    "pylab.setp(bp_data['fliers'], color='r')\n",
    "\n",
    "\n",
    "# Set colors of box aspects for bottom (sample) subplot   \n",
    "pylab.setp(bp2_example['boxes'], color='black')\n",
    "pylab.setp(bp2_example['whiskers'], color='black')\n",
    "pylab.setp(bp2_example['fliers'], color='r')\n",
    "\n",
    "\n",
    "# Set Titles\n",
    "plt.suptitle(buoytitle, fontsize=30, y=0.97) # Overall plot title using 'buoytitle' variable\n",
    "bp.set_title(\"Significant Wave Height by month for \" + year_date, fontsize=20, y=1.01) # Subtitle for top plot\n",
    "# bp2.set_title(\"Sample Boxplot\", fontsize=16, y=1.02) # Subtitle for bottom plot\n",
    "\n",
    "\n",
    "# Set axes labels and ticks\n",
    "bp.set_xticklabels(['ride'],fontsize=12)\n",
    "bp.set_ylabel('Significant Wave Height, Hs (m)', fontsize=20)\n",
    "bp.tick_params(axis='y', which='major', labelsize=12, right='off')\n",
    "bp.tick_params(axis='x', which='major', labelsize=12, top='off')\n",
    "\n",
    "\n",
    "# Create a second row of x-axis labels for top subplot\n",
    "newax = bp.twiny()\n",
    "newax.xaxis.set_ticks_position('bottom')\n",
    "newax.xaxis.set_label_position('bottom')\n",
    "newax.spines['bottom'].set_position(('outward',25))\n",
    "newax.set_xticklabels(monthlengths,fontsize=10)\n",
    "\n",
    "\n",
    "# Plot horizontal gridlines onto top subplot\n",
    "bp.grid(axis='y', which='major', color='b', linestyle='-', alpha=0.25)\n",
    "\n",
    "\n",
    "# Remove tickmarks from bottom subplot\n",
    "bp2.axes.get_xaxis().set_visible(False)\n",
    "bp2.axes.get_yaxis().set_visible(False)"
   ]
  },
  {
   "cell_type": "code",
   "execution_count": null,
   "metadata": {},
   "outputs": [],
   "source": []
  },
  {
   "cell_type": "code",
   "execution_count": null,
   "metadata": {},
   "outputs": [],
   "source": []
  },
  {
   "cell_type": "code",
   "execution_count": null,
   "metadata": {},
   "outputs": [],
   "source": []
  },
  {
   "cell_type": "code",
   "execution_count": null,
   "metadata": {},
   "outputs": [],
   "source": []
  },
  {
   "cell_type": "code",
   "execution_count": null,
   "metadata": {},
   "outputs": [],
   "source": []
  },
  {
   "cell_type": "code",
   "execution_count": null,
   "metadata": {},
   "outputs": [],
   "source": []
  },
  {
   "cell_type": "code",
   "execution_count": null,
   "metadata": {},
   "outputs": [],
   "source": []
  },
  {
   "cell_type": "code",
   "execution_count": null,
   "metadata": {},
   "outputs": [],
   "source": []
  }
 ],
 "metadata": {
  "kernelspec": {
   "display_name": "Python 3",
   "language": "python",
   "name": "python3"
  },
  "language_info": {
   "codemirror_mode": {
    "name": "ipython",
    "version": 3
   },
   "file_extension": ".py",
   "mimetype": "text/x-python",
   "name": "python",
   "nbconvert_exporter": "python",
   "pygments_lexer": "ipython3",
   "version": "3.8.3"
  }
 },
 "nbformat": 4,
 "nbformat_minor": 4
}
