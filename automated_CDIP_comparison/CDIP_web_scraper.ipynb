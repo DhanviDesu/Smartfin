{
 "cells": [
  {
   "cell_type": "markdown",
   "metadata": {},
   "source": [
    "# CDIP Web Scraper"
   ]
  },
  {
   "cell_type": "code",
   "execution_count": 1,
   "metadata": {},
   "outputs": [
    {
     "name": "stdout",
     "output_type": "stream",
     "text": [
      "Requirement already satisfied: netCDF4 in c:\\users\\evans\\anaconda3\\lib\\site-packages (1.5.4)\n",
      "Requirement already satisfied: cftime in c:\\users\\evans\\anaconda3\\lib\\site-packages (from netCDF4) (1.2.1)\n",
      "Requirement already satisfied: numpy>=1.9 in c:\\users\\evans\\anaconda3\\lib\\site-packages (from netCDF4) (1.18.5)\n",
      "Note: you may need to restart the kernel to use updated packages.\n"
     ]
    }
   ],
   "source": [
    "pip install netCDF4"
   ]
  },
  {
   "cell_type": "markdown",
   "metadata": {},
   "source": [
    "### Import packages"
   ]
  },
  {
   "cell_type": "code",
   "execution_count": 2,
   "metadata": {},
   "outputs": [],
   "source": [
    "import pandas as pd\n",
    "import numpy as np\n",
    "import matplotlib.pyplot as plt\n",
    "import datetime\n",
    "import time\n",
    "from matplotlib import gridspec\n",
    "import netCDF4\n",
    "from bs4 import BeautifulSoup\n",
    "import requests"
   ]
  },
  {
   "cell_type": "markdown",
   "metadata": {},
   "source": [
    "### Constants"
   ]
  },
  {
   "cell_type": "code",
   "execution_count": 7,
   "metadata": {
    "scrolled": false
   },
   "outputs": [
    {
     "name": "stdout",
     "output_type": "stream",
     "text": [
      "fetching ride from: https://surf.smartfin.org/ride/15692\n",
      "fetching ocean data from: https://surf.smartfin.org/media/201811/google_105349665704999793400_0006667E229D_181109191556_Ocean.CSV\n",
      "fetching motion data from: https://surf.smartfin.org/media/201811/google_105349665704999793400_0006667E229D_181109191556_Motion.CSV\n",
      "ride already in here\n",
      "ride already in here\n"
     ]
    },
    {
     "name": "stderr",
     "output_type": "stream",
     "text": [
      "../smartfin_module\\smartfin_ride_api.py:463: SettingWithCopyWarning: \n",
      "A value is trying to be set on a copy of a slice from a DataFrame.\n",
      "Try using .loc[row_indexer,col_indexer] = value instead\n",
      "\n",
      "See the caveats in the documentation: https://pandas.pydata.org/pandas-docs/stable/user_guide/indexing.html#returning-a-view-versus-a-copy\n",
      "  odf['Time'] = [time / 1000 for time in odf['Time']]\n"
     ]
    }
   ],
   "source": [
    "# TODO: load station number and yeardate based on smartfin ride date input\n",
    "import sys\n",
    "# insert at 1, 0 is the script path (or '' in REPL)\n",
    "sys.path.insert(1, '../smartfin_module')\n",
    "\n",
    "from smartfin_ride_api import Ride\n",
    "\n",
    "ride = Ride()\n",
    "ride.add_rides(ride_ids=['15692'])\n",
    "dfs = ride.get_rides(ride_ids=['15692'])\n",
    "times = ride.get_ride_timeframes(ride_ids=['15692'])"
   ]
  },
  {
   "cell_type": "code",
   "execution_count": 13,
   "metadata": {},
   "outputs": [
    {
     "data": {
      "text/plain": [
       "{'15692': ['09/11/2018 19:16:03', '09/11/2018 20:38:15']}"
      ]
     },
     "execution_count": 13,
     "metadata": {},
     "output_type": "execute_result"
    }
   ],
   "source": [
    "times"
   ]
  },
  {
   "cell_type": "markdown",
   "metadata": {},
   "source": [
    "## Get nearest buoy function"
   ]
  },
  {
   "cell_type": "code",
   "execution_count": 8,
   "metadata": {
    "scrolled": true
   },
   "outputs": [
    {
     "name": "stdout",
     "output_type": "stream",
     "text": [
      "Unexpected error:  [Errno -90] NetCDF: file not found: b'http://thredds.cdip.ucsd.edu/thredds/dodsC/cdip/archive/248p1/248p1_historic.nc'\n",
      "247\n",
      "Unexpected error:  [Errno -90] NetCDF: file not found: b'http://thredds.cdip.ucsd.edu/thredds/dodsC/cdip/archive/245p1/245p1_historic.nc'\n",
      "244\n",
      "243\n",
      "240\n",
      "239\n",
      "238\n",
      "236\n",
      "233\n",
      "230\n",
      "226\n",
      "225\n",
      "224\n",
      "222\n",
      "221\n",
      "220\n",
      "217\n",
      "215\n",
      "214\n",
      "213\n",
      "209\n",
      "205\n",
      "204\n",
      "203\n",
      "201\n",
      "200\n",
      "198\n",
      "197\n",
      "196\n",
      "194\n",
      "192\n",
      "191\n",
      "189\n",
      "188\n",
      "187\n",
      "185\n",
      "181\n",
      "179\n",
      "433\n",
      "430\n",
      "171\n",
      "168\n",
      "166\n",
      "163\n",
      "162\n",
      "160\n",
      "158\n",
      "157\n",
      "155\n",
      "154\n",
      "Unexpected error:  [Errno -90] NetCDF: file not found: b'http://thredds.cdip.ucsd.edu/thredds/dodsC/cdip/archive/153p1/153p1_historic.nc'\n",
      "150\n",
      "147\n",
      "144\n",
      "143\n",
      "142\n",
      "139\n",
      "134\n",
      "132\n",
      "121\n",
      "106\n",
      "100\n",
      "098\n",
      "094\n",
      "092\n",
      "076\n",
      "071\n",
      "067\n",
      "045\n",
      "036\n",
      "029\n",
      "028\n",
      "no station found error\n"
     ]
    }
   ],
   "source": [
    "\n",
    "\n",
    "\n",
    "\n",
    "def get_nearest_buoy(latitude, longitude):\n",
    "    \n",
    "    # get all active buoys with archived data\n",
    "    # CDIP active buoys URL\n",
    "    url=\"http://cdip.ucsd.edu/m/deployment/station_view/?mode=active\"\n",
    "\n",
    "    # Make a GET request to fetch the raw HTML content\n",
    "    html_content = requests.get(url).text\n",
    "\n",
    "    # Parse the html content\n",
    "    soup = BeautifulSoup(html_content, \"lxml\")\n",
    "    table = soup.find(\"table\")\n",
    "    table_data = table.tbody.find_all(\"tr\")  # contains 2 rows\n",
    "    stns = []\n",
    "    for node in table_data:\n",
    "        try:\n",
    "            stn = node.findAll('td', text=True)[0]\n",
    "            stns.append(stn.text.strip(' '))\n",
    "        except:\n",
    "            continue\n",
    "            \n",
    "    stns.reverse()\n",
    "    \n",
    "    # intialize the lowest distance to be some rediculously big number\n",
    "    lowest_distance = 1000000000\n",
    "    stn = -1\n",
    "    longitude /= 100000\n",
    "    latitude /= 100000\n",
    "    \n",
    "    # iterate through 0-450 (station numbers are from 28-433 with gaps in between)\n",
    "    for i in stns:\n",
    "        \n",
    "        # format i into a 3 digit string\n",
    "        i = str(i)\n",
    "        if len(i) == 1:\n",
    "            i = '00' + i\n",
    "        elif len(i) == 2:\n",
    "            i = '0' + i\n",
    "        \n",
    "        # see if there is a station with the current iteration number\n",
    "        try:\n",
    "            data_url = 'http://thredds.cdip.ucsd.edu/thredds/dodsC/cdip/archive/' + i + 'p1/' + i+ 'p1_historic.nc'\n",
    "            nc = netCDF4.Dataset(data_url)\n",
    "\n",
    "            # get latitude and longitude of current station\n",
    "            nc_latitude = nc.variables['metaStationLatitude'][:]\n",
    "            nc_longitude = nc.variables['metaStationLongitude'][:]\n",
    "\n",
    "            print(i)\n",
    "            \n",
    "#             # if the current station distance is lower than the lowest distance so far, save it\n",
    "#             curr_distance = abs(nc_latitude - latitude) + abs(nc_longitude - longitude)\n",
    "#             if curr_distance < lowest_distance:\n",
    "#                 lowest_distance = curr_distance\n",
    "#                 stn = i\n",
    "#                 print('lower: ', i)\n",
    "#                 print(curr_distance)\n",
    "#             else: continue\n",
    "\n",
    "        except OSError as err:\n",
    "            print(\"Unexpected error: \", err)\n",
    "            continue\n",
    "    \n",
    "    if stn == -1:\n",
    "        print('no station found error')\n",
    "    return stn\n",
    "            \n",
    "\n",
    "stn = get_nearest_buoy(1, 1)            "
   ]
  },
  {
   "cell_type": "code",
   "execution_count": null,
   "metadata": {},
   "outputs": [],
   "source": [
    "stn"
   ]
  },
  {
   "cell_type": "code",
   "execution_count": null,
   "metadata": {},
   "outputs": [],
   "source": [
    "longitude"
   ]
  },
  {
   "cell_type": "markdown",
   "metadata": {},
   "source": [
    "## (DONT USE) get latitude and longitude of all buoys via webscrape to avoid too many netCDF requests\n",
    "\n",
    "first way was better and it seems like the amount of netCDF requests is fine"
   ]
  },
  {
   "cell_type": "code",
   "execution_count": null,
   "metadata": {},
   "outputs": [],
   "source": [
    "import re\n",
    "\n",
    "# # get all active buoys with archived data\n",
    "# # CDIP active buoys URL\n",
    "# url=\"http://cdip.ucsd.edu/m/deployment/station_view/?mode=active\"\n",
    "\n",
    "# # Make a GET request to fetch the raw HTML content\n",
    "# html_content = requests.get(url).text\n",
    "\n",
    "# # Parse the html content\n",
    "# soup = BeautifulSoup(html_content, \"lxml\")\n",
    "# table = soup.find(\"table\")\n",
    "# table_data = table.tbody.find_all(\"tr\")  # contains 2 rows\n",
    "# stns = []\n",
    "# for node in table_data:\n",
    "#     try:\n",
    "#         stn = node.findAll('td', text=True)[0]\n",
    "#         stns.append(stn.text.strip(' '))\n",
    "#     except:\n",
    "#         continue\n",
    "        \n",
    "# # format i into a 3 digit string\n",
    "# for i in range(len(stns)):\n",
    "#     stn = str(stns[i])\n",
    "#     if len(stn) == 1:\n",
    "#         stn = '00' + stn\n",
    "#     elif len(stn) == 2:\n",
    "#         stn = '0' + stn\n",
    "#     stns[i] = stn\n",
    "   \n",
    "\n",
    "# for stn in stns:\n",
    "#     stn_url = f'https://cdip.ucsd.edu/m/products/?stn={stn}p1'\n",
    "#     print(stn_url)\n",
    "#     station_content_html = requests.get(stn_url).text\n",
    "#     stn_soup = BeautifulSoup(station_content_html, 'html')\n",
    "#     strongs = stn_soup.find_all('strong', limit=9)\n",
    "#     latitude = strongs[7].text\n",
    "#     latitude = re.sub(\"[^0-9.-]\", \"\", latitude)\n",
    "\n",
    "#     longitude = strongs[8].text\n",
    "#     longitude = re.sub(\"[^0-9.-]\", \"\", longitude)\n",
    "    \n",
    "#     print(latitude)\n",
    "#     print(longitude)"
   ]
  },
  {
   "cell_type": "markdown",
   "metadata": {},
   "source": [
    "## find active buoy numbers function used above"
   ]
  },
  {
   "cell_type": "code",
   "execution_count": null,
   "metadata": {
    "scrolled": true
   },
   "outputs": [],
   "source": [
    "# CDIP Archived Dataset URL\n",
    "from bs4 import BeautifulSoup\n",
    "import requests\n",
    "\n",
    "url=\"http://cdip.ucsd.edu/m/deployment/station_view/?mode=active\"\n",
    "\n",
    "# Make a GET request to fetch the raw HTML content\n",
    "html_content = requests.get(url).text\n",
    "\n",
    "# Parse the html content\n",
    "soup = BeautifulSoup(html_content, \"lxml\")\n",
    "table = soup.find(\"table\")\n",
    "table_data = table.tbody.find_all(\"tr\")  # contains 2 rows\n",
    "nums = []\n",
    "for node in table_data:\n",
    "    try:\n",
    "        num = node.findAll('td', text=True)[0]\n",
    "        nums.append(num.text.strip(' '))\n",
    "    except:\n",
    "        continue\n",
    "        \n",
    "nums"
   ]
  },
  {
   "cell_type": "markdown",
   "metadata": {},
   "source": [
    "### Read vars from CDIP THREDDS Server Dataset"
   ]
  },
  {
   "cell_type": "code",
   "execution_count": 19,
   "metadata": {},
   "outputs": [
    {
     "name": "stdout",
     "output_type": "stream",
     "text": [
      "14732\n",
      "hs length:  14732\n",
      "ncTime length:  14732\n",
      "[1065203849 1065205649 1065207449 ... 1091715978 1091717778 1091719579]\n",
      "[1065202109 1065203909 1065205709 ... 1091714238 1091716038 1091717839]\n"
     ]
    }
   ],
   "source": [
    "# netCDF data object fetched from CDIP API\n",
    "data_url = 'http://thredds.cdip.ucsd.edu/thredds/dodsC/cdip/archive/' + '124' + 'p1/' + '124'+ 'p1_historic.nc'\n",
    "\n",
    "nc = netCDF4.Dataset(data_url)\n",
    "\n",
    "# UNIX based time from 1991-yeardate in 30 minute increments\n",
    "ncTime = nc.variables['sstTime'][:]\n",
    "timeall = [datetime.datetime.fromtimestamp(t) for t in ncTime]\n",
    "waveTime = nc.variables['waveTime'][:]\n",
    "\n",
    "print(len(waveTime))\n",
    "\n",
    "# wave heights\n",
    "Hs = nc.variables['waveHs']\n",
    "print(\"hs length: \", len(Hs))\n",
    "print(\"ncTime length: \", len(ncTime))\n",
    "\n",
    "print(ncTime)\n",
    "print(waveTime)"
   ]
  },
  {
   "cell_type": "code",
   "execution_count": 20,
   "metadata": {},
   "outputs": [],
   "source": [
    "# Find nearest value in ncTime array to inputted UNIX Timestamp\n",
    "def find_nearest(array,value):\n",
    "    idx = (np.abs(array-value)).argmin()\n",
    "    print('index:',idx)\n",
    "    return array[idx]"
   ]
  },
  {
   "cell_type": "markdown",
   "metadata": {},
   "source": [
    "### Convert human time to UNIX time"
   ]
  },
  {
   "cell_type": "code",
   "execution_count": 21,
   "metadata": {},
   "outputs": [],
   "source": [
    "# Convert human-formatted date to UNIX timestamp\n",
    "def getUnixTimestamp(humanTime,dateFormat):\n",
    "    unixTimestamp = int(time.mktime(datetime.datetime.strptime(humanTime, dateFormat).timetuple()))\n",
    "    print('humanTime: ', humanTime)\n",
    "    print('UNIX Timestamp: ', unixTimestamp)\n",
    "    return unixTimestamp"
   ]
  },
  {
   "cell_type": "markdown",
   "metadata": {},
   "source": [
    "## Time Index Values\n",
    "\n",
    "Find the UNIX values that correspond to start (Day 1) and end (Day 28) dates for each month. Then find the array index numbers for each UNIX value within the 'ncTime' arrays."
   ]
  },
  {
   "cell_type": "code",
   "execution_count": 26,
   "metadata": {},
   "outputs": [
    {
     "name": "stdout",
     "output_type": "stream",
     "text": [
      "humanTime:  09/11/2018 19:16:03\n",
      "UNIX Timestamp:  1541819763\n",
      "index: 14731\n",
      "humanTime:  09/11/2018 20:38:15\n",
      "UNIX Timestamp:  1541824695\n",
      "index: 14731\n"
     ]
    }
   ],
   "source": [
    "# # Create array of lists of Hs data for each month \n",
    "\n",
    "# timeindex_start = []\n",
    "# timeindex_end = []\n",
    "# monthcount = 0\n",
    "start_date = times['15692'][0]\n",
    "end_date = times['15692'][1]\n",
    "\n",
    "unixstart = getUnixTimestamp(start_date, \"%d/%m/%Y %H:%M:%S\")\n",
    "nearest_date = find_nearest(waveTime, unixstart)  # Find the closest unix timestamp\n",
    "start_index = np.where(waveTime==nearest_date)[0][0]  # Grab the index number of found date\n",
    "\n",
    "unixend = getUnixTimestamp(end_date,\"%d/%m/%Y %H:%M:%S\")\n",
    "future_date = find_nearest(waveTime, unixend)  # Find the closest unix timestamp\n",
    "end_index = np.where(waveTime==future_date)[0][0]  # Grab the index number of found date    \n",
    "\n",
    "# timeindex_start.append(start_index) # Append 'month start date' and 'month end date' index numbers for each month to corresponding array\n",
    "# timeindex_end.append(end_index)\n",
    "# 1536718563\n",
    "# 1536723495\n",
    "# 309100"
   ]
  },
  {
   "cell_type": "code",
   "execution_count": 27,
   "metadata": {},
   "outputs": [
    {
     "name": "stdout",
     "output_type": "stream",
     "text": [
      "14717\n",
      "14717\n"
     ]
    }
   ],
   "source": [
    "start_index -= 14\n",
    "end_index -= 14\n",
    "\n",
    "print(start_index)\n",
    "print(end_index)"
   ]
  },
  {
   "cell_type": "markdown",
   "metadata": {},
   "source": [
    "### Calculate mean wave heights of each month\n",
    "\n",
    "Create array of month-long chunks of Hs data, to be plotted as a series of boxplots. Use a for-loop to cycle through the Hs variable and define each month-long array using the above-specified time index numbers."
   ]
  },
  {
   "cell_type": "code",
   "execution_count": 24,
   "metadata": {},
   "outputs": [
    {
     "name": "stdout",
     "output_type": "stream",
     "text": [
      "0\n",
      "Hs length:  14732\n",
      "times length:  14732\n",
      "0\n",
      "[]\n",
      "[nan]\n",
      "nan\n",
      "mean wave height: [nan]\n"
     ]
    },
    {
     "name": "stderr",
     "output_type": "stream",
     "text": [
      "C:\\Users\\evans\\anaconda3\\lib\\site-packages\\numpy\\ma\\core.py:5215: RuntimeWarning: Mean of empty slice.\n",
      "  result = super(MaskedArray, self).mean(axis=axis,\n",
      "C:\\Users\\evans\\anaconda3\\lib\\site-packages\\numpy\\core\\_methods.py:153: RuntimeWarning: invalid value encountered in true_divide\n",
      "  ret = um.true_divide(\n"
     ]
    },
    {
     "data": {
      "text/plain": [
       "array([], dtype=float32)"
      ]
     },
     "execution_count": 24,
     "metadata": {},
     "output_type": "execute_result"
    }
   ],
   "source": [
    "box_data = []\n",
    "i = 0\n",
    "print(start_index - end_index)\n",
    "print('Hs length: ', len(Hs))\n",
    "print('times length: ', len(ncTime))\n",
    "# all wave height averages per 30 minute increments over each month\n",
    "ride_hs = Hs[start_index:end_index]\n",
    "i = i+1\n",
    "print(len(ride_hs))\n",
    "print(ride_hs)\n",
    "    \n",
    "# append each dataset to the box data\n",
    "box_data.append(ride_hs)\n",
    "    \n",
    "# calculate means of each month dataset in box_data\n",
    "means = np.asarray([np.mean(m) for m in box_data]) \n",
    "\n",
    "# Round each monthly mean value to 2 decimal points, for plotting\n",
    "meansround = [round(k,2) for k in means] \n",
    "print(means)\n",
    "print(ride_hs.mean())\n",
    "print('mean wave height:', meansround)\n",
    "ride_hs.data"
   ]
  },
  {
   "cell_type": "markdown",
   "metadata": {},
   "source": [
    "Calculate the number of instances of the variable being incorporated into each month-long average"
   ]
  },
  {
   "cell_type": "code",
   "execution_count": null,
   "metadata": {},
   "outputs": [],
   "source": [
    "monthlengths = []\n",
    "j = 0\n",
    "\n",
    "for Hs in range(len(Hs[start_index])):\n",
    "    \n",
    "    # how many readings were recorded during that month\n",
    "    monthlenHs = len(Hs[start_index[j]:start_index[j]])\n",
    "    j = j+1\n",
    "    monthlengths.append(monthlenHs)\n",
    "    \n",
    "monthlengths"
   ]
  },
  {
   "cell_type": "markdown",
   "metadata": {},
   "source": [
    "## Plot Wave Time-Series\n",
    "* Create boxplot graph of month-long datasets\n",
    "* Each box includes:\n",
    "    - Median (red line)\n",
    "    - 25th and 75th percentiles (top and bottom of box)\n",
    "    - Remaining data within 1.5L above and below (whiskers) the quartiles, where L = length (m) from 25th to 75th percentile\n",
    "    - Outliers (red crosses) - data beyond whiskers\n",
    "    - Mean position (green line) and value (green number)\n",
    "* Adjust colors and labels of graphical display\n",
    "* Include a second plot of a sample 'legend' boxplot"
   ]
  },
  {
   "cell_type": "code",
   "execution_count": null,
   "metadata": {},
   "outputs": [],
   "source": [
    "# Create overall figure and specify size, and grid to specify positions of subplots\n",
    "fig = plt.figure(figsize=(12,15)) \n",
    "gs = gridspec.GridSpec(2,2,height_ratios=[5,1]) \n",
    "\n",
    "\n",
    "# Create a dataset for sample 'legend' boxplot, to go underneath actual boxplot\n",
    "bp_sample2 = np.random.normal(2.5,0.5,500)\n",
    "\n",
    "\n",
    "# Create two subplots - actual monthly-averaged data (top) and example 'legend' boxplot (bottom)\n",
    "\n",
    "# Subplot of monthly-averaged boxplot data\n",
    "bp = plt.subplot(gs[0,:])\n",
    "bp_data = bp.boxplot(box_data) # Add 'meanlineprops' to include the above-defined properties\n",
    "bp.scatter(months,means,marker=\"_\",color='g',linewidths=2.5,s=900) # Overlay monthly means as green lines using 'scatter' function.\n",
    "\n",
    "# Subplot to show example 'legend' boxplot below actual monthly-averaged boxplot graph\n",
    "bp2 = plt.subplot(gs[1,1:-1])\n",
    "bp2_example = bp2.boxplot(bp_sample2,vert=False) # Plot horizontal example boxplot with labels\n",
    "bp2.scatter(2.3,1,marker=\"|\",color='g',linewidths=2.5,s=400)\n",
    "\n",
    "\n",
    "# Add values of monthly means as text\n",
    "for i, txt in enumerate(meansround):\n",
    "    bp.annotate(txt, (months[i],means[i]),fontsize=12,horizontalalignment='center',verticalalignment='bottom',color='g')\n",
    "\n",
    "    \n",
    "# Get positions of Median, Quartiles and Outliers to use in 'legend' text labels \n",
    "for line in bp2_example['medians']:\n",
    "    xm, ym = line.get_xydata()[0] # location of Median line   \n",
    "for line in bp2_example['boxes']:\n",
    "    xb, yb = line.get_xydata()[0] # location of Box edges (Quartiles)\n",
    "for line in bp2_example['whiskers']:\n",
    "    xw, yw = line.get_xydata()[0] # location of Whisker ends (Outliers)\n",
    "    \n",
    "\n",
    "# Add text labels for 'Median', Mean', '25th/75th %iles' and 'Outliers' to subplot2, to create sample 'legend' boxplot\n",
    "bp2.annotate(\"Median\",[xm,ym-0.3*ym],fontsize=14,color='r')\n",
    "bp2.annotate(\"Mean\",[2.2,0.65],fontsize=14,color='g')\n",
    "bp2.annotate(\"25%ile\",[xb-0.01*xb,yb-0.15*yb],fontsize=12)\n",
    "bp2.annotate(\"75%ile\",[xb+0.2*xb,yb-0.15*yb],fontsize=12)\n",
    "bp2.annotate(\"Outliers\",[xw+0.38*xw,yw-0.3*yw],fontsize=14,color='r')\n",
    "\n",
    " \n",
    "# Set colors of box aspects for top subplot    \n",
    "pylab.setp(bp_data['boxes'], color='black')\n",
    "pylab.setp(bp_data['whiskers'], color='black')\n",
    "pylab.setp(bp_data['fliers'], color='r')\n",
    "\n",
    "\n",
    "# Set colors of box aspects for bottom (sample) subplot   \n",
    "pylab.setp(bp2_example['boxes'], color='black')\n",
    "pylab.setp(bp2_example['whiskers'], color='black')\n",
    "pylab.setp(bp2_example['fliers'], color='r')\n",
    "\n",
    "\n",
    "# Set Titles\n",
    "plt.suptitle(buoytitle, fontsize=30, y=0.97) # Overall plot title using 'buoytitle' variable\n",
    "bp.set_title(\"Significant Wave Height by month for \" + year_date, fontsize=20, y=1.01) # Subtitle for top plot\n",
    "# bp2.set_title(\"Sample Boxplot\", fontsize=16, y=1.02) # Subtitle for bottom plot\n",
    "\n",
    "\n",
    "# Set axes labels and ticks\n",
    "bp.set_xticklabels(['ride'],fontsize=12)\n",
    "bp.set_ylabel('Significant Wave Height, Hs (m)', fontsize=20)\n",
    "bp.tick_params(axis='y', which='major', labelsize=12, right='off')\n",
    "bp.tick_params(axis='x', which='major', labelsize=12, top='off')\n",
    "\n",
    "\n",
    "# Create a second row of x-axis labels for top subplot\n",
    "newax = bp.twiny()\n",
    "newax.xaxis.set_ticks_position('bottom')\n",
    "newax.xaxis.set_label_position('bottom')\n",
    "newax.spines['bottom'].set_position(('outward',25))\n",
    "newax.set_xticklabels(monthlengths,fontsize=10)\n",
    "\n",
    "\n",
    "# Plot horizontal gridlines onto top subplot\n",
    "bp.grid(axis='y', which='major', color='b', linestyle='-', alpha=0.25)\n",
    "\n",
    "\n",
    "# Remove tickmarks from bottom subplot\n",
    "bp2.axes.get_xaxis().set_visible(False)\n",
    "bp2.axes.get_yaxis().set_visible(False)"
   ]
  },
  {
   "cell_type": "code",
   "execution_count": null,
   "metadata": {},
   "outputs": [],
   "source": []
  },
  {
   "cell_type": "code",
   "execution_count": null,
   "metadata": {},
   "outputs": [],
   "source": []
  },
  {
   "cell_type": "code",
   "execution_count": null,
   "metadata": {},
   "outputs": [],
   "source": []
  },
  {
   "cell_type": "code",
   "execution_count": null,
   "metadata": {},
   "outputs": [],
   "source": []
  },
  {
   "cell_type": "code",
   "execution_count": null,
   "metadata": {},
   "outputs": [],
   "source": []
  },
  {
   "cell_type": "code",
   "execution_count": null,
   "metadata": {},
   "outputs": [],
   "source": []
  },
  {
   "cell_type": "code",
   "execution_count": null,
   "metadata": {},
   "outputs": [],
   "source": []
  },
  {
   "cell_type": "code",
   "execution_count": null,
   "metadata": {},
   "outputs": [],
   "source": []
  }
 ],
 "metadata": {
  "kernelspec": {
   "display_name": "Python 3",
   "language": "python",
   "name": "python3"
  },
  "language_info": {
   "codemirror_mode": {
    "name": "ipython",
    "version": 3
   },
   "file_extension": ".py",
   "mimetype": "text/x-python",
   "name": "python",
   "nbconvert_exporter": "python",
   "pygments_lexer": "ipython3",
   "version": "3.8.3"
  }
 },
 "nbformat": 4,
 "nbformat_minor": 4
}
