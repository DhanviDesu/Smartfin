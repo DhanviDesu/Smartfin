{
 "cells": [
  {
   "cell_type": "code",
   "execution_count": 7,
   "metadata": {},
   "outputs": [],
   "source": [
    "from smartfin_web_scraper import Ride"
   ]
  },
  {
   "cell_type": "code",
   "execution_count": 8,
   "metadata": {},
   "outputs": [
    {
     "ename": "TypeError",
     "evalue": "__init__() missing 1 required positional argument: 'data'",
     "output_type": "error",
     "traceback": [
      "\u001b[0;31m---------------------------------------------------------------------------\u001b[0m",
      "\u001b[0;31mTypeError\u001b[0m                                 Traceback (most recent call last)",
      "\u001b[0;32m<ipython-input-8-75d2580b5d6f>\u001b[0m in \u001b[0;36m<module>\u001b[0;34m\u001b[0m\n\u001b[0;32m----> 1\u001b[0;31m \u001b[0mride\u001b[0m \u001b[0;34m=\u001b[0m \u001b[0mRide\u001b[0m\u001b[0;34m(\u001b[0m\u001b[0;34m'15692'\u001b[0m\u001b[0;34m)\u001b[0m\u001b[0;34m\u001b[0m\u001b[0;34m\u001b[0m\u001b[0m\n\u001b[0m\u001b[1;32m      2\u001b[0m \u001b[0mstart_time\u001b[0m\u001b[0;34m,\u001b[0m \u001b[0mend_time\u001b[0m\u001b[0;34m,\u001b[0m \u001b[0myear_date\u001b[0m \u001b[0;34m=\u001b[0m \u001b[0mride\u001b[0m\u001b[0;34m.\u001b[0m\u001b[0mget_ride_timeframe\u001b[0m\u001b[0;34m(\u001b[0m\u001b[0;34m)\u001b[0m\u001b[0;34m\u001b[0m\u001b[0;34m\u001b[0m\u001b[0m\n",
      "\u001b[0;31mTypeError\u001b[0m: __init__() missing 1 required positional argument: 'data'"
     ]
    }
   ],
   "source": [
    "ride = Ride('15692')\n",
    "start_time, end_time, year_date = ride.get_ride_timeframe()"
   ]
  },
  {
   "cell_type": "code",
   "execution_count": 9,
   "metadata": {},
   "outputs": [
    {
     "data": {
      "text/plain": [
       "'09/11/2018 19:16:03'"
      ]
     },
     "execution_count": 9,
     "metadata": {},
     "output_type": "execute_result"
    }
   ],
   "source": [
    "start_time"
   ]
  },
  {
   "cell_type": "code",
   "execution_count": 10,
   "metadata": {},
   "outputs": [
    {
     "data": {
      "text/plain": [
       "'09/11/2018 20:38:15'"
      ]
     },
     "execution_count": 10,
     "metadata": {},
     "output_type": "execute_result"
    }
   ],
   "source": [
    "end_time"
   ]
  },
  {
   "cell_type": "code",
   "execution_count": 11,
   "metadata": {},
   "outputs": [
    {
     "ename": "NameError",
     "evalue": "name 'year_date' is not defined",
     "output_type": "error",
     "traceback": [
      "\u001b[0;31m---------------------------------------------------------------------------\u001b[0m",
      "\u001b[0;31mNameError\u001b[0m                                 Traceback (most recent call last)",
      "\u001b[0;32m<ipython-input-11-5f7364690a87>\u001b[0m in \u001b[0;36m<module>\u001b[0;34m\u001b[0m\n\u001b[0;32m----> 1\u001b[0;31m \u001b[0myear_date\u001b[0m\u001b[0;34m\u001b[0m\u001b[0;34m\u001b[0m\u001b[0m\n\u001b[0m",
      "\u001b[0;31mNameError\u001b[0m: name 'year_date' is not defined"
     ]
    }
   ],
   "source": [
    "year_date"
   ]
  },
  {
   "cell_type": "code",
   "execution_count": 1,
   "metadata": {},
   "outputs": [],
   "source": [
    "from smartfin_web_scraper import Ride"
   ]
  },
  {
   "cell_type": "code",
   "execution_count": 2,
   "metadata": {},
   "outputs": [
    {
     "name": "stdout",
     "output_type": "stream",
     "text": [
      "fetching ride from: https://surf.smartfin.org/ride/15692\n",
      "fetching motion data from: https://surf.smartfin.org/media/201811/google_105349665704999793400_0006667E229D_181109191556_Motion.CSV\n"
     ]
    }
   ],
   "source": [
    "ride = Ride('15692', data='motion')\n",
    "start_time, end_time = ride.get_ride_timeframe()"
   ]
  },
  {
   "cell_type": "code",
   "execution_count": 3,
   "metadata": {},
   "outputs": [
    {
     "data": {
      "text/plain": [
       "'09/11/2018 19:16:03'"
      ]
     },
     "execution_count": 3,
     "metadata": {},
     "output_type": "execute_result"
    }
   ],
   "source": [
    "start_time"
   ]
  },
  {
   "cell_type": "code",
   "execution_count": 4,
   "metadata": {},
   "outputs": [
    {
     "data": {
      "text/plain": [
       "'09/11/2018 20:38:15'"
      ]
     },
     "execution_count": 4,
     "metadata": {},
     "output_type": "execute_result"
    }
   ],
   "source": [
    "end_time"
   ]
  },
  {
   "cell_type": "code",
   "execution_count": 5,
   "metadata": {},
   "outputs": [
    {
     "data": {
      "text/html": [
       "<div>\n",
       "<style scoped>\n",
       "    .dataframe tbody tr th:only-of-type {\n",
       "        vertical-align: middle;\n",
       "    }\n",
       "\n",
       "    .dataframe tbody tr th {\n",
       "        vertical-align: top;\n",
       "    }\n",
       "\n",
       "    .dataframe thead th {\n",
       "        text-align: right;\n",
       "    }\n",
       "</style>\n",
       "<table border=\"1\" class=\"dataframe\">\n",
       "  <thead>\n",
       "    <tr style=\"text-align: right;\">\n",
       "      <th></th>\n",
       "      <th>Time</th>\n",
       "      <th>IMU A1</th>\n",
       "      <th>IMU A2</th>\n",
       "      <th>IMU A3</th>\n",
       "      <th>IMU G1</th>\n",
       "      <th>IMU G2</th>\n",
       "      <th>IMU G3</th>\n",
       "      <th>IMU M1</th>\n",
       "      <th>IMU M2</th>\n",
       "      <th>IMU M3</th>\n",
       "      <th>elapsed</th>\n",
       "    </tr>\n",
       "    <tr>\n",
       "      <th>UTC</th>\n",
       "      <th></th>\n",
       "      <th></th>\n",
       "      <th></th>\n",
       "      <th></th>\n",
       "      <th></th>\n",
       "      <th></th>\n",
       "      <th></th>\n",
       "      <th></th>\n",
       "      <th></th>\n",
       "      <th></th>\n",
       "      <th></th>\n",
       "    </tr>\n",
       "  </thead>\n",
       "  <tbody>\n",
       "    <tr>\n",
       "      <th>2018-11-09 19:16:03.809000+00:00</th>\n",
       "      <td>1414742887</td>\n",
       "      <td>493.0</td>\n",
       "      <td>48.0</td>\n",
       "      <td>110.0</td>\n",
       "      <td>75.0</td>\n",
       "      <td>-124.0</td>\n",
       "      <td>-86.0</td>\n",
       "      <td>-309.0</td>\n",
       "      <td>209.0</td>\n",
       "      <td>39.0</td>\n",
       "      <td>0.003</td>\n",
       "    </tr>\n",
       "    <tr>\n",
       "      <th>2018-11-09 19:16:04.061000+00:00</th>\n",
       "      <td>1414743138</td>\n",
       "      <td>513.0</td>\n",
       "      <td>89.0</td>\n",
       "      <td>62.0</td>\n",
       "      <td>34.0</td>\n",
       "      <td>-36.0</td>\n",
       "      <td>-92.0</td>\n",
       "      <td>-320.0</td>\n",
       "      <td>194.0</td>\n",
       "      <td>38.0</td>\n",
       "      <td>0.255</td>\n",
       "    </tr>\n",
       "    <tr>\n",
       "      <th>2018-11-09 19:16:04.312000+00:00</th>\n",
       "      <td>1414743387</td>\n",
       "      <td>494.0</td>\n",
       "      <td>92.0</td>\n",
       "      <td>80.0</td>\n",
       "      <td>69.0</td>\n",
       "      <td>-63.0</td>\n",
       "      <td>-42.0</td>\n",
       "      <td>-329.0</td>\n",
       "      <td>189.0</td>\n",
       "      <td>49.0</td>\n",
       "      <td>0.506</td>\n",
       "    </tr>\n",
       "    <tr>\n",
       "      <th>2018-11-09 19:16:04.565000+00:00</th>\n",
       "      <td>1414743639</td>\n",
       "      <td>421.0</td>\n",
       "      <td>205.0</td>\n",
       "      <td>-104.0</td>\n",
       "      <td>192.0</td>\n",
       "      <td>-92.0</td>\n",
       "      <td>-37.0</td>\n",
       "      <td>-330.0</td>\n",
       "      <td>180.0</td>\n",
       "      <td>64.0</td>\n",
       "      <td>0.759</td>\n",
       "    </tr>\n",
       "    <tr>\n",
       "      <th>2018-11-09 19:16:04.817000+00:00</th>\n",
       "      <td>1414743889</td>\n",
       "      <td>534.0</td>\n",
       "      <td>306.0</td>\n",
       "      <td>-32.0</td>\n",
       "      <td>-421.0</td>\n",
       "      <td>-233.0</td>\n",
       "      <td>-229.0</td>\n",
       "      <td>-325.0</td>\n",
       "      <td>161.0</td>\n",
       "      <td>97.0</td>\n",
       "      <td>1.011</td>\n",
       "    </tr>\n",
       "  </tbody>\n",
       "</table>\n",
       "</div>"
      ],
      "text/plain": [
       "                                        Time  IMU A1  IMU A2  IMU A3  IMU G1  \\\n",
       "UTC                                                                            \n",
       "2018-11-09 19:16:03.809000+00:00  1414742887   493.0    48.0   110.0    75.0   \n",
       "2018-11-09 19:16:04.061000+00:00  1414743138   513.0    89.0    62.0    34.0   \n",
       "2018-11-09 19:16:04.312000+00:00  1414743387   494.0    92.0    80.0    69.0   \n",
       "2018-11-09 19:16:04.565000+00:00  1414743639   421.0   205.0  -104.0   192.0   \n",
       "2018-11-09 19:16:04.817000+00:00  1414743889   534.0   306.0   -32.0  -421.0   \n",
       "\n",
       "                                  IMU G2  IMU G3  IMU M1  IMU M2  IMU M3  \\\n",
       "UTC                                                                        \n",
       "2018-11-09 19:16:03.809000+00:00  -124.0   -86.0  -309.0   209.0    39.0   \n",
       "2018-11-09 19:16:04.061000+00:00   -36.0   -92.0  -320.0   194.0    38.0   \n",
       "2018-11-09 19:16:04.312000+00:00   -63.0   -42.0  -329.0   189.0    49.0   \n",
       "2018-11-09 19:16:04.565000+00:00   -92.0   -37.0  -330.0   180.0    64.0   \n",
       "2018-11-09 19:16:04.817000+00:00  -233.0  -229.0  -325.0   161.0    97.0   \n",
       "\n",
       "                                  elapsed  \n",
       "UTC                                        \n",
       "2018-11-09 19:16:03.809000+00:00    0.003  \n",
       "2018-11-09 19:16:04.061000+00:00    0.255  \n",
       "2018-11-09 19:16:04.312000+00:00    0.506  \n",
       "2018-11-09 19:16:04.565000+00:00    0.759  \n",
       "2018-11-09 19:16:04.817000+00:00    1.011  "
      ]
     },
     "execution_count": 5,
     "metadata": {},
     "output_type": "execute_result"
    }
   ],
   "source": [
    "ride.get_ride_dataframe().head()"
   ]
  },
  {
   "cell_type": "code",
   "execution_count": 6,
   "metadata": {},
   "outputs": [
    {
     "name": "stdout",
     "output_type": "stream",
     "text": [
      "retriving CDIP wave heights from: http://thredds.cdip.ucsd.edu/thredds/dodsC/cdip/archive/067p1/067p1_historic.nc\n",
      "calculating significant wave height between 09/11/2018 19:16:03 - 09/11/2018 20:38:15\n",
      "mean wave height: 2.1633331775665283\n"
     ]
    }
   ],
   "source": [
    "mean, means = ride.get_CDIP_heights('067')"
   ]
  },
  {
   "cell_type": "code",
   "execution_count": 7,
   "metadata": {},
   "outputs": [
    {
     "data": {
      "text/plain": [
       "2.1633332"
      ]
     },
     "execution_count": 7,
     "metadata": {},
     "output_type": "execute_result"
    }
   ],
   "source": [
    "mean"
   ]
  },
  {
   "cell_type": "code",
   "execution_count": 8,
   "metadata": {},
   "outputs": [
    {
     "data": {
      "text/plain": [
       "array([2.3 , 2.15, 2.04], dtype=float32)"
      ]
     },
     "execution_count": 8,
     "metadata": {},
     "output_type": "execute_result"
    }
   ],
   "source": [
    "means"
   ]
  },
  {
   "cell_type": "code",
   "execution_count": null,
   "metadata": {},
   "outputs": [],
   "source": []
  }
 ],
 "metadata": {
  "kernelspec": {
   "display_name": "Python 3",
   "language": "python",
   "name": "python3"
  },
  "language_info": {
   "codemirror_mode": {
    "name": "ipython",
    "version": 3
   },
   "file_extension": ".py",
   "mimetype": "text/x-python",
   "name": "python",
   "nbconvert_exporter": "python",
   "pygments_lexer": "ipython3",
   "version": "3.8.3"
  }
 },
 "nbformat": 4,
 "nbformat_minor": 4
}
