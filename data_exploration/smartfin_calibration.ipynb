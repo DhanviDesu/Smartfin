{
 "cells": [
  {
   "cell_type": "code",
   "execution_count": 1,
   "metadata": {},
   "outputs": [],
   "source": [
    "import pandas as pd\n",
    "import numpy as np\n",
    "from sklearn import preprocessing\n",
    "import matplotlib.pyplot as plt\n",
    "\n",
    "plt.rc(\"font\", size=14) \n",
    "\n",
    "from sklearn.linear_model import LogisticRegression\n",
    "from sklearn.model_selection import train_test_split\n",
    "import seaborn as sns\n",
    "sns.set(style=\"white\")\n",
    "sns.set(style=\"whitegrid\", color_codes=True)\n",
    "\n",
    "import matplotlib\n",
    "import matplotlib.pyplot as plt\n",
    "import matplotlib.dates as mdates\n",
    "\n",
    "#from mpl_toolkits.basemap import Basemap\n",
    "\n",
    "\n",
    "import os\n",
    "import datetime\n",
    "import pytz\n",
    "import re\n",
    "\n",
    "import peakutils\n",
    "import statsmodels.api as sm\n",
    "\n",
    "import requests"
   ]
  },
  {
   "cell_type": "code",
   "execution_count": 2,
   "metadata": {},
   "outputs": [],
   "source": [
    "import sys\n",
    "sys.path.append('../smartfin_module')\n",
    "from smartfin_ride_api import Ride\n",
    "ride = Ride()\n",
    "\n",
    "ride_ids = ['14814']"
   ]
  },
  {
   "cell_type": "code",
   "execution_count": 3,
   "metadata": {},
   "outputs": [
    {
     "name": "stdout",
     "output_type": "stream",
     "text": [
      "fetching ride from: https://surf.smartfin.org/ride/14814\n",
      "fetching ocean data from: https://surf.smartfin.org/media/201807/google_117589279598321562176_000666D321BE_180717191228_Ocean.CSV\n",
      "fetching motion data from: https://surf.smartfin.org/media/201807/google_117589279598321562176_000666D321BE_180717191228_Motion.CSV\n"
     ]
    }
   ],
   "source": [
    "dfs = ride.get_rides(ride_ids, data='motion', convert_imu=True)"
   ]
  },
  {
   "cell_type": "code",
   "execution_count": 5,
   "metadata": {},
   "outputs": [
    {
     "data": {
      "text/html": [
       "<div>\n",
       "<style scoped>\n",
       "    .dataframe tbody tr th:only-of-type {\n",
       "        vertical-align: middle;\n",
       "    }\n",
       "\n",
       "    .dataframe tbody tr th {\n",
       "        vertical-align: top;\n",
       "    }\n",
       "\n",
       "    .dataframe thead th {\n",
       "        text-align: right;\n",
       "    }\n",
       "</style>\n",
       "<table border=\"1\" class=\"dataframe\">\n",
       "  <thead>\n",
       "    <tr style=\"text-align: right;\">\n",
       "      <th></th>\n",
       "      <th>Time</th>\n",
       "      <th>IMU A1</th>\n",
       "      <th>IMU A2</th>\n",
       "      <th>IMU A3</th>\n",
       "      <th>IMU G1</th>\n",
       "      <th>IMU G2</th>\n",
       "      <th>IMU G3</th>\n",
       "      <th>IMU M1</th>\n",
       "      <th>IMU M2</th>\n",
       "      <th>IMU M3</th>\n",
       "      <th>TimeDelta</th>\n",
       "    </tr>\n",
       "    <tr>\n",
       "      <th>UTC</th>\n",
       "      <th></th>\n",
       "      <th></th>\n",
       "      <th></th>\n",
       "      <th></th>\n",
       "      <th></th>\n",
       "      <th></th>\n",
       "      <th></th>\n",
       "      <th></th>\n",
       "      <th></th>\n",
       "      <th></th>\n",
       "      <th></th>\n",
       "    </tr>\n",
       "  </thead>\n",
       "  <tbody>\n",
       "    <tr>\n",
       "      <th>2018-07-17 19:12:37.968000+00:00</th>\n",
       "      <td>793390.849</td>\n",
       "      <td>337.0</td>\n",
       "      <td>-7.661445</td>\n",
       "      <td>354.0</td>\n",
       "      <td>-24.0</td>\n",
       "      <td>-11.0</td>\n",
       "      <td>-97.0</td>\n",
       "      <td>27.0</td>\n",
       "      <td>1.0</td>\n",
       "      <td>181.0</td>\n",
       "      <td>0.0</td>\n",
       "    </tr>\n",
       "    <tr>\n",
       "      <th>2018-07-17 19:12:38.232000+00:00</th>\n",
       "      <td>793391.099</td>\n",
       "      <td>354.0</td>\n",
       "      <td>-7.776367</td>\n",
       "      <td>315.0</td>\n",
       "      <td>-131.0</td>\n",
       "      <td>-237.0</td>\n",
       "      <td>-18.0</td>\n",
       "      <td>15.0</td>\n",
       "      <td>15.0</td>\n",
       "      <td>179.0</td>\n",
       "      <td>250.0</td>\n",
       "    </tr>\n",
       "    <tr>\n",
       "      <th>2018-07-17 19:12:38.496000+00:00</th>\n",
       "      <td>793391.351</td>\n",
       "      <td>342.0</td>\n",
       "      <td>-9.519346</td>\n",
       "      <td>349.0</td>\n",
       "      <td>44.0</td>\n",
       "      <td>256.0</td>\n",
       "      <td>19.0</td>\n",
       "      <td>7.0</td>\n",
       "      <td>21.0</td>\n",
       "      <td>175.0</td>\n",
       "      <td>502.0</td>\n",
       "    </tr>\n",
       "    <tr>\n",
       "      <th>2018-07-17 19:12:38.727000+00:00</th>\n",
       "      <td>793391.601</td>\n",
       "      <td>312.0</td>\n",
       "      <td>-10.438719</td>\n",
       "      <td>395.0</td>\n",
       "      <td>-57.0</td>\n",
       "      <td>126.0</td>\n",
       "      <td>99.0</td>\n",
       "      <td>21.0</td>\n",
       "      <td>45.0</td>\n",
       "      <td>125.0</td>\n",
       "      <td>752.0</td>\n",
       "    </tr>\n",
       "    <tr>\n",
       "      <th>2018-07-17 19:12:38.991000+00:00</th>\n",
       "      <td>793391.853</td>\n",
       "      <td>202.0</td>\n",
       "      <td>-10.917560</td>\n",
       "      <td>424.0</td>\n",
       "      <td>336.0</td>\n",
       "      <td>743.0</td>\n",
       "      <td>143.0</td>\n",
       "      <td>39.0</td>\n",
       "      <td>55.0</td>\n",
       "      <td>97.0</td>\n",
       "      <td>1004.0</td>\n",
       "    </tr>\n",
       "  </tbody>\n",
       "</table>\n",
       "</div>"
      ],
      "text/plain": [
       "                                        Time  IMU A1     IMU A2  IMU A3  \\\n",
       "UTC                                                                       \n",
       "2018-07-17 19:12:37.968000+00:00  793390.849   337.0  -7.661445   354.0   \n",
       "2018-07-17 19:12:38.232000+00:00  793391.099   354.0  -7.776367   315.0   \n",
       "2018-07-17 19:12:38.496000+00:00  793391.351   342.0  -9.519346   349.0   \n",
       "2018-07-17 19:12:38.727000+00:00  793391.601   312.0 -10.438719   395.0   \n",
       "2018-07-17 19:12:38.991000+00:00  793391.853   202.0 -10.917560   424.0   \n",
       "\n",
       "                                  IMU G1  IMU G2  IMU G3  IMU M1  IMU M2  \\\n",
       "UTC                                                                        \n",
       "2018-07-17 19:12:37.968000+00:00   -24.0   -11.0   -97.0    27.0     1.0   \n",
       "2018-07-17 19:12:38.232000+00:00  -131.0  -237.0   -18.0    15.0    15.0   \n",
       "2018-07-17 19:12:38.496000+00:00    44.0   256.0    19.0     7.0    21.0   \n",
       "2018-07-17 19:12:38.727000+00:00   -57.0   126.0    99.0    21.0    45.0   \n",
       "2018-07-17 19:12:38.991000+00:00   336.0   743.0   143.0    39.0    55.0   \n",
       "\n",
       "                                  IMU M3  TimeDelta  \n",
       "UTC                                                  \n",
       "2018-07-17 19:12:37.968000+00:00   181.0        0.0  \n",
       "2018-07-17 19:12:38.232000+00:00   179.0      250.0  \n",
       "2018-07-17 19:12:38.496000+00:00   175.0      502.0  \n",
       "2018-07-17 19:12:38.727000+00:00   125.0      752.0  \n",
       "2018-07-17 19:12:38.991000+00:00    97.0     1004.0  "
      ]
     },
     "execution_count": 5,
     "metadata": {},
     "output_type": "execute_result"
    }
   ],
   "source": [
    "df = dfs['14814']\n",
    "df.head()"
   ]
  },
  {
   "cell_type": "code",
   "execution_count": 6,
   "metadata": {},
   "outputs": [
    {
     "data": {
      "text/plain": [
       "-4.920102018398838"
      ]
     },
     "execution_count": 6,
     "metadata": {},
     "output_type": "execute_result"
    }
   ],
   "source": [
    "df['IMU A2'].mean()"
   ]
  },
  {
   "cell_type": "code",
   "execution_count": 22,
   "metadata": {},
   "outputs": [
    {
     "data": {
      "text/plain": [
       "array([-3.10659875, -3.22142274, -4.96430386, ..., -6.47515646,\n",
       "       -7.60512195, -6.55157554])"
      ]
     },
     "execution_count": 22,
     "metadata": {},
     "output_type": "execute_result"
    }
   ],
   "source": [
    "from scipy import signal\n",
    "imu = np.array(df['IMU A2'])\n",
    "imu = signal.detrend(imu)\n",
    "imu"
   ]
  },
  {
   "cell_type": "code",
   "execution_count": 29,
   "metadata": {},
   "outputs": [],
   "source": [
    "df['IMU A2'] = imu"
   ]
  },
  {
   "cell_type": "code",
   "execution_count": 32,
   "metadata": {},
   "outputs": [
    {
     "data": {
      "text/plain": [
       "UTC\n",
       "2018-07-17 19:12:37.968000+00:00   -3.106599\n",
       "2018-07-17 19:12:38.232000+00:00   -3.221423\n",
       "2018-07-17 19:12:38.496000+00:00   -4.964304\n",
       "2018-07-17 19:12:38.727000+00:00   -5.883580\n",
       "2018-07-17 19:12:38.991000+00:00   -6.362322\n",
       "Name: IMU A2, dtype: float64"
      ]
     },
     "execution_count": 32,
     "metadata": {},
     "output_type": "execute_result"
    }
   ],
   "source": [
    "df['IMU A2'].head()"
   ]
  },
  {
   "cell_type": "code",
   "execution_count": null,
   "metadata": {},
   "outputs": [],
   "source": []
  }
 ],
 "metadata": {
  "kernelspec": {
   "display_name": "Python 3",
   "language": "python",
   "name": "python3"
  },
  "language_info": {
   "codemirror_mode": {
    "name": "ipython",
    "version": 3
   },
   "file_extension": ".py",
   "mimetype": "text/x-python",
   "name": "python",
   "nbconvert_exporter": "python",
   "pygments_lexer": "ipython3",
   "version": "3.8.3"
  }
 },
 "nbformat": 4,
 "nbformat_minor": 4
}
