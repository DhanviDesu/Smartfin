{
 "cells": [
  {
   "cell_type": "markdown",
   "metadata": {},
   "source": [
    "# double_integral_bandpass.py\n",
    "the double_integral_bandpass module is used to calculate the height of a smartfin ride through double integral analysis. It takes in processed imu heights and runs a double integral analysis on the data and calculates the mean height"
   ]
  },
  {
   "cell_type": "code",
   "execution_count": 1,
   "metadata": {},
   "outputs": [
    {
     "name": "stdout",
     "output_type": "stream",
     "text": [
      "ride initialized\n"
     ]
    }
   ],
   "source": [
    "from smartfin_ride_api_v2 import Ride\n",
    "from double_integral_bandpass import double_integral_bandpass_filter\n",
    "import random\n",
    "ride = Ride()"
   ]
  },
  {
   "cell_type": "code",
   "execution_count": 2,
   "metadata": {},
   "outputs": [
    {
     "name": "stdout",
     "output_type": "stream",
     "text": [
      "fetching ride from: https://surf.smartfin.org/ride/15692\n",
      "fetching ocean data from: https://surf.smartfin.org/media/201811/google_105349665704999793400_0006667E229D_181109191556_Ocean.CSV\n",
      "fetching motion data from: https://surf.smartfin.org/media/201811/google_105349665704999793400_0006667E229D_181109191556_Motion.CSV\n"
     ]
    },
    {
     "name": "stderr",
     "output_type": "stream",
     "text": [
      "C:\\Users\\evans\\Desktop\\Smartfin\\smartfin_data_analysis\\smartfin_ride_api_v2.py:92: SettingWithCopyWarning: \n",
      "A value is trying to be set on a copy of a slice from a DataFrame.\n",
      "Try using .loc[row_indexer,col_indexer] = value instead\n",
      "\n",
      "See the caveats in the documentation: https://pandas.pydata.org/pandas-docs/stable/user_guide/indexing.html#returning-a-view-versus-a-copy\n",
      "  odf['Time'] = [time / 1000 for time in odf['Time']]\n"
     ]
    },
    {
     "name": "stdout",
     "output_type": "stream",
     "text": [
      "calcualting start_time: 09/11/2018 19:16:03\n",
      "calcualting end_time: 09/11/2018 20:38:15\n",
      "retriving CDIP wave heights from: http://thredds.cdip.ucsd.edu/thredds/dodsC/cdip/archive/201p1/201p1_historic.nc\n",
      "calculating significant wave height between 09/11/2018 19:16:03 - 09/11/2018 20:38:15\n",
      "calculating significant wave height between 09/11/2018 19:16:03 - 09/11/2018 20:38:15\n",
      "mean wave height: 0.42014166712760925\n",
      "mean ocean temp: 19.481172561645508\n",
      "retrieved nearest CDIP buoy: 201\n",
      "retrieved CDIP means height for ride: [0.4274497, 0.41283363]\n",
      "retrieved CDIP means temp for ride: [19.540009, 19.540009, 19.540009, 19.459991, 19.459991, 19.5, 19.5, 19.5, 19.459991, 19.459991, 19.459991, 19.459991, 19.459991, 19.459991, 19.459991, 19.459991, 19.459991]\n"
     ]
    }
   ],
   "source": [
    "data = ride.get_ride_data('15692')"
   ]
  },
  {
   "cell_type": "code",
   "execution_count": 3,
   "metadata": {},
   "outputs": [],
   "source": [
    "mdf = data['motion_data']"
   ]
  },
  {
   "cell_type": "code",
   "execution_count": 4,
   "metadata": {},
   "outputs": [
    {
     "data": {
      "text/html": [
       "<div>\n",
       "<style scoped>\n",
       "    .dataframe tbody tr th:only-of-type {\n",
       "        vertical-align: middle;\n",
       "    }\n",
       "\n",
       "    .dataframe tbody tr th {\n",
       "        vertical-align: top;\n",
       "    }\n",
       "\n",
       "    .dataframe thead th {\n",
       "        text-align: right;\n",
       "    }\n",
       "</style>\n",
       "<table border=\"1\" class=\"dataframe\">\n",
       "  <thead>\n",
       "    <tr style=\"text-align: right;\">\n",
       "      <th></th>\n",
       "      <th>Time</th>\n",
       "      <th>IMU A1</th>\n",
       "      <th>IMU A2</th>\n",
       "      <th>IMU A3</th>\n",
       "      <th>IMU G1</th>\n",
       "      <th>IMU G2</th>\n",
       "      <th>IMU G3</th>\n",
       "      <th>IMU M1</th>\n",
       "      <th>IMU M2</th>\n",
       "      <th>IMU M3</th>\n",
       "      <th>TimeDelta</th>\n",
       "    </tr>\n",
       "    <tr>\n",
       "      <th>UTC</th>\n",
       "      <th></th>\n",
       "      <th></th>\n",
       "      <th></th>\n",
       "      <th></th>\n",
       "      <th></th>\n",
       "      <th></th>\n",
       "      <th></th>\n",
       "      <th></th>\n",
       "      <th></th>\n",
       "      <th></th>\n",
       "      <th></th>\n",
       "    </tr>\n",
       "  </thead>\n",
       "  <tbody>\n",
       "    <tr>\n",
       "      <th>2018-11-09 19:16:03+00:00</th>\n",
       "      <td>1.414743e+06</td>\n",
       "      <td>9.442731</td>\n",
       "      <td>-8.887277</td>\n",
       "      <td>2.106897</td>\n",
       "      <td>75.00</td>\n",
       "      <td>-124.00</td>\n",
       "      <td>-86.00</td>\n",
       "      <td>-309.00</td>\n",
       "      <td>209.00</td>\n",
       "      <td>39.00</td>\n",
       "      <td>0.00</td>\n",
       "    </tr>\n",
       "    <tr>\n",
       "      <th>2018-11-09 19:16:04+00:00</th>\n",
       "      <td>1.414744e+06</td>\n",
       "      <td>9.394847</td>\n",
       "      <td>-6.493075</td>\n",
       "      <td>0.028730</td>\n",
       "      <td>-31.50</td>\n",
       "      <td>-106.00</td>\n",
       "      <td>-100.00</td>\n",
       "      <td>-326.00</td>\n",
       "      <td>181.00</td>\n",
       "      <td>62.00</td>\n",
       "      <td>627.75</td>\n",
       "    </tr>\n",
       "    <tr>\n",
       "      <th>2018-11-09 19:16:05+00:00</th>\n",
       "      <td>1.414745e+06</td>\n",
       "      <td>6.086061</td>\n",
       "      <td>-3.466804</td>\n",
       "      <td>-4.304775</td>\n",
       "      <td>-112.75</td>\n",
       "      <td>-552.00</td>\n",
       "      <td>-330.00</td>\n",
       "      <td>-261.25</td>\n",
       "      <td>28.25</td>\n",
       "      <td>240.25</td>\n",
       "      <td>1630.00</td>\n",
       "    </tr>\n",
       "    <tr>\n",
       "      <th>2018-11-09 19:16:06+00:00</th>\n",
       "      <td>1.414746e+06</td>\n",
       "      <td>0.804452</td>\n",
       "      <td>-2.480393</td>\n",
       "      <td>-3.294421</td>\n",
       "      <td>-45.75</td>\n",
       "      <td>-299.50</td>\n",
       "      <td>202.50</td>\n",
       "      <td>-50.25</td>\n",
       "      <td>-49.25</td>\n",
       "      <td>314.25</td>\n",
       "      <td>2633.50</td>\n",
       "    </tr>\n",
       "    <tr>\n",
       "      <th>2018-11-09 19:16:07+00:00</th>\n",
       "      <td>1.414747e+06</td>\n",
       "      <td>-0.881066</td>\n",
       "      <td>-1.647211</td>\n",
       "      <td>-4.769250</td>\n",
       "      <td>13.25</td>\n",
       "      <td>-42.50</td>\n",
       "      <td>19.75</td>\n",
       "      <td>1.75</td>\n",
       "      <td>-82.75</td>\n",
       "      <td>287.75</td>\n",
       "      <td>3629.50</td>\n",
       "    </tr>\n",
       "    <tr>\n",
       "      <th>...</th>\n",
       "      <td>...</td>\n",
       "      <td>...</td>\n",
       "      <td>...</td>\n",
       "      <td>...</td>\n",
       "      <td>...</td>\n",
       "      <td>...</td>\n",
       "      <td>...</td>\n",
       "      <td>...</td>\n",
       "      <td>...</td>\n",
       "      <td>...</td>\n",
       "      <td>...</td>\n",
       "    </tr>\n",
       "    <tr>\n",
       "      <th>2018-11-09 20:38:11+00:00</th>\n",
       "      <td>1.419641e+06</td>\n",
       "      <td>9.562441</td>\n",
       "      <td>-9.840169</td>\n",
       "      <td>2.015918</td>\n",
       "      <td>4.00</td>\n",
       "      <td>20.00</td>\n",
       "      <td>-0.75</td>\n",
       "      <td>-289.00</td>\n",
       "      <td>229.50</td>\n",
       "      <td>3.50</td>\n",
       "      <td>4897934.50</td>\n",
       "    </tr>\n",
       "    <tr>\n",
       "      <th>2018-11-09 20:38:12+00:00</th>\n",
       "      <td>1.419642e+06</td>\n",
       "      <td>9.595960</td>\n",
       "      <td>-9.969456</td>\n",
       "      <td>1.939303</td>\n",
       "      <td>-37.00</td>\n",
       "      <td>18.00</td>\n",
       "      <td>-5.25</td>\n",
       "      <td>-303.25</td>\n",
       "      <td>262.25</td>\n",
       "      <td>24.75</td>\n",
       "      <td>4898930.50</td>\n",
       "    </tr>\n",
       "    <tr>\n",
       "      <th>2018-11-09 20:38:13+00:00</th>\n",
       "      <td>1.419643e+06</td>\n",
       "      <td>9.605537</td>\n",
       "      <td>-10.022128</td>\n",
       "      <td>1.896208</td>\n",
       "      <td>10.25</td>\n",
       "      <td>20.75</td>\n",
       "      <td>1.00</td>\n",
       "      <td>-300.50</td>\n",
       "      <td>262.50</td>\n",
       "      <td>33.50</td>\n",
       "      <td>4899928.75</td>\n",
       "    </tr>\n",
       "    <tr>\n",
       "      <th>2018-11-09 20:38:14+00:00</th>\n",
       "      <td>1.419644e+06</td>\n",
       "      <td>9.600749</td>\n",
       "      <td>-10.026917</td>\n",
       "      <td>1.896208</td>\n",
       "      <td>9.50</td>\n",
       "      <td>20.75</td>\n",
       "      <td>1.50</td>\n",
       "      <td>-303.50</td>\n",
       "      <td>262.00</td>\n",
       "      <td>37.00</td>\n",
       "      <td>4900936.90</td>\n",
       "    </tr>\n",
       "    <tr>\n",
       "      <th>2018-11-09 20:38:15+00:00</th>\n",
       "      <td>1.419644e+06</td>\n",
       "      <td>9.595960</td>\n",
       "      <td>-10.017340</td>\n",
       "      <td>1.877054</td>\n",
       "      <td>10.00</td>\n",
       "      <td>20.00</td>\n",
       "      <td>2.00</td>\n",
       "      <td>-309.00</td>\n",
       "      <td>265.00</td>\n",
       "      <td>35.00</td>\n",
       "      <td>4901557.50</td>\n",
       "    </tr>\n",
       "  </tbody>\n",
       "</table>\n",
       "<p>4933 rows × 11 columns</p>\n",
       "</div>"
      ],
      "text/plain": [
       "                                   Time    IMU A1     IMU A2    IMU A3  \\\n",
       "UTC                                                                      \n",
       "2018-11-09 19:16:03+00:00  1.414743e+06  9.442731  -8.887277  2.106897   \n",
       "2018-11-09 19:16:04+00:00  1.414744e+06  9.394847  -6.493075  0.028730   \n",
       "2018-11-09 19:16:05+00:00  1.414745e+06  6.086061  -3.466804 -4.304775   \n",
       "2018-11-09 19:16:06+00:00  1.414746e+06  0.804452  -2.480393 -3.294421   \n",
       "2018-11-09 19:16:07+00:00  1.414747e+06 -0.881066  -1.647211 -4.769250   \n",
       "...                                 ...       ...        ...       ...   \n",
       "2018-11-09 20:38:11+00:00  1.419641e+06  9.562441  -9.840169  2.015918   \n",
       "2018-11-09 20:38:12+00:00  1.419642e+06  9.595960  -9.969456  1.939303   \n",
       "2018-11-09 20:38:13+00:00  1.419643e+06  9.605537 -10.022128  1.896208   \n",
       "2018-11-09 20:38:14+00:00  1.419644e+06  9.600749 -10.026917  1.896208   \n",
       "2018-11-09 20:38:15+00:00  1.419644e+06  9.595960 -10.017340  1.877054   \n",
       "\n",
       "                           IMU G1  IMU G2  IMU G3  IMU M1  IMU M2  IMU M3  \\\n",
       "UTC                                                                         \n",
       "2018-11-09 19:16:03+00:00   75.00 -124.00  -86.00 -309.00  209.00   39.00   \n",
       "2018-11-09 19:16:04+00:00  -31.50 -106.00 -100.00 -326.00  181.00   62.00   \n",
       "2018-11-09 19:16:05+00:00 -112.75 -552.00 -330.00 -261.25   28.25  240.25   \n",
       "2018-11-09 19:16:06+00:00  -45.75 -299.50  202.50  -50.25  -49.25  314.25   \n",
       "2018-11-09 19:16:07+00:00   13.25  -42.50   19.75    1.75  -82.75  287.75   \n",
       "...                           ...     ...     ...     ...     ...     ...   \n",
       "2018-11-09 20:38:11+00:00    4.00   20.00   -0.75 -289.00  229.50    3.50   \n",
       "2018-11-09 20:38:12+00:00  -37.00   18.00   -5.25 -303.25  262.25   24.75   \n",
       "2018-11-09 20:38:13+00:00   10.25   20.75    1.00 -300.50  262.50   33.50   \n",
       "2018-11-09 20:38:14+00:00    9.50   20.75    1.50 -303.50  262.00   37.00   \n",
       "2018-11-09 20:38:15+00:00   10.00   20.00    2.00 -309.00  265.00   35.00   \n",
       "\n",
       "                            TimeDelta  \n",
       "UTC                                    \n",
       "2018-11-09 19:16:03+00:00        0.00  \n",
       "2018-11-09 19:16:04+00:00      627.75  \n",
       "2018-11-09 19:16:05+00:00     1630.00  \n",
       "2018-11-09 19:16:06+00:00     2633.50  \n",
       "2018-11-09 19:16:07+00:00     3629.50  \n",
       "...                               ...  \n",
       "2018-11-09 20:38:11+00:00  4897934.50  \n",
       "2018-11-09 20:38:12+00:00  4898930.50  \n",
       "2018-11-09 20:38:13+00:00  4899928.75  \n",
       "2018-11-09 20:38:14+00:00  4900936.90  \n",
       "2018-11-09 20:38:15+00:00  4901557.50  \n",
       "\n",
       "[4933 rows x 11 columns]"
      ]
     },
     "execution_count": 4,
     "metadata": {},
     "output_type": "execute_result"
    }
   ],
   "source": [
    "mdf"
   ]
  },
  {
   "cell_type": "markdown",
   "metadata": {},
   "source": [
    "## chunk data\n",
    "using double integral analysis, small errors tend to add up over time, creating large errors in the end result. Since smartfin rides are pretty much all many minutes long, we split the data up into 10 second chunks to give small errors less time to add up. "
   ]
  },
  {
   "cell_type": "code",
   "execution_count": 5,
   "metadata": {},
   "outputs": [],
   "source": [
    "def chunk_data(acc_array, time_array):\n",
    "    chunk_len = 10\n",
    "    times = []\n",
    "    accs = []\n",
    "\n",
    "    for i in range(int(len(acc_array) / chunk_len)):\n",
    "        accs.append(acc_array[i*chunk_len:(i + 1)*chunk_len])\n",
    "        times.append(time_array[i*chunk_len:(i + 1)*chunk_len])\n",
    "\n",
    "    return accs, times, chunk_len\n"
   ]
  },
  {
   "cell_type": "markdown",
   "metadata": {},
   "source": [
    "## process IMU\n",
    "since IMU sensors are extremely sensitive, its not uncommon to see unrealisically large values in the acceleromters. In order to combat this, we remove values that are above a certain threshold from the mean. Through a lot of testing and fine tuning, we calculated this threshold to be 2.1 standard deviations. "
   ]
  },
  {
   "cell_type": "code",
   "execution_count": 6,
   "metadata": {},
   "outputs": [],
   "source": [
    "def process_IMU(mdf):\n",
    "    mean = mdf['IMU A2'].mean()\n",
    "    std = mdf['IMU A2'].std()\n",
    "    Upperbound = mean+(2.1*std)\n",
    "    Lowerbound = mean-(2.1*std)\n",
    "    Up = (mean+.5)\n",
    "    Low = (mean-.5)\n",
    "    mdf.loc[mdf['IMU A2'] > Upperbound, 'IMU A2'] = float(random.uniform(Up, Low))\n",
    "    mdf.loc[mdf['IMU A2'] < Lowerbound, 'IMU A2'] = float(random.uniform(Up, Low))\n",
    "    return mdf\n",
    "\n"
   ]
  },
  {
   "cell_type": "markdown",
   "metadata": {},
   "source": [
    "## putting it all together\n",
    "we pass the processed data chunks into the double_integral_bandpass_filter to determine the smartfin heights from the processed data. The way we currently analyze the data underestimates the heights, so we have to multiply the result by a scalar to adjust for that error. The heights are underestimated because our data chunks are only 10 seconds long, which results in smaller displacements. However if our data chunks were longer, errors would add up to quickly, thus giving us inconsistent values. To get our heights consistent, it is necessary to underestimate the heights. We'll describe this better some other time lol"
   ]
  },
  {
   "cell_type": "code",
   "execution_count": 7,
   "metadata": {},
   "outputs": [],
   "source": [
    "def get_ride_height(mdf):\n",
    "    height_smartfin, height_list, height_sample_rate = calculate_ride_height(mdf)\n",
    "    return height_smartfin\n",
    "\n",
    "\n",
    "\n",
    "# these two functions are temporary and will be edited when we refine them\n",
    "def calculate_ride_height(mdf): \n",
    "    mdf = process_IMU(mdf)\n",
    "    accs, times, chunk_len = chunk_data(mdf['IMU A2'], mdf['Time'])\n",
    "\n",
    "    filter = double_integral_bandpass_filter()\n",
    "    integral, displacements = filter.get_displacement_data(accs, times)\n",
    "    \n",
    "    # scalar multiplication\n",
    "    integral *= 1.75\n",
    "    print(f'calculated smartfin significant wave height: {integral}')\n",
    "    print(f'height reading sample rate: {chunk_len}')\n",
    "    return integral, displacements, chunk_len"
   ]
  },
  {
   "cell_type": "code",
   "execution_count": 8,
   "metadata": {},
   "outputs": [
    {
     "name": "stdout",
     "output_type": "stream",
     "text": [
      "calculated smartfin significant wave height: 0.6813240771968423\n",
      "height reading sample rate: 10\n"
     ]
    }
   ],
   "source": [
    "height = calculate_ride_height(mdf)"
   ]
  }
 ],
 "metadata": {
  "kernelspec": {
   "display_name": "Python 3",
   "language": "python",
   "name": "python3"
  },
  "language_info": {
   "codemirror_mode": {
    "name": "ipython",
    "version": 3
   },
   "file_extension": ".py",
   "mimetype": "text/x-python",
   "name": "python",
   "nbconvert_exporter": "python",
   "pygments_lexer": "ipython3",
   "version": "3.8.3"
  }
 },
 "nbformat": 4,
 "nbformat_minor": 4
}
