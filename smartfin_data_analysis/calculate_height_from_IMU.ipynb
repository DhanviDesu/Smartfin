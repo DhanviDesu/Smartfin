{
 "cells": [
  {
   "cell_type": "markdown",
   "metadata": {},
   "source": [
    "# Calculate wave height from IMU\n",
    "putting all the resources in this folder together, we will go from raw IMU data in a dataframe to a calculated height estimate of a current smartfin ride and compare our results with the CDIP calculated heights"
   ]
  },
  {
   "cell_type": "code",
   "execution_count": 2,
   "metadata": {},
   "outputs": [
    {
     "name": "stdout",
     "output_type": "stream",
     "text": [
      "ride initialized\n"
     ]
    }
   ],
   "source": [
    "from smartfin_ride_api_v2 import Ride\n",
    "from double_integral_bandpass import double_integral_bandpass_filter\n",
    "import matplotlib.pyplot as plt\n",
    "import random\n",
    "\n",
    "ride = Ride()\n",
    "idb = double_integral_bandpass_filter()"
   ]
  },
  {
   "cell_type": "code",
   "execution_count": 53,
   "metadata": {
    "scrolled": true
   },
   "outputs": [
    {
     "name": "stdout",
     "output_type": "stream",
     "text": [
      "fetching ride from: https://surf.smartfin.org/ride/16196\n",
      "fetching ocean data from: https://surf.smartfin.org/media/201908/google_115648017259601508520_000666D32250_190805004104_Ocean.CSV\n",
      "fetching motion data from: https://surf.smartfin.org/media/201908/google_115648017259601508520_000666D32250_190805004104_Motion.CSV\n"
     ]
    },
    {
     "name": "stderr",
     "output_type": "stream",
     "text": [
      "C:\\Users\\evans\\Desktop\\Smartfin\\smartfin_data_analysis\\smartfin_ride_api_v2.py:92: SettingWithCopyWarning: \n",
      "A value is trying to be set on a copy of a slice from a DataFrame.\n",
      "Try using .loc[row_indexer,col_indexer] = value instead\n",
      "\n",
      "See the caveats in the documentation: https://pandas.pydata.org/pandas-docs/stable/user_guide/indexing.html#returning-a-view-versus-a-copy\n",
      "  odf['Time'] = [time / 1000 for time in odf['Time']]\n"
     ]
    },
    {
     "name": "stdout",
     "output_type": "stream",
     "text": [
      "calcualting start_time: 05/08/2019 00:41:13\n",
      "calcualting end_time: 05/08/2019 01:57:13\n",
      "retriving CDIP wave heights from: http://thredds.cdip.ucsd.edu/thredds/dodsC/cdip/archive/201p1/201p1_historic.nc\n",
      "calculating significant wave height between 05/08/2019 00:41:13 - 05/08/2019 01:57:13\n",
      "calculating significant wave height between 05/08/2019 00:41:13 - 05/08/2019 01:57:13\n",
      "mean wave height: 0.6233333349227905\n",
      "mean ocean temp: 22.433340072631836\n",
      "retrieved nearest CDIP buoy: 201\n",
      "retrieved CDIP means height for ride: [0.61, 0.63, 0.63]\n",
      "retrieved CDIP means temp for ride: [22.440002, 22.429993, 22.440002, 22.429993, 22.480011, 22.49002, 22.52002, 22.51001, 22.450012, 22.429993, 22.420013, 22.399994, 22.360016, 22.360016, 22.339996]\n"
     ]
    }
   ],
   "source": [
    "data = ride.get_ride_data('16196')"
   ]
  },
  {
   "cell_type": "markdown",
   "metadata": {},
   "source": [
    "# PROCESS DATA"
   ]
  },
  {
   "cell_type": "markdown",
   "metadata": {},
   "source": [
    "## remove data from before and after surfer is in the water"
   ]
  },
  {
   "cell_type": "code",
   "execution_count": 54,
   "metadata": {},
   "outputs": [],
   "source": [
    "# remove readings from ocean and motion dataframes where surfer is on land before entering the water\n",
    "def remove_before_entrance(mdf, odf, threshold, med):\n",
    "    \n",
    "    # get temperature series\n",
    "    temps = odf['Calibrated Temperature 1']\n",
    "    enter_index = get_water_entrance_index(temps, threshold, med)\n",
    "    \n",
    "    # get the time where the surfer enters the water in the ocean dataframe\n",
    "    startTime = odf.iloc[enter_index]['Time']\n",
    "    \n",
    "    # find the index in motion dataframe that matches with start index calculated from ocean dataframe\n",
    "    startIdx = mdf.iloc[(mdf['Time']-startTime).abs().argsort()[:1]]\n",
    "    return mdf.loc[startIdx.index[0]:], odf.tail(len(odf) - enter_index)\n",
    "   \n",
    "\n",
    "# calculate the index in ocean dataframe that the surfer enters the water\n",
    "def get_water_entrance_index(temps, threshold, med):\n",
    "\n",
    "    above = False\n",
    "    count = 0\n",
    "    consecutiveWithin = 0\n",
    "    \n",
    "    # calculate the index at the point where the temperature readings fall within the threshold consecutively\n",
    "    for time, reading in temps.items():\n",
    "        if abs(reading - med) < threshold:\n",
    "            if above == True:\n",
    "                above = False\n",
    "            else:\n",
    "                consecutiveWithin += 1\n",
    "                \n",
    "            # if the temperatures fall within the threshold consecutively, then we can assume the surfer is in the water\n",
    "            if consecutiveWithin > 10:\n",
    "                return count\n",
    "\n",
    "            above = False\n",
    "\n",
    "        else:\n",
    "            above = True\n",
    "            consecutiveWithin = 0\n",
    "        count += 1 \n",
    "        \n",
    "    return firstInstance\n",
    "\n",
    "# remove readings from ocean and motion dataframes where surfer is on land after exiting the water\n",
    "def remove_after_exit(mdf, odf, threshold, med):\n",
    "\n",
    "    # get the temperature series\n",
    "    temps = odf['Calibrated Temperature 1']\n",
    "    \n",
    "    # get the index where surfer exits the water\n",
    "    exit_index = get_water_exit_index(temps, threshold, med)\n",
    "    \n",
    "    # get the time where the surfer enters the water in the ocean dataframe\n",
    "    endTime = odf.iloc[exit_index]['Time']\n",
    "\n",
    "    # find the index in motion dataframe that matches with end index calculated from ocean dataframe\n",
    "    endIdx = mdf.iloc[(mdf['Time']-endTime).abs().argsort()[:1]]\n",
    "    return mdf.loc[:endIdx.index[0]], odf.head(exit_index)\n",
    "   \n",
    "    \n",
    "# calculate the index in ocean dataframe that the surfer enters the water\n",
    "def get_water_exit_index(temps, threshold, med):\n",
    "    above = False\n",
    "    count = 0\n",
    "\n",
    "    # calculate the index at the last point where the temperature readings transition from within to outside the threshold \n",
    "    for time, reading in temps.items():\n",
    "        if abs(reading - med) > threshold:\n",
    "            \n",
    "            # record index where temperature transition from within to outside the threshold\n",
    "            if above == False:\n",
    "                above = True\n",
    "                firstInstance = count\n",
    "            \n",
    "            above = True\n",
    "        \n",
    "        else:\n",
    "            above = False\n",
    "            firstInstance = 0\n",
    "        count += 1 \n",
    "    \n",
    "    return firstInstance\n",
    "\n",
    "\n",
    "\n",
    "def get_water_data(mdf, odf):\n",
    "\n",
    "    temps = odf['Calibrated Temperature 1']\n",
    "    threshold = temps.std() / 2\n",
    "    med = temps.median()\n",
    "    \n",
    "    mdf, odf = remove_before_entrance(mdf, odf, threshold, med)\n",
    "    mdf, odf = remove_after_exit(mdf, odf, threshold, med)\n",
    "    return mdf, odf\n"
   ]
  },
  {
   "cell_type": "code",
   "execution_count": 55,
   "metadata": {},
   "outputs": [
    {
     "name": "stdout",
     "output_type": "stream",
     "text": [
      "4262\n",
      "758\n"
     ]
    }
   ],
   "source": [
    "mdf = data['motion_data']\n",
    "odf = data['ocean_data']\n",
    "print(len(mdf))\n",
    "print(len(odf))"
   ]
  },
  {
   "cell_type": "code",
   "execution_count": 56,
   "metadata": {},
   "outputs": [
    {
     "data": {
      "image/png": "[encoded data removed]",
      "text/plain": [
       "<Figure size 432x288 with 1 Axes>"
      ]
     },
     "metadata": {
      "needs_background": "light"
     },
     "output_type": "display_data"
    },
    {
     "data": {
      "image/png": "[encoded data removed]",
      "text/plain": [
       "<Figure size 432x288 with 1 Axes>"
      ]
     },
     "metadata": {
      "needs_background": "light"
     },
     "output_type": "display_data"
    }
   ],
   "source": [
    "plt.plot(odf['Time'], odf['Calibrated Temperature 1'])\n",
    "plt.show()\n",
    "plt.plot(mdf['Time'], mdf['IMU A2'])\n",
    "plt.show()"
   ]
  },
  {
   "cell_type": "code",
   "execution_count": 57,
   "metadata": {},
   "outputs": [
    {
     "name": "stdout",
     "output_type": "stream",
     "text": [
      "3230\n",
      "586\n"
     ]
    },
    {
     "data": {
      "text/html": [
       "<div>\n",
       "<style scoped>\n",
       "    .dataframe tbody tr th:only-of-type {\n",
       "        vertical-align: middle;\n",
       "    }\n",
       "\n",
       "    .dataframe tbody tr th {\n",
       "        vertical-align: top;\n",
       "    }\n",
       "\n",
       "    .dataframe thead th {\n",
       "        text-align: right;\n",
       "    }\n",
       "</style>\n",
       "<table border=\"1\" class=\"dataframe\">\n",
       "  <thead>\n",
       "    <tr style=\"text-align: right;\">\n",
       "      <th></th>\n",
       "      <th>Time</th>\n",
       "      <th>IMU A1</th>\n",
       "      <th>IMU A2</th>\n",
       "      <th>IMU A3</th>\n",
       "      <th>IMU G1</th>\n",
       "      <th>IMU G2</th>\n",
       "      <th>IMU G3</th>\n",
       "      <th>IMU M1</th>\n",
       "      <th>IMU M2</th>\n",
       "      <th>IMU M3</th>\n",
       "      <th>TimeDelta</th>\n",
       "    </tr>\n",
       "    <tr>\n",
       "      <th>UTC</th>\n",
       "      <th></th>\n",
       "      <th></th>\n",
       "      <th></th>\n",
       "      <th></th>\n",
       "      <th></th>\n",
       "      <th></th>\n",
       "      <th></th>\n",
       "      <th></th>\n",
       "      <th></th>\n",
       "      <th></th>\n",
       "      <th></th>\n",
       "    </tr>\n",
       "  </thead>\n",
       "  <tbody>\n",
       "    <tr>\n",
       "      <th>2019-08-05 00:47:21+00:00</th>\n",
       "      <td>3.954484e+06</td>\n",
       "      <td>-1.058237</td>\n",
       "      <td>0.009577</td>\n",
       "      <td>0.009577</td>\n",
       "      <td>5.50</td>\n",
       "      <td>54.750000</td>\n",
       "      <td>13.750000</td>\n",
       "      <td>253.250000</td>\n",
       "      <td>-328.750000</td>\n",
       "      <td>1.250000</td>\n",
       "      <td>367877.666667</td>\n",
       "    </tr>\n",
       "    <tr>\n",
       "      <th>2019-08-05 00:47:22+00:00</th>\n",
       "      <td>3.954485e+06</td>\n",
       "      <td>-1.067814</td>\n",
       "      <td>-0.526724</td>\n",
       "      <td>-0.263362</td>\n",
       "      <td>31.25</td>\n",
       "      <td>-22.750000</td>\n",
       "      <td>-14.250000</td>\n",
       "      <td>244.750000</td>\n",
       "      <td>-325.250000</td>\n",
       "      <td>9.750000</td>\n",
       "      <td>368881.416667</td>\n",
       "    </tr>\n",
       "    <tr>\n",
       "      <th>2019-08-05 00:47:23+00:00</th>\n",
       "      <td>3.954486e+06</td>\n",
       "      <td>0.244209</td>\n",
       "      <td>0.359130</td>\n",
       "      <td>-1.771709</td>\n",
       "      <td>-1.75</td>\n",
       "      <td>-43.250000</td>\n",
       "      <td>21.250000</td>\n",
       "      <td>244.000000</td>\n",
       "      <td>-300.000000</td>\n",
       "      <td>36.000000</td>\n",
       "      <td>369881.166667</td>\n",
       "    </tr>\n",
       "    <tr>\n",
       "      <th>2019-08-05 00:47:24+00:00</th>\n",
       "      <td>3.954487e+06</td>\n",
       "      <td>-0.158017</td>\n",
       "      <td>0.110133</td>\n",
       "      <td>-1.489193</td>\n",
       "      <td>-121.50</td>\n",
       "      <td>-6.250000</td>\n",
       "      <td>2.500000</td>\n",
       "      <td>247.750000</td>\n",
       "      <td>-307.250000</td>\n",
       "      <td>27.250000</td>\n",
       "      <td>370875.916667</td>\n",
       "    </tr>\n",
       "    <tr>\n",
       "      <th>2019-08-05 00:47:25+00:00</th>\n",
       "      <td>3.954488e+06</td>\n",
       "      <td>-1.091756</td>\n",
       "      <td>-0.823605</td>\n",
       "      <td>0.555455</td>\n",
       "      <td>-132.50</td>\n",
       "      <td>3.500000</td>\n",
       "      <td>-48.500000</td>\n",
       "      <td>243.500000</td>\n",
       "      <td>-340.000000</td>\n",
       "      <td>-17.500000</td>\n",
       "      <td>371861.066667</td>\n",
       "    </tr>\n",
       "    <tr>\n",
       "      <th>...</th>\n",
       "      <td>...</td>\n",
       "      <td>...</td>\n",
       "      <td>...</td>\n",
       "      <td>...</td>\n",
       "      <td>...</td>\n",
       "      <td>...</td>\n",
       "      <td>...</td>\n",
       "      <td>...</td>\n",
       "      <td>...</td>\n",
       "      <td>...</td>\n",
       "      <td>...</td>\n",
       "    </tr>\n",
       "    <tr>\n",
       "      <th>2019-08-05 00:48:55+00:00</th>\n",
       "      <td>3.954578e+06</td>\n",
       "      <td>-0.905008</td>\n",
       "      <td>-0.368707</td>\n",
       "      <td>1.613692</td>\n",
       "      <td>52.50</td>\n",
       "      <td>-46.500000</td>\n",
       "      <td>58.500000</td>\n",
       "      <td>184.500000</td>\n",
       "      <td>-337.500000</td>\n",
       "      <td>-45.500000</td>\n",
       "      <td>461883.066667</td>\n",
       "    </tr>\n",
       "    <tr>\n",
       "      <th>2019-08-05 00:48:56+00:00</th>\n",
       "      <td>3.954578e+06</td>\n",
       "      <td>-1.532289</td>\n",
       "      <td>-0.082999</td>\n",
       "      <td>0.638454</td>\n",
       "      <td>-105.00</td>\n",
       "      <td>-7.333333</td>\n",
       "      <td>-76.333333</td>\n",
       "      <td>177.000000</td>\n",
       "      <td>-342.333333</td>\n",
       "      <td>-51.666667</td>\n",
       "      <td>462754.666667</td>\n",
       "    </tr>\n",
       "    <tr>\n",
       "      <th>2019-08-05 00:48:57+00:00</th>\n",
       "      <td>3.954579e+06</td>\n",
       "      <td>-1.068772</td>\n",
       "      <td>0.065122</td>\n",
       "      <td>0.746991</td>\n",
       "      <td>15.60</td>\n",
       "      <td>23.000000</td>\n",
       "      <td>25.800000</td>\n",
       "      <td>177.000000</td>\n",
       "      <td>-341.400000</td>\n",
       "      <td>-32.200000</td>\n",
       "      <td>463754.466667</td>\n",
       "    </tr>\n",
       "    <tr>\n",
       "      <th>2019-08-05 00:48:58+00:00</th>\n",
       "      <td>3.954581e+06</td>\n",
       "      <td>-1.465251</td>\n",
       "      <td>-0.407014</td>\n",
       "      <td>-0.215478</td>\n",
       "      <td>56.50</td>\n",
       "      <td>-0.750000</td>\n",
       "      <td>-16.000000</td>\n",
       "      <td>166.750000</td>\n",
       "      <td>-331.250000</td>\n",
       "      <td>-24.750000</td>\n",
       "      <td>464879.666667</td>\n",
       "    </tr>\n",
       "    <tr>\n",
       "      <th>2019-08-05 00:48:59+00:00</th>\n",
       "      <td>3.954581e+06</td>\n",
       "      <td>-0.485225</td>\n",
       "      <td>-0.204305</td>\n",
       "      <td>-0.217074</td>\n",
       "      <td>-45.00</td>\n",
       "      <td>54.333333</td>\n",
       "      <td>24.333333</td>\n",
       "      <td>157.666667</td>\n",
       "      <td>-335.000000</td>\n",
       "      <td>-19.666667</td>\n",
       "      <td>465758.000000</td>\n",
       "    </tr>\n",
       "  </tbody>\n",
       "</table>\n",
       "<p>99 rows × 11 columns</p>\n",
       "</div>"
      ],
      "text/plain": [
       "                                   Time    IMU A1    IMU A2    IMU A3  IMU G1  \\\n",
       "UTC                                                                             \n",
       "2019-08-05 00:47:21+00:00  3.954484e+06 -1.058237  0.009577  0.009577    5.50   \n",
       "2019-08-05 00:47:22+00:00  3.954485e+06 -1.067814 -0.526724 -0.263362   31.25   \n",
       "2019-08-05 00:47:23+00:00  3.954486e+06  0.244209  0.359130 -1.771709   -1.75   \n",
       "2019-08-05 00:47:24+00:00  3.954487e+06 -0.158017  0.110133 -1.489193 -121.50   \n",
       "2019-08-05 00:47:25+00:00  3.954488e+06 -1.091756 -0.823605  0.555455 -132.50   \n",
       "...                                 ...       ...       ...       ...     ...   \n",
       "2019-08-05 00:48:55+00:00  3.954578e+06 -0.905008 -0.368707  1.613692   52.50   \n",
       "2019-08-05 00:48:56+00:00  3.954578e+06 -1.532289 -0.082999  0.638454 -105.00   \n",
       "2019-08-05 00:48:57+00:00  3.954579e+06 -1.068772  0.065122  0.746991   15.60   \n",
       "2019-08-05 00:48:58+00:00  3.954581e+06 -1.465251 -0.407014 -0.215478   56.50   \n",
       "2019-08-05 00:48:59+00:00  3.954581e+06 -0.485225 -0.204305 -0.217074  -45.00   \n",
       "\n",
       "                              IMU G2     IMU G3      IMU M1      IMU M2  \\\n",
       "UTC                                                                       \n",
       "2019-08-05 00:47:21+00:00  54.750000  13.750000  253.250000 -328.750000   \n",
       "2019-08-05 00:47:22+00:00 -22.750000 -14.250000  244.750000 -325.250000   \n",
       "2019-08-05 00:47:23+00:00 -43.250000  21.250000  244.000000 -300.000000   \n",
       "2019-08-05 00:47:24+00:00  -6.250000   2.500000  247.750000 -307.250000   \n",
       "2019-08-05 00:47:25+00:00   3.500000 -48.500000  243.500000 -340.000000   \n",
       "...                              ...        ...         ...         ...   \n",
       "2019-08-05 00:48:55+00:00 -46.500000  58.500000  184.500000 -337.500000   \n",
       "2019-08-05 00:48:56+00:00  -7.333333 -76.333333  177.000000 -342.333333   \n",
       "2019-08-05 00:48:57+00:00  23.000000  25.800000  177.000000 -341.400000   \n",
       "2019-08-05 00:48:58+00:00  -0.750000 -16.000000  166.750000 -331.250000   \n",
       "2019-08-05 00:48:59+00:00  54.333333  24.333333  157.666667 -335.000000   \n",
       "\n",
       "                              IMU M3      TimeDelta  \n",
       "UTC                                                  \n",
       "2019-08-05 00:47:21+00:00   1.250000  367877.666667  \n",
       "2019-08-05 00:47:22+00:00   9.750000  368881.416667  \n",
       "2019-08-05 00:47:23+00:00  36.000000  369881.166667  \n",
       "2019-08-05 00:47:24+00:00  27.250000  370875.916667  \n",
       "2019-08-05 00:47:25+00:00 -17.500000  371861.066667  \n",
       "...                              ...            ...  \n",
       "2019-08-05 00:48:55+00:00 -45.500000  461883.066667  \n",
       "2019-08-05 00:48:56+00:00 -51.666667  462754.666667  \n",
       "2019-08-05 00:48:57+00:00 -32.200000  463754.466667  \n",
       "2019-08-05 00:48:58+00:00 -24.750000  464879.666667  \n",
       "2019-08-05 00:48:59+00:00 -19.666667  465758.000000  \n",
       "\n",
       "[99 rows x 11 columns]"
      ]
     },
     "execution_count": 57,
     "metadata": {},
     "output_type": "execute_result"
    }
   ],
   "source": [
    "mdf, odf = get_water_data(mdf, odf)\n",
    "print(len(mdf))\n",
    "print(len(odf))\n",
    "# mdf[1:100]"
   ]
  },
  {
   "cell_type": "code",
   "execution_count": 71,
   "metadata": {},
   "outputs": [
    {
     "data": {
      "image/png": "[encoded data removed]",
      "text/plain": [
       "<Figure size 432x288 with 1 Axes>"
      ]
     },
     "metadata": {
      "needs_background": "light"
     },
     "output_type": "display_data"
    },
    {
     "data": {
      "image/png": "[encoded data removed]",
      "text/plain": [
       "<Figure size 432x288 with 1 Axes>"
      ]
     },
     "metadata": {
      "needs_background": "light"
     },
     "output_type": "display_data"
    }
   ],
   "source": [
    "mdf_len = len(mdf)\n",
    "mdf_quarter = mdf_len / 4\n",
    "mdf_half = mdf_quarter * 2\n",
    "mdf = mdf[int(mdf_quarter):int(mdf_half)]\n",
    "plt.plot(odf['Time'], odf['Calibrated Temperature 1'])\n",
    "plt.show()\n",
    "plt.plot(mdf['Time'], mdf['IMU A2'])\n",
    "plt.show()"
   ]
  },
  {
   "cell_type": "markdown",
   "metadata": {},
   "source": [
    "## chunk data"
   ]
  },
  {
   "cell_type": "code",
   "execution_count": 59,
   "metadata": {},
   "outputs": [],
   "source": [
    "def chunk_data(acc_array, time_array):\n",
    "    chunk_len = 10\n",
    "    times = []\n",
    "    accs = []\n",
    "\n",
    "    for i in range(int(len(acc_array) / chunk_len)):\n",
    "        accs.append(acc_array[i*chunk_len:(i + 1)*chunk_len])\n",
    "        times.append(time_array[i*chunk_len:(i + 1)*chunk_len])\n",
    "\n",
    "    return accs, times, chunk_len"
   ]
  },
  {
   "cell_type": "markdown",
   "metadata": {},
   "source": [
    "## filter bad values from IMU"
   ]
  },
  {
   "cell_type": "code",
   "execution_count": 60,
   "metadata": {},
   "outputs": [],
   "source": [
    "def process_IMU(mdf):\n",
    "    mean = mdf['IMU A2'].mean()\n",
    "    std = mdf['IMU A2'].std()\n",
    "    Upperbound = mean+(2.1*std)\n",
    "    Lowerbound = mean-(2.1*std)\n",
    "    Up = (mean+.5)\n",
    "    Low = (mean-.5)\n",
    "    mdf.loc[mdf['IMU A2'] > Upperbound, 'IMU A2'] = float(random.uniform(Up, Low))\n",
    "    mdf.loc[mdf['IMU A2'] < Lowerbound, 'IMU A2'] = float(random.uniform(Up, Low))\n",
    "    return mdf"
   ]
  },
  {
   "cell_type": "markdown",
   "metadata": {},
   "source": [
    "## CALCULATE HEIGHT FROM PROCESS DATA"
   ]
  },
  {
   "cell_type": "code",
   "execution_count": 66,
   "metadata": {},
   "outputs": [],
   "source": [
    "def get_ride_height(mdf):\n",
    "    height_smartfin, height_list, height_sample_rate = calculate_ride_height(mdf)\n",
    "    return height_smartfin\n",
    "\n",
    "\n",
    "\n",
    "# these two functions are temporary and will be edited when we refine them\n",
    "def calculate_ride_height(mdf): \n",
    "    mdf_len = len(mdf)\n",
    "    mdf_quarter = mdf_len / 4\n",
    "    mdf_half = mdf_quarter * 2\n",
    "    mdf = mdf[int(mdf_quarter):int(mdf_half)]\n",
    "    mdf = process_IMU(mdf)\n",
    "    accs, times, chunk_len = chunk_data(mdf['IMU A2'], mdf['Time'])\n",
    "\n",
    "    filter = double_integral_bandpass_filter()\n",
    "    integral, displacements = filter.get_displacement_data(accs, times)\n",
    "    \n",
    "    # scalar multiplication\n",
    "    print(f'calculated smartfin significant wave height: {integral}')\n",
    "    print(f'height reading sample rate: {chunk_len}')\n",
    "    integral = integral * 2.65\n",
    "    return integral, displacements, chunk_len"
   ]
  },
  {
   "cell_type": "code",
   "execution_count": 67,
   "metadata": {},
   "outputs": [
    {
     "name": "stdout",
     "output_type": "stream",
     "text": [
      "calculated smartfin significant wave height: 1.1447674006269035\n",
      "height reading sample rate: 10\n"
     ]
    }
   ],
   "source": [
    "height = calculate_ride_height(mdf)"
   ]
  },
  {
   "cell_type": "code",
   "execution_count": 68,
   "metadata": {},
   "outputs": [],
   "source": [
    "CDIP_height = data['CDIP_height']"
   ]
  },
  {
   "cell_type": "code",
   "execution_count": 69,
   "metadata": {},
   "outputs": [
    {
     "data": {
      "text/plain": [
       "0.62333333"
      ]
     },
     "execution_count": 69,
     "metadata": {},
     "output_type": "execute_result"
    }
   ],
   "source": [
    "CDIP_height"
   ]
  },
  {
   "cell_type": "code",
   "execution_count": 70,
   "metadata": {},
   "outputs": [
    {
     "data": {
      "text/plain": [
       "3.033633611661294"
      ]
     },
     "execution_count": 70,
     "metadata": {},
     "output_type": "execute_result"
    }
   ],
   "source": [
    "height[0]"
   ]
  },
  {
   "cell_type": "code",
   "execution_count": null,
   "metadata": {},
   "outputs": [],
   "source": []
  },
  {
   "cell_type": "code",
   "execution_count": null,
   "metadata": {},
   "outputs": [],
   "source": []
  }
 ],
 "metadata": {
  "kernelspec": {
   "display_name": "Python 3",
   "language": "python",
   "name": "python3"
  },
  "language_info": {
   "codemirror_mode": {
    "name": "ipython",
    "version": 3
   },
   "file_extension": ".py",
   "mimetype": "text/x-python",
   "name": "python",
   "nbconvert_exporter": "python",
   "pygments_lexer": "ipython3",
   "version": "3.8.3"
  }
 },
 "nbformat": 4,
 "nbformat_minor": 4
}
