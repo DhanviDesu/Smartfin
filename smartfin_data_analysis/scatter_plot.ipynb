{
 "cells": [
  {
   "cell_type": "markdown",
   "metadata": {},
   "source": [
    "# scatter_plot\n",
    "This is an example of all the techniques used in this folder, however all code is explicitly written here rather than using code stored in the smartfin_ride_api_v2 and double_integral_bandpass filters. (this is because we wrote this in a google colab and were too lazy to copy the modules over). We run our analysis on many smartfin rides and compare the results to heights calculated by CDIP buoys recorded during the date and time of each ride. This shows how consistent our methods are in getting a smartfin to act like a substitude buoy"
   ]
  },
  {
   "cell_type": "code",
   "execution_count": 1,
   "metadata": {
    "colab": {
     "base_uri": "https://localhost:8080/",
     "height": 269
    },
    "colab_type": "code",
    "id": "QfEth_PIAjqM",
    "outputId": "1731b6db-b66b-45e0-8201-a0fd383f4ab6",
    "scrolled": true
   },
   "outputs": [
    {
     "name": "stdout",
     "output_type": "stream",
     "text": [
      "Requirement already satisfied: PeakUtils in c:\\users\\evans\\anaconda3\\lib\\site-packages (1.3.3)\n",
      "Requirement already satisfied: numpy in c:\\users\\evans\\anaconda3\\lib\\site-packages (from PeakUtils) (1.18.5)\n",
      "Requirement already satisfied: scipy in c:\\users\\evans\\anaconda3\\lib\\site-packages (from PeakUtils) (1.5.0)\n",
      "Requirement already satisfied: netCDF4 in c:\\users\\evans\\anaconda3\\lib\\site-packages (1.5.4)\n",
      "Requirement already satisfied: cftime in c:\\users\\evans\\anaconda3\\lib\\site-packages (from netCDF4) (1.2.1)\n",
      "Requirement already satisfied: numpy>=1.9 in c:\\users\\evans\\anaconda3\\lib\\site-packages (from netCDF4) (1.18.5)\n"
     ]
    }
   ],
   "source": [
    "!pip install PeakUtils\n",
    "!pip install netCDF4"
   ]
  },
  {
   "cell_type": "code",
   "execution_count": 2,
   "metadata": {
    "colab": {
     "base_uri": "https://localhost:8080/",
     "height": 70
    },
    "colab_type": "code",
    "id": "gZqqBJdN_YEd",
    "outputId": "7d6c07ff-5d72-4613-c382-c560f6702560"
   },
   "outputs": [],
   "source": [
    "import pandas as pd\n",
    "import numpy as np\n",
    "from sklearn import preprocessing\n",
    "import matplotlib.pyplot as plt\n",
    "\n",
    "plt.rc(\"font\", size=14) \n",
    "\n",
    "from sklearn.linear_model import LogisticRegression\n",
    "from sklearn.model_selection import train_test_split\n",
    "import seaborn as sns\n",
    "sns.set(style=\"white\")\n",
    "sns.set(style=\"whitegrid\", color_codes=True)\n",
    "\n",
    "import matplotlib\n",
    "import matplotlib.pyplot as plt\n",
    "import matplotlib.dates as mdates\n",
    "\n",
    "#from mpl_toolkits.basemap import Basemap\n",
    "\n",
    "import io\n",
    "import os\n",
    "import datetime\n",
    "import pytz\n",
    "import re\n",
    "\n",
    "import peakutils\n",
    "import statsmodels.api as sm\n",
    "\n",
    "import requests\n",
    "\n",
    "import scipy as sp\n",
    "import random"
   ]
  },
  {
   "cell_type": "code",
   "execution_count": 3,
   "metadata": {
    "colab": {
     "base_uri": "https://localhost:8080/",
     "height": 70
    },
    "colab_type": "code",
    "id": "UWFIUyly_oxG",
    "outputId": "28da88cc-deee-4cd9-c987-03533d958fb2"
   },
   "outputs": [
    {
     "name": "stdout",
     "output_type": "stream",
     "text": [
      "[14796, 13359, 13118, 12988, 12985, 12984, 12983, 12982, 12981, 12980, 12979, 12884, 12863, 12862, 12843, 12833, 12747, 12721, 12705, 12704, 12703, 12702, 12701, 12700, 12699, 12696, 12694, 12693, 12692, 12673, 12533, 12531, 12530, 12502, 12488, 12484, 12477, 12476, 12250, 12187, 12186, 12181, 12180, 12179, 12178, 12177, 12147, 12146, 12140, 12093, 12088, 12086, 12084, 12081, 12027, 12026, 12025, 12024, 12022, 12021, 12020, 12019, 12018, 12008, 11982, 11974, 11947, 11943, 11912, 11907, 11906, 11897, 11896, 11895, 11822, 11821, 11769, 11764, 11763, 11762, 11761, 11760, 11759, 11751, 11750, 11730, 11713, 11709, 11695, 11670, 11663, 11636, 11603, 11552, 11543, 11542, 11538, 11534, 11533, 11528, 11521, 11518, 11516, 11506, 11505, 11502, 11475, 11460, 11442, 11420, 11419, 11416, 11415, 11409, 11398, 11390, 11378, 11219, 11209, 11207, 11176, 11173, 11168, 11167, 11165, 11163, 11161, 11158, 11157, 11151, 11126, 11119, 11051, 11049, 11047, 11045, 11044, 11015, 11009, 11008, 10967, 10922, 10921, 10893, 10887, 10884, 10880, 10875, 10866, 10865, 10822, 10804, 10784]\n"
     ]
    },
    {
     "data": {
      "text/plain": [
       "153"
      ]
     },
     "execution_count": 3,
     "metadata": {},
     "output_type": "execute_result"
    }
   ],
   "source": [
    "url = 'https://raw.githubusercontent.com/UCSD-E4E/Smartfin/master/Ben%20Experiments/2017%20Ride%20IDs.csv' #2017 data\n",
    "#url = 'https://raw.githubusercontent.com/UCSD-E4E/Smartfin/master/Ben%20Experiments/Ride_IDs_2019.csv' #2019 data\n",
    "Ride_ID = pd.read_csv(url)\n",
    "#for jupyter notebook\n",
    "#Ride_ID = pd.read_csv('2017 Ride IDs.csv')\n",
    "IDs = Ride_ID['Ride Number'].values.tolist()\n",
    "print(IDs)\n",
    "len(IDs)"
   ]
  },
  {
   "cell_type": "code",
   "execution_count": 4,
   "metadata": {
    "colab": {},
    "colab_type": "code",
    "id": "O6iSBYKD_tkz"
   },
   "outputs": [],
   "source": [
    "ride_ids = IDs[0:2]"
   ]
  },
  {
   "cell_type": "markdown",
   "metadata": {
    "colab_type": "text",
    "id": "KV6GS_YwBc_B"
   },
   "source": [
    "Webscrape code here"
   ]
  },
  {
   "cell_type": "markdown",
   "metadata": {
    "colab_type": "text",
    "id": "DIeYHGdHH9sQ"
   },
   "source": [
    "# imports"
   ]
  },
  {
   "cell_type": "code",
   "execution_count": 5,
   "metadata": {
    "colab": {},
    "colab_type": "code",
    "id": "mKqf1qxKBfJz"
   },
   "outputs": [],
   "source": [
    "import pandas as pd\n",
    "import numpy as np\n",
    "\n",
    "import os\n",
    "import datetime\n",
    "import pytz\n",
    "import re\n",
    "import statsmodels.api as sm\n",
    "import requests\n",
    "import netCDF4\n",
    "import datetime\n",
    "import time\n",
    "from bs4 import BeautifulSoup\n",
    "import requests\n",
    "\n",
    "fin_url_base = 'http://surf.smartfin.org/fin/'\n",
    "str_id_ride = 'rideId = \\'' # backslash allows us to look for single quote\n",
    "str_id_date = 'var date = \\'' # backslash allows us to look for single quote\n",
    "ride_url_base = 'https://surf.smartfin.org/ride/'\n",
    "str_id_csv = 'img id=\"temperatureChart\" class=\"chart\" src=\"' "
   ]
  },
  {
   "cell_type": "markdown",
   "metadata": {
    "colab_type": "text",
    "id": "JTjpjkpMIAsh"
   },
   "source": [
    "# cdip web scrape"
   ]
  },
  {
   "cell_type": "code",
   "execution_count": 6,
   "metadata": {
    "colab": {},
    "colab_type": "code",
    "id": "XJgYJpwyHxIP"
   },
   "outputs": [],
   "source": [
    "def get_timeframe(df):\n",
    "\n",
    "    # get the times of the first and last reading\n",
    "    df = df.reset_index()\n",
    "    df = df.set_index('UTC')\n",
    "    start_time = pd.to_datetime(df.index[0]).strftime('%d/%m/%Y %H:%M:%S')\n",
    "    end_time = pd.to_datetime(df.index[-1]).strftime('%d/%m/%Y %H:%M:%S')\n",
    "    return [start_time, end_time]\n",
    "\n",
    "# Find nearest value in ncTime array to inputted UNIX Timestamp\n",
    "def find_nearest(array, value):\n",
    "    idx = (np.abs(array-value)).argmin()\n",
    "    return array[idx]\n",
    "\n",
    "\n",
    "# Convert human-formatted date to UNIX timestamp\n",
    "def getUnixTimestamp(humanTime, dateFormat):\n",
    "    unixTimestamp = int(time.mktime(datetime.datetime.strptime(humanTime, dateFormat).timetuple()))\n",
    "    return unixTimestamp\n",
    "\n",
    "\n",
    "def CDIP_web_scrape(start_time, end_time):\n",
    "        \n",
    "    station = '201'\n",
    "    data_url = f'http://thredds.cdip.ucsd.edu/thredds/dodsC/cdip/archive/{station}p1/{station}p1_historic.nc'\n",
    "    print(f'retriving CDIP wave heights from: {data_url}')\n",
    "    \n",
    "    # netCDF data object fetched from CDIP API\n",
    "    nc = netCDF4.Dataset(data_url)\n",
    "\n",
    "    # UNIX based time from 1991-yeardate in 30 minute increments\n",
    "    ncTime = nc.variables['waveTime'][:]\n",
    "\n",
    "    # wave heights\n",
    "    Hs = nc.variables['waveHs']\n",
    "    \n",
    "    # find the 30 minute chunks that correspond with smartfin ride timeframe\n",
    "    unixstart = getUnixTimestamp(start_time,\"%d/%m/%Y %H:%M:%S\")\n",
    "    nearest_date = find_nearest(ncTime, unixstart)  # Find the closest unix timestamp\n",
    "    start_index = np.where(ncTime==nearest_date)[0][0]  # Grab the index number of found date\n",
    "\n",
    "    unixend = getUnixTimestamp(end_time,\"%d/%m/%Y %H:%M:%S\")\n",
    "    future_date = find_nearest(ncTime, unixend)  # Find the closest unix timestamp\n",
    "    end_index = np.where(ncTime==future_date)[0][0]  # Grab the index number of found date \n",
    "    \n",
    "    # account for index offsets\n",
    "    # start_index -= 14\n",
    "    # end_index -= 14\n",
    "    \n",
    "    print(f'calculating significant wave height between {start_time} - {end_time}')\n",
    "    \n",
    "    # all wave height averages per 30 minute increments over each month\n",
    "    ride_hs = Hs[start_index:end_index]\n",
    "    ride_hs = ride_hs.data\n",
    "    \n",
    "    # calculate means of each month dataset in box_data\n",
    "    mean = ride_hs.mean()\n",
    "    \n",
    "    print(f'mean wave height: {mean}')\n",
    "    \n",
    "    return mean\n"
   ]
  },
  {
   "cell_type": "markdown",
   "metadata": {
    "colab_type": "text",
    "id": "B1sE1IICH_-0"
   },
   "source": [
    "# smartfin web scrape"
   ]
  },
  {
   "cell_type": "code",
   "execution_count": 7,
   "metadata": {
    "colab": {},
    "colab_type": "code",
    "id": "MeuknicfH1ZR"
   },
   "outputs": [],
   "source": [
    "# helper methods \n",
    "def get_ride(ride_id, convert_imu=True):\n",
    "    \"\"\"\n",
    "    adds a ride dataframe to this dictionary \n",
    "\n",
    "    \"\"\"\n",
    "\n",
    "\n",
    "    # get df from ride number\n",
    "    # get given ride's CSV from its ride ID using function above\n",
    "    mdf = get_csv_from_ride_id(ride_id) \n",
    "    latitude = mdf['Latitude'].mean() / 100000\n",
    "    longitude = mdf['Longitude'].mean() / 10000\n",
    "    mdf = mdf.drop(['Latitude', 'Longitude'], axis=1)\n",
    "    \n",
    "    #Drop the latitude and longitude values since most of them are Nan:\n",
    "    # mdf_dropped = mdf.drop(columns=['Latitude', 'Longitude'])\n",
    "    mdf_dropped = mdf\n",
    "\n",
    "    #Drop the NAN values from the motion data:\n",
    "    mdf = mdf_dropped.dropna(axis=0, how='any')\n",
    "    print('mdf length before time change: ', len(mdf))\n",
    "\n",
    "    # convert imu data \n",
    "    if(convert_imu):\n",
    "\n",
    "        mdf = mdf.apply(lambda reading: reading / 512 * 9.80665 - 9.80665 \n",
    "                                                         if reading.name == 'IMU A2'\n",
    "                                                         else reading)\n",
    "        mdf = mdf.apply(lambda reading: reading / 512 * 9.80665\n",
    "                                                         if reading.name == 'IMU A1' or reading.name == 'IMU A3'\n",
    "                                                         else reading)\n",
    "        \n",
    "        # convert time into seconds\n",
    "        mdf['Time'] = [time / 1000 for time in mdf['Time']] \n",
    "\n",
    "        # convert latitude and longitude values\n",
    "       \n",
    "\n",
    "        \n",
    "    timeframe = get_timeframe(mdf)\n",
    "    print('df length: ', len(mdf))\n",
    "    print('timeframe: ', timeframe)\n",
    "\n",
    "    means = CDIP_web_scrape(timeframe[0], timeframe[1])\n",
    "    \n",
    "\n",
    "\n",
    "    # add dataframe to dictionary\n",
    "    return mdf, timeframe, means, latitude, longitude\n",
    "\n",
    "\n",
    "def get_csv_from_ride_id (ride_id):\n",
    "    # Build URL for each individual ride\n",
    "    ride_url = ride_url_base+str(ride_id)\n",
    "    print(f'fetching ride from: {ride_url}')\n",
    "\n",
    "    # Get contents of ride_url\n",
    "    html_contents = requests.get(ride_url).text\n",
    "\n",
    "    # Find CSV identifier \n",
    "    loc_csv_id = html_contents.find(str_id_csv)\n",
    "\n",
    "    # Different based on whether user logged in with FB or Google\n",
    "    offset_googleOAuth = [46, 114]\n",
    "    offset_facebkOAuth = [46, 112]\n",
    "    if html_contents[loc_csv_id+59] == 'f': # Facebook login\n",
    "        off0 = offset_facebkOAuth[0]\n",
    "        off1 = offset_facebkOAuth[1]\n",
    "    else: # Google login\n",
    "        off0 = offset_googleOAuth[0]\n",
    "        off1 = offset_googleOAuth[1]\n",
    "\n",
    "    csv_id_longstr = html_contents[loc_csv_id+off0:loc_csv_id+off1]\n",
    "\n",
    "    # Stitch together full URL for CSV\n",
    "    # other junk URLs can exist and break everything\n",
    "    if (\"media\" in csv_id_longstr) & (\"Calibration\" not in html_contents): \n",
    "\n",
    "        url = f'https://surf.smartfin.org/{csv_id_longstr}Motion.CSV'\n",
    "        print(f'fetching motion data from: {url}')\n",
    "\n",
    "        # Go to ocean_csv_url and grab contents (theoretically, a CSV)\n",
    "        df = pd.read_csv(url, parse_dates = [0])\n",
    "\n",
    "        # Reindex on timestamp if there are at least a few rows\n",
    "        df = df.set_index('UTC', drop = True, append = False) \n",
    "\n",
    "        # resample data at new interval\n",
    "        sample_interval = '1000ms'\n",
    "        df = df.resample(sample_interval).mean()\n",
    "        df['TimeDelta'] = df['Time']-df['Time'][0]\n",
    "        \n",
    "        return df\n",
    "\n",
    "    else:\n",
    "        print('here')\n",
    "        df = pd.DataFrame() # empty DF just so something is returned\n",
    "        return df"
   ]
  },
  {
   "cell_type": "markdown",
   "metadata": {
    "colab_type": "text",
    "id": "1HR6tF5pBiKw"
   },
   "source": [
    "## data processing"
   ]
  },
  {
   "cell_type": "code",
   "execution_count": 8,
   "metadata": {},
   "outputs": [],
   "source": [
    "# remove readings from ocean and motion dataframes where surfer is on land before entering the water\n",
    "def remove_before_entrance(mdf, odf, threshold, med):\n",
    "    \n",
    "    # get temperature series\n",
    "    temps = odf['Calibrated Temperature 1']\n",
    "    enter_index = get_water_entrance_index(temps, threshold, med)\n",
    "    \n",
    "    # get the time where the surfer enters the water in the ocean dataframe\n",
    "    startTime = odf.iloc[enter_index]['Time']\n",
    "    \n",
    "    # find the index in motion dataframe that matches with start index calculated from ocean dataframe\n",
    "    startIdx = mdf.iloc[(mdf['Time']-startTime).abs().argsort()[:1]]\n",
    "    return mdf.loc[startIdx.index[0]:], odf.tail(len(odf) - enter_index)\n",
    "   \n",
    "\n",
    "# calculate the index in ocean dataframe that the surfer enters the water\n",
    "def get_water_entrance_index(temps, threshold, med):\n",
    "\n",
    "    above = False\n",
    "    count = 0\n",
    "    consecutiveWithin = 0\n",
    "    \n",
    "    # calculate the index at the point where the temperature readings fall within the threshold consecutively\n",
    "    for time, reading in temps.items():\n",
    "        if abs(reading - med) < threshold:\n",
    "            if above == True:\n",
    "                above = False\n",
    "            else:\n",
    "                consecutiveWithin += 1\n",
    "                \n",
    "            # if the temperatures fall within the threshold consecutively, then we can assume the surfer is in the water\n",
    "            if consecutiveWithin > 10:\n",
    "                return count\n",
    "\n",
    "            above = False\n",
    "\n",
    "        else:\n",
    "            above = True\n",
    "            consecutiveWithin = 0\n",
    "        count += 1 \n",
    "        \n",
    "    return firstInstance\n",
    "\n",
    "# remove readings from ocean and motion dataframes where surfer is on land after exiting the water\n",
    "def remove_after_exit(mdf, odf, threshold, med):\n",
    "\n",
    "    # get the temperature series\n",
    "    temps = odf['Calibrated Temperature 1']\n",
    "    \n",
    "    # get the index where surfer exits the water\n",
    "    exit_index = get_water_exit_index(temps, threshold, med)\n",
    "    \n",
    "    # get the time where the surfer enters the water in the ocean dataframe\n",
    "    endTime = odf.iloc[exit_index]['Time']\n",
    "\n",
    "    # find the index in motion dataframe that matches with end index calculated from ocean dataframe\n",
    "    endIdx = mdf.iloc[(mdf['Time']-endTime).abs().argsort()[:1]]\n",
    "    return mdf.loc[:endIdx.index[0]], odf.head(exit_index)\n",
    "   \n",
    "    \n",
    "# calculate the index in ocean dataframe that the surfer enters the water\n",
    "def get_water_exit_index(temps, threshold, med):\n",
    "    above = False\n",
    "    count = 0\n",
    "\n",
    "    # calculate the index at the last point where the temperature readings transition from within to outside the threshold \n",
    "    for time, reading in temps.items():\n",
    "        if abs(reading - med) > threshold:\n",
    "            \n",
    "            # record index where temperature transition from within to outside the threshold\n",
    "            if above == False:\n",
    "                above = True\n",
    "                firstInstance = count\n",
    "            \n",
    "            above = True\n",
    "        \n",
    "        else:\n",
    "            above = False\n",
    "            firstInstance = 0\n",
    "        count += 1 \n",
    "    \n",
    "    return firstInstance\n",
    "\n",
    "\n",
    "\n",
    "def get_water_data(mdf, odf):\n",
    "\n",
    "    temps = odf['Calibrated Temperature 1']\n",
    "    threshold = temps.std() / 2\n",
    "    med = temps.median()\n",
    "    \n",
    "    mdf, odf = remove_before_entrance(mdf, odf, threshold, med)\n",
    "    mdf, odf = remove_after_exit(mdf, odf, threshold, med)\n",
    "    return mdf, odf\n"
   ]
  },
  {
   "cell_type": "code",
   "execution_count": 9,
   "metadata": {
    "colab": {
     "base_uri": "https://localhost:8080/",
     "height": 1000
    },
    "colab_type": "code",
    "id": "ouB2CXWvBlns",
    "outputId": "a4b67948-9fcc-46ec-bff0-efd6d565a2d3",
    "scrolled": false
   },
   "outputs": [
    {
     "name": "stdout",
     "output_type": "stream",
     "text": [
      "fetching ride from: https://surf.smartfin.org/ride/15692\n",
      "fetching motion data from: https://surf.smartfin.org/media/201811/google_105349665704999793400_0006667E229D_181109191556_Motion.CSV\n",
      "mdf length before time change:  4933\n",
      "df length:  4933\n",
      "timeframe:  ['09/11/2018 19:16:03', '09/11/2018 20:38:15']\n",
      "retriving CDIP wave heights from: http://thredds.cdip.ucsd.edu/thredds/dodsC/cdip/archive/201p1/201p1_historic.nc\n",
      "calculating significant wave height between 09/11/2018 19:16:03 - 09/11/2018 20:38:15\n",
      "mean wave height: 0.42014166712760925\n"
     ]
    }
   ],
   "source": [
    "dfs = []\n",
    "times = []\n",
    "CDIP_means = []\n",
    "count = 0\n",
    "IDs = ['15692']\n",
    "for ride_id in IDs:\n",
    "  if count > 20: break\n",
    "  count += 1\n",
    "  try:\n",
    "    df, timeframe, mean, latitude, longitude = get_ride(ride_id)\n",
    "    #this cuts off the first 6 minutes\n",
    "    df = df.head(2160)\n",
    "    dfs.append(df[360:2160])\n",
    "    #dfs.append(df.tail(2160))\n",
    "    #original\n",
    "    #df = df.head(2300)\n",
    "    #dfs.append(df.tail(1800))\n",
    "    times.append(timeframe)\n",
    "    CDIP_means.append(mean)\n",
    "  except:\n",
    "    print(\"An execption occured\")"
   ]
  },
  {
   "cell_type": "code",
   "execution_count": 10,
   "metadata": {
    "colab": {
     "base_uri": "https://localhost:8080/",
     "height": 1000
    },
    "colab_type": "code",
    "id": "gvYRqUinI-nx",
    "outputId": "5616f2d4-e88b-4bfb-908d-b62111df5619"
   },
   "outputs": [
    {
     "data": {
      "text/html": [
       "<div>\n",
       "<style scoped>\n",
       "    .dataframe tbody tr th:only-of-type {\n",
       "        vertical-align: middle;\n",
       "    }\n",
       "\n",
       "    .dataframe tbody tr th {\n",
       "        vertical-align: top;\n",
       "    }\n",
       "\n",
       "    .dataframe thead th {\n",
       "        text-align: right;\n",
       "    }\n",
       "</style>\n",
       "<table border=\"1\" class=\"dataframe\">\n",
       "  <thead>\n",
       "    <tr style=\"text-align: right;\">\n",
       "      <th></th>\n",
       "      <th>Time</th>\n",
       "      <th>IMU A1</th>\n",
       "      <th>IMU A2</th>\n",
       "      <th>IMU A3</th>\n",
       "      <th>IMU G1</th>\n",
       "      <th>IMU G2</th>\n",
       "      <th>IMU G3</th>\n",
       "      <th>IMU M1</th>\n",
       "      <th>IMU M2</th>\n",
       "      <th>IMU M3</th>\n",
       "      <th>TimeDelta</th>\n",
       "    </tr>\n",
       "    <tr>\n",
       "      <th>UTC</th>\n",
       "      <th></th>\n",
       "      <th></th>\n",
       "      <th></th>\n",
       "      <th></th>\n",
       "      <th></th>\n",
       "      <th></th>\n",
       "      <th></th>\n",
       "      <th></th>\n",
       "      <th></th>\n",
       "      <th></th>\n",
       "      <th></th>\n",
       "    </tr>\n",
       "  </thead>\n",
       "  <tbody>\n",
       "    <tr>\n",
       "      <th>2018-11-09 19:22:03+00:00</th>\n",
       "      <td>1.415100e+06</td>\n",
       "      <td>0.392649</td>\n",
       "      <td>0.086191</td>\n",
       "      <td>1.575385</td>\n",
       "      <td>122.75</td>\n",
       "      <td>100.00</td>\n",
       "      <td>47.50</td>\n",
       "      <td>-34.50</td>\n",
       "      <td>-172.50</td>\n",
       "      <td>177.00</td>\n",
       "      <td>3.574765e+05</td>\n",
       "    </tr>\n",
       "    <tr>\n",
       "      <th>2018-11-09 19:22:04+00:00</th>\n",
       "      <td>1.415101e+06</td>\n",
       "      <td>-0.684742</td>\n",
       "      <td>0.110133</td>\n",
       "      <td>1.417367</td>\n",
       "      <td>33.50</td>\n",
       "      <td>-7.50</td>\n",
       "      <td>26.00</td>\n",
       "      <td>-61.75</td>\n",
       "      <td>-161.75</td>\n",
       "      <td>190.25</td>\n",
       "      <td>3.584797e+05</td>\n",
       "    </tr>\n",
       "    <tr>\n",
       "      <th>2018-11-09 19:22:05+00:00</th>\n",
       "      <td>1.415102e+06</td>\n",
       "      <td>-0.052672</td>\n",
       "      <td>-0.359130</td>\n",
       "      <td>1.608904</td>\n",
       "      <td>-44.00</td>\n",
       "      <td>26.75</td>\n",
       "      <td>-4.50</td>\n",
       "      <td>-40.75</td>\n",
       "      <td>-168.75</td>\n",
       "      <td>195.75</td>\n",
       "      <td>3.594792e+05</td>\n",
       "    </tr>\n",
       "    <tr>\n",
       "      <th>2018-11-09 19:22:06+00:00</th>\n",
       "      <td>1.415103e+06</td>\n",
       "      <td>0.100556</td>\n",
       "      <td>-1.307234</td>\n",
       "      <td>3.414132</td>\n",
       "      <td>51.00</td>\n",
       "      <td>-9.00</td>\n",
       "      <td>12.75</td>\n",
       "      <td>-47.25</td>\n",
       "      <td>-183.25</td>\n",
       "      <td>128.75</td>\n",
       "      <td>3.604825e+05</td>\n",
       "    </tr>\n",
       "    <tr>\n",
       "      <th>2018-11-09 19:22:07+00:00</th>\n",
       "      <td>1.415104e+06</td>\n",
       "      <td>-0.368707</td>\n",
       "      <td>0.292093</td>\n",
       "      <td>0.866701</td>\n",
       "      <td>-36.50</td>\n",
       "      <td>7.75</td>\n",
       "      <td>16.50</td>\n",
       "      <td>-61.25</td>\n",
       "      <td>-168.75</td>\n",
       "      <td>192.25</td>\n",
       "      <td>3.614822e+05</td>\n",
       "    </tr>\n",
       "    <tr>\n",
       "      <th>...</th>\n",
       "      <td>...</td>\n",
       "      <td>...</td>\n",
       "      <td>...</td>\n",
       "      <td>...</td>\n",
       "      <td>...</td>\n",
       "      <td>...</td>\n",
       "      <td>...</td>\n",
       "      <td>...</td>\n",
       "      <td>...</td>\n",
       "      <td>...</td>\n",
       "      <td>...</td>\n",
       "    </tr>\n",
       "    <tr>\n",
       "      <th>2018-11-09 19:51:58+00:00</th>\n",
       "      <td>1.416885e+06</td>\n",
       "      <td>1.176032</td>\n",
       "      <td>-0.325611</td>\n",
       "      <td>1.252646</td>\n",
       "      <td>-13.60</td>\n",
       "      <td>20.80</td>\n",
       "      <td>-5.20</td>\n",
       "      <td>7.00</td>\n",
       "      <td>-166.20</td>\n",
       "      <td>57.80</td>\n",
       "      <td>2.141758e+06</td>\n",
       "    </tr>\n",
       "    <tr>\n",
       "      <th>2018-11-09 19:51:59+00:00</th>\n",
       "      <td>1.416886e+06</td>\n",
       "      <td>1.045787</td>\n",
       "      <td>-0.088107</td>\n",
       "      <td>1.379060</td>\n",
       "      <td>23.00</td>\n",
       "      <td>27.00</td>\n",
       "      <td>-0.40</td>\n",
       "      <td>19.40</td>\n",
       "      <td>-163.80</td>\n",
       "      <td>63.80</td>\n",
       "      <td>2.142756e+06</td>\n",
       "    </tr>\n",
       "    <tr>\n",
       "      <th>2018-11-09 19:52:00+00:00</th>\n",
       "      <td>1.416887e+06</td>\n",
       "      <td>1.118571</td>\n",
       "      <td>-0.306458</td>\n",
       "      <td>2.141374</td>\n",
       "      <td>-61.00</td>\n",
       "      <td>41.00</td>\n",
       "      <td>-1.40</td>\n",
       "      <td>15.60</td>\n",
       "      <td>-161.20</td>\n",
       "      <td>56.80</td>\n",
       "      <td>2.143754e+06</td>\n",
       "    </tr>\n",
       "    <tr>\n",
       "      <th>2018-11-09 19:52:01+00:00</th>\n",
       "      <td>1.416888e+06</td>\n",
       "      <td>0.907881</td>\n",
       "      <td>-1.095587</td>\n",
       "      <td>3.918829</td>\n",
       "      <td>-71.40</td>\n",
       "      <td>33.20</td>\n",
       "      <td>18.00</td>\n",
       "      <td>20.60</td>\n",
       "      <td>-151.00</td>\n",
       "      <td>13.80</td>\n",
       "      <td>2.144757e+06</td>\n",
       "    </tr>\n",
       "    <tr>\n",
       "      <th>2018-11-09 19:52:02+00:00</th>\n",
       "      <td>1.416889e+06</td>\n",
       "      <td>0.835098</td>\n",
       "      <td>-0.796790</td>\n",
       "      <td>3.436158</td>\n",
       "      <td>82.80</td>\n",
       "      <td>6.80</td>\n",
       "      <td>-7.80</td>\n",
       "      <td>15.20</td>\n",
       "      <td>-157.20</td>\n",
       "      <td>16.00</td>\n",
       "      <td>2.145745e+06</td>\n",
       "    </tr>\n",
       "  </tbody>\n",
       "</table>\n",
       "<p>1800 rows × 11 columns</p>\n",
       "</div>"
      ],
      "text/plain": [
       "                                   Time    IMU A1    IMU A2    IMU A3  IMU G1  \\\n",
       "UTC                                                                             \n",
       "2018-11-09 19:22:03+00:00  1.415100e+06  0.392649  0.086191  1.575385  122.75   \n",
       "2018-11-09 19:22:04+00:00  1.415101e+06 -0.684742  0.110133  1.417367   33.50   \n",
       "2018-11-09 19:22:05+00:00  1.415102e+06 -0.052672 -0.359130  1.608904  -44.00   \n",
       "2018-11-09 19:22:06+00:00  1.415103e+06  0.100556 -1.307234  3.414132   51.00   \n",
       "2018-11-09 19:22:07+00:00  1.415104e+06 -0.368707  0.292093  0.866701  -36.50   \n",
       "...                                 ...       ...       ...       ...     ...   \n",
       "2018-11-09 19:51:58+00:00  1.416885e+06  1.176032 -0.325611  1.252646  -13.60   \n",
       "2018-11-09 19:51:59+00:00  1.416886e+06  1.045787 -0.088107  1.379060   23.00   \n",
       "2018-11-09 19:52:00+00:00  1.416887e+06  1.118571 -0.306458  2.141374  -61.00   \n",
       "2018-11-09 19:52:01+00:00  1.416888e+06  0.907881 -1.095587  3.918829  -71.40   \n",
       "2018-11-09 19:52:02+00:00  1.416889e+06  0.835098 -0.796790  3.436158   82.80   \n",
       "\n",
       "                           IMU G2  IMU G3  IMU M1  IMU M2  IMU M3  \\\n",
       "UTC                                                                 \n",
       "2018-11-09 19:22:03+00:00  100.00   47.50  -34.50 -172.50  177.00   \n",
       "2018-11-09 19:22:04+00:00   -7.50   26.00  -61.75 -161.75  190.25   \n",
       "2018-11-09 19:22:05+00:00   26.75   -4.50  -40.75 -168.75  195.75   \n",
       "2018-11-09 19:22:06+00:00   -9.00   12.75  -47.25 -183.25  128.75   \n",
       "2018-11-09 19:22:07+00:00    7.75   16.50  -61.25 -168.75  192.25   \n",
       "...                           ...     ...     ...     ...     ...   \n",
       "2018-11-09 19:51:58+00:00   20.80   -5.20    7.00 -166.20   57.80   \n",
       "2018-11-09 19:51:59+00:00   27.00   -0.40   19.40 -163.80   63.80   \n",
       "2018-11-09 19:52:00+00:00   41.00   -1.40   15.60 -161.20   56.80   \n",
       "2018-11-09 19:52:01+00:00   33.20   18.00   20.60 -151.00   13.80   \n",
       "2018-11-09 19:52:02+00:00    6.80   -7.80   15.20 -157.20   16.00   \n",
       "\n",
       "                              TimeDelta  \n",
       "UTC                                      \n",
       "2018-11-09 19:22:03+00:00  3.574765e+05  \n",
       "2018-11-09 19:22:04+00:00  3.584797e+05  \n",
       "2018-11-09 19:22:05+00:00  3.594792e+05  \n",
       "2018-11-09 19:22:06+00:00  3.604825e+05  \n",
       "2018-11-09 19:22:07+00:00  3.614822e+05  \n",
       "...                                 ...  \n",
       "2018-11-09 19:51:58+00:00  2.141758e+06  \n",
       "2018-11-09 19:51:59+00:00  2.142756e+06  \n",
       "2018-11-09 19:52:00+00:00  2.143754e+06  \n",
       "2018-11-09 19:52:01+00:00  2.144757e+06  \n",
       "2018-11-09 19:52:02+00:00  2.145745e+06  \n",
       "\n",
       "[1800 rows x 11 columns]"
      ]
     },
     "execution_count": 10,
     "metadata": {},
     "output_type": "execute_result"
    }
   ],
   "source": [
    "dfs[0]"
   ]
  },
  {
   "cell_type": "code",
   "execution_count": 11,
   "metadata": {
    "colab": {
     "base_uri": "https://localhost:8080/",
     "height": 370
    },
    "colab_type": "code",
    "id": "jV6o6zAWJCLJ",
    "outputId": "5161be9e-3bca-43c9-f087-71ee6b04e455"
   },
   "outputs": [
    {
     "data": {
      "text/plain": [
       "[0.42014167]"
      ]
     },
     "execution_count": 11,
     "metadata": {},
     "output_type": "execute_result"
    }
   ],
   "source": [
    "CDIP_means"
   ]
  },
  {
   "cell_type": "code",
   "execution_count": 12,
   "metadata": {
    "colab": {
     "base_uri": "https://localhost:8080/",
     "height": 370
    },
    "colab_type": "code",
    "id": "uRm3yhqrJEdY",
    "outputId": "caa22e78-2650-485a-f618-749bb13c0f32"
   },
   "outputs": [
    {
     "data": {
      "text/plain": [
       "[['09/11/2018 19:16:03', '09/11/2018 20:38:15']]"
      ]
     },
     "execution_count": 12,
     "metadata": {},
     "output_type": "execute_result"
    }
   ],
   "source": [
    "times"
   ]
  },
  {
   "cell_type": "code",
   "execution_count": 13,
   "metadata": {
    "colab": {
     "base_uri": "https://localhost:8080/",
     "height": 1000
    },
    "colab_type": "code",
    "id": "Mdlhc1yPVQwk",
    "outputId": "ef46eef4-51c7-4053-e97f-4d3507d446ed"
   },
   "outputs": [
    {
     "name": "stdout",
     "output_type": "stream",
     "text": [
      "-12.028469140624999\n",
      "mean is: -0.3850058938250513\n",
      "std. dev. is: 0.5937802981513073\n",
      "Upperbound is: 0.861932732292694\n",
      "Lowerbound is: -1.6319445199427967\n",
      "-1.6089035156250002\n"
     ]
    },
    {
     "data": {
      "image/png": "[encoded data removed]",
      "text/plain": [
       "<Figure size 432x288 with 1 Axes>"
      ]
     },
     "metadata": {},
     "output_type": "display_data"
    }
   ],
   "source": [
    "for df in dfs:\n",
    "  print(df['IMU A2'].min())\n",
    "  mean = df['IMU A2'].mean()\n",
    "  std = df['IMU A2'].std()\n",
    "  Upperbound = mean+(2.1*std)\n",
    "  Lowerbound = mean-(2.1*std)\n",
    "  Up = (mean+.5)\n",
    "  Low = (mean-.5)\n",
    "  print('mean is: ' + str(mean))\n",
    "  print('std. dev. is: ' + str(std))\n",
    "  print('Upperbound is: ' + str(Upperbound))\n",
    "  print('Lowerbound is: ' + str(Lowerbound))\n",
    "  df.loc[df['IMU A2'] > Upperbound, 'IMU A2'] = float(random.uniform(Up, Low))\n",
    "  df.loc[df['IMU A2'] < Lowerbound, 'IMU A2'] = float(random.uniform(Up, Low))\n",
    "  print(df['IMU A2'].min())\n",
    "\n",
    "  x2 = list(range(0, len(df)))\n",
    "  plt.plot(x2, df['IMU A2'])\n",
    "  plt.xlabel(\"Time [s]\")\n",
    "  plt.ylabel(\"Acceleration [m/s^2]\")\n",
    "  plt.ylim(-18,18)\n",
    "  plt.show()"
   ]
  },
  {
   "cell_type": "markdown",
   "metadata": {
    "colab_type": "text",
    "id": "q8YkRTMjLyfF"
   },
   "source": [
    "## Calculating double integral of ride"
   ]
  },
  {
   "cell_type": "code",
   "execution_count": 14,
   "metadata": {
    "colab": {},
    "colab_type": "code",
    "id": "l4Vaa4WNL2gB"
   },
   "outputs": [],
   "source": [
    "## Butter Filters for Bandpass:\n",
    "def butter_bandpass(lowcut, highcut, fs, order=5):\n",
    "    nyq = 0.5 * fs\n",
    "    low = lowcut / nyq\n",
    "    high = highcut / nyq\n",
    "    b, a = signal.butter(order, [low, high], btype='band')\n",
    "    return b, a\n",
    "\n",
    "def butter_bandpass_lfilter(data, lowcut, highcut, fs, order=5):\n",
    "    b, a = butter_bandpass(lowcut, highcut, fs, order=order)\n",
    "    y = signal.lfilter(b, a, data)\n",
    "    return y\n",
    "\n",
    "def butter_bandpass_filtfilt(data, lowcut, highcut, fs, order=5):\n",
    "    b, a = butter_bandpass(lowcut, highcut, fs, order=order)\n",
    "    y = signal.filtfilt(b, a, data)\n",
    "    return y\n",
    "\n",
    "\n",
    "\n",
    "##Butter Filters for Highpass:\n",
    "def butter_highpass(highcut, fs, order=5):\n",
    "    nyq = 0.5 * fs\n",
    "    high = highcut / nyq\n",
    "    b, a = signal.butter(order, high, btype='high')\n",
    "    return b, a\n",
    "\n",
    "def butter_highpass_lfilter(data, highcut, fs, order=5):\n",
    "    b, a = butter_lowpass(highcut, fs, order=order)\n",
    "    y = signal.lfilter(b, a, data)\n",
    "    return y\n",
    "\n",
    "\n",
    "\n",
    "##Butter Filters for Lowpass:\n",
    "def butter_lowpass(lowcut, fs, order=5):\n",
    "    nyq = 0.5 * fs\n",
    "    low = lowcut / nyq\n",
    "    b, a = signal.butter(order, low, btype='low')\n",
    "    return b, a\n",
    "\n",
    "def butter_lowpass_lfilter(data, lowcut, fs, order=5):\n",
    "    b, a = butter_lowpass(lowcut, fs, order=order)\n",
    "    y = signal.lfilter(b, a, data)\n",
    "    return y"
   ]
  },
  {
   "cell_type": "code",
   "execution_count": 15,
   "metadata": {
    "colab": {},
    "colab_type": "code",
    "id": "Q254e9u9L5D2"
   },
   "outputs": [],
   "source": [
    "def double_integral_bandpass(dacc_array, time_array, lowcut, highcut, fs, order):\n",
    "    butter_lfilter = butter_bandpass_lfilter(dacc_array, lowcut, highcut, fs, order=5)\n",
    "\n",
    "    \n",
    "    #First integral is the velocity:\n",
    "    v_integral = integrate.cumtrapz(x=time_array, y=butter_lfilter, initial=0)\n",
    "    detrend_v_integral = signal.detrend(v_integral)\n",
    "    \n",
    "    v_butter_filter_integral = butter_bandpass_lfilter(detrend_v_integral, lowcut, highcut, fs, order=5)\n",
    "    detrend_v_integral = signal.detrend(v_butter_filter_integral)\n",
    "\n",
    "\n",
    "    #Second integral is the displacment:\n",
    "    disp_integral = integrate.cumtrapz(x=time_array, y=v_butter_filter_integral, initial=0)\n",
    "    detrend_disp_integral = signal.detrend(disp_integral)\n",
    "    \n",
    "    disp_butter_filter_integral = butter_bandpass_lfilter(detrend_disp_integral, lowcut, highcut, fs, order=5)\n",
    "    detrend_disp_butter_integral = signal.detrend(disp_butter_filter_integral)\n",
    "    return detrend_disp_butter_integral\n",
    "\n",
    "\n",
    "def chunk_data(acc_array, time_array):\n",
    "    chunk_len = 10\n",
    "    times = []\n",
    "    accs = []\n",
    "    \n",
    "        \n",
    "    for i in range(int(len(acc_array) / chunk_len)):\n",
    "        accs.append(acc_array[i*chunk_len:(i + 1)*chunk_len])\n",
    "        times.append(time_array[i*chunk_len:(i + 1)*chunk_len])\n",
    "    \n",
    "    return accs, times\n",
    "        \n",
    "\n",
    "from scipy import stats\n",
    "from scipy import constants\n",
    "from scipy import signal #added\n",
    "from scipy.interpolate import CubicSpline\n",
    "from scipy.interpolate import interp1d\n",
    "from scipy.integrate import simps\n",
    "from scipy.integrate import cumtrapz\n",
    "from scipy import integrate\n",
    "\n",
    "\n",
    "def get_displacement(accs, times):\n",
    "    fs = 5 #redefine the sampling frequency\n",
    "\n",
    "    order=6\n",
    "    lowcut = 0.09\n",
    "    highcut = 1.0\n",
    "    \n",
    "    dacc_array = signal.detrend(accs)    \n",
    "\n",
    "    integral = double_integral_bandpass(dacc_array, times, lowcut, highcut, fs, order)\n",
    "    return integral\n",
    "\n",
    "sig_heights = []\n",
    "\n",
    "for df in dfs:\n",
    "  accs, times = chunk_data(df['IMU A2'], df['Time'])\n",
    "  integrals = []\n",
    "  for i in range(len(accs)):\n",
    "      integrals.append(get_displacement(accs[i], times[i]))\n",
    "      \n",
    "  displacements = []\n",
    "  for integral in integrals:\n",
    "      displacements.append(integral.max() - integral.min())\n",
    "\n",
    "      \n",
    "  displacements = np.sort(displacements)\n",
    "  displacements = np.flip(displacements)\n",
    "  third = int(len(displacements) * .33)\n",
    "  sig_heights.append(displacements[0:third].mean())"
   ]
  },
  {
   "cell_type": "code",
   "execution_count": 16,
   "metadata": {
    "colab": {
     "base_uri": "https://localhost:8080/",
     "height": 370
    },
    "colab_type": "code",
    "id": "-msGzexcxqzr",
    "outputId": "bf3f65b4-61d7-4246-8833-2a3987bbb931"
   },
   "outputs": [
    {
     "data": {
      "text/plain": [
       "[0.16551941793130592]"
      ]
     },
     "execution_count": 16,
     "metadata": {},
     "output_type": "execute_result"
    }
   ],
   "source": [
    "#TODO: figure out the difference between these two\n",
    "sig_heights"
   ]
  },
  {
   "cell_type": "code",
   "execution_count": 17,
   "metadata": {
    "colab": {
     "base_uri": "https://localhost:8080/",
     "height": 370
    },
    "colab_type": "code",
    "id": "AQiMxKDuMbn3",
    "outputId": "907def68-d5f5-46a2-874b-0ea83b8092b7"
   },
   "outputs": [
    {
     "data": {
      "text/plain": [
       "[0.42014167]"
      ]
     },
     "execution_count": 17,
     "metadata": {},
     "output_type": "execute_result"
    }
   ],
   "source": [
    "CDIP_means"
   ]
  },
  {
   "cell_type": "markdown",
   "metadata": {
    "colab_type": "text",
    "id": "41miWOCUBsTa"
   },
   "source": [
    "Scatter plot of Buoy vs. Smartfin"
   ]
  },
  {
   "cell_type": "code",
   "execution_count": 20,
   "metadata": {
    "colab": {
     "base_uri": "https://localhost:8080/",
     "height": 723
    },
    "colab_type": "code",
    "id": "Vo6xh-dWzhik",
    "outputId": "9a19f724-d3c7-43df-e53f-eb64b64f7924"
   },
   "outputs": [
    {
     "name": "stdout",
     "output_type": "stream",
     "text": [
      "<class 'list'>\n",
      "<class 'numpy.ndarray'>\n"
     ]
    },
    {
     "data": {
      "image/png": "[encoded data removed]",
      "text/plain": [
       "<Figure size 432x288 with 1 Axes>"
      ]
     },
     "metadata": {},
     "output_type": "display_data"
    },
    {
     "name": "stdout",
     "output_type": "stream",
     "text": [
      "mean error is 153.83225266172516%\n",
      "average difference is 0.25462224919630333 meters\n",
      "average difference is 10.024503413083382 inches\n",
      "length is 1\n"
     ]
    },
    {
     "data": {
      "image/png": "[encoded data removed]",
      "text/plain": [
       "<Figure size 432x288 with 1 Axes>"
      ]
     },
     "metadata": {},
     "output_type": "display_data"
    },
    {
     "name": "stdout",
     "output_type": "stream",
     "text": [
      "mean error is 12.81433451632228%\n",
      "average difference is 0.04772297678217091 meters\n",
      "average difference is 1.878858368211747 inches\n",
      "length is 1\n"
     ]
    }
   ],
   "source": [
    "print(type(sig_heights))\n",
    "fin = np.array(sig_heights)\n",
    "print(type(fin))\n",
    "buoy = np.array(CDIP_means)\n",
    "fin3 = 2.25*fin\n",
    "data_to_plot = pd.DataFrame({'Smartfin': fin,'Buoy': buoy, 'fin_converted': fin3, 'diff1': abs(buoy-fin), 'diff2': abs(buoy-fin3)})\n",
    "data_to_plot.drop(data_to_plot[data_to_plot['diff1'] > 1].index, inplace = True)\n",
    "data_to_plot.drop(data_to_plot[data_to_plot['diff2'] > .3].index, inplace = True)\n",
    "data_to_plot.drop(data_to_plot[data_to_plot['Smartfin'] > 1].index, inplace = False)\n",
    "data_to_plot.drop(data_to_plot[data_to_plot['Buoy'] > 1.3].index, inplace = True)\n",
    "\n",
    "x = list(range(0, len(data_to_plot)))\n",
    "\n",
    "#Original data plot\n",
    "plt.scatter(x, data_to_plot['Smartfin'], color='red')\n",
    "plt.scatter(x, data_to_plot['Buoy'], color='blue')\n",
    "plt.legend(['Smartfin', 'Buoy'], loc=9)\n",
    "plt.xlabel('Session')\n",
    "plt.ylabel('Significant Wave Height [m]')\n",
    "plt.title('2017 Smartfin Height vs. CDIP Buoy Height', size=15)\n",
    "plt.grid()\n",
    "plt.show()\n",
    "\n",
    "error = abs((1 - (data_to_plot['Buoy']/data_to_plot['Smartfin'])) *100)\n",
    "error = np.mean(error)\n",
    "avgdiff1 = data_to_plot['diff1'].mean()\n",
    "print('mean error is ' + str(error) + '%')\n",
    "print('average difference is ' + str(avgdiff1) + ' meters')\n",
    "print('average difference is ' + str(avgdiff1*39.3701) + ' inches')\n",
    "print('length is ' + str(len(data_to_plot)))\n",
    "\n",
    "#Converted data plot\n",
    "plt.scatter(x, data_to_plot['fin_converted'], color='red')\n",
    "plt.scatter(x, data_to_plot['Buoy'], color='blue')\n",
    "plt.legend(['Smartfin', 'Buoy'], loc=9)\n",
    "plt.xlabel('Session')\n",
    "plt.ylabel('Significant Wave Height [m]')\n",
    "plt.title('2017 Smartfin Height vs. CDIP Buoy Height', size=15)\n",
    "plt.grid()\n",
    "plt.show()\n",
    "\n",
    "error3 = abs((1 - (data_to_plot['Buoy']/data_to_plot['fin_converted'])) *100)\n",
    "error3 = np.mean(error3)\n",
    "avgdiff2 = data_to_plot['diff2'].mean()\n",
    "print('mean error is ' + str(error3) + '%')\n",
    "print('average difference is ' + str(data_to_plot['diff2'].mean()) + ' meters')\n",
    "print('average difference is ' + str(avgdiff2*39.3701) + ' inches')\n",
    "print('length is ' + str(len(data_to_plot)))"
   ]
  },
  {
   "cell_type": "markdown",
   "metadata": {
    "colab_type": "text",
    "id": "m1qjzL1cE9Wu"
   },
   "source": [
    "Linear Regression Model"
   ]
  },
  {
   "cell_type": "code",
   "execution_count": 19,
   "metadata": {
    "colab": {
     "base_uri": "https://localhost:8080/",
     "height": 229
    },
    "colab_type": "code",
    "id": "O3dkUdsdFHPn",
    "outputId": "74015d03-0a04-4776-a07d-7ecdc4972389"
   },
   "outputs": [
    {
     "ename": "NameError",
     "evalue": "name 'm' is not defined",
     "output_type": "error",
     "traceback": [
      "\u001b[1;31m---------------------------------------------------------------------------\u001b[0m",
      "\u001b[1;31mNameError\u001b[0m                                 Traceback (most recent call last)",
      "\u001b[1;32m<ipython-input-19-fffaa74f0f24>\u001b[0m in \u001b[0;36m<module>\u001b[1;34m\u001b[0m\n\u001b[0;32m      1\u001b[0m \u001b[1;31m# (m,b) = np.polyfit(data_to_plot['Smartfin'],data_to_plot['Buoy'],1)\u001b[0m\u001b[1;33m\u001b[0m\u001b[1;33m\u001b[0m\u001b[1;33m\u001b[0m\u001b[0m\n\u001b[1;32m----> 2\u001b[1;33m \u001b[0myp\u001b[0m \u001b[1;33m=\u001b[0m \u001b[0mnp\u001b[0m\u001b[1;33m.\u001b[0m\u001b[0mpolyval\u001b[0m\u001b[1;33m(\u001b[0m\u001b[1;33m[\u001b[0m\u001b[0mm\u001b[0m\u001b[1;33m,\u001b[0m\u001b[0mb\u001b[0m\u001b[1;33m]\u001b[0m\u001b[1;33m,\u001b[0m\u001b[0mdata_to_plot\u001b[0m\u001b[1;33m[\u001b[0m\u001b[1;34m'Smartfin'\u001b[0m\u001b[1;33m]\u001b[0m\u001b[1;33m)\u001b[0m\u001b[1;33m\u001b[0m\u001b[1;33m\u001b[0m\u001b[0m\n\u001b[0m\u001b[0;32m      3\u001b[0m \u001b[0mequation\u001b[0m \u001b[1;33m=\u001b[0m \u001b[1;34m'y = '\u001b[0m \u001b[1;33m+\u001b[0m \u001b[0mstr\u001b[0m\u001b[1;33m(\u001b[0m\u001b[0mround\u001b[0m\u001b[1;33m(\u001b[0m\u001b[0mm\u001b[0m\u001b[1;33m,\u001b[0m\u001b[1;36m4\u001b[0m\u001b[1;33m)\u001b[0m\u001b[1;33m)\u001b[0m \u001b[1;33m+\u001b[0m \u001b[1;34m'x'\u001b[0m \u001b[1;34m' + '\u001b[0m \u001b[1;33m+\u001b[0m \u001b[0mstr\u001b[0m\u001b[1;33m(\u001b[0m\u001b[0mround\u001b[0m\u001b[1;33m(\u001b[0m\u001b[0mb\u001b[0m\u001b[1;33m,\u001b[0m\u001b[1;36m4\u001b[0m\u001b[1;33m)\u001b[0m\u001b[1;33m)\u001b[0m\u001b[1;33m\u001b[0m\u001b[1;33m\u001b[0m\u001b[0m\n\u001b[0;32m      4\u001b[0m \u001b[0mplt\u001b[0m\u001b[1;33m.\u001b[0m\u001b[0mscatter\u001b[0m\u001b[1;33m(\u001b[0m\u001b[0mdata_to_plot\u001b[0m\u001b[1;33m[\u001b[0m\u001b[1;34m'Smartfin'\u001b[0m\u001b[1;33m]\u001b[0m\u001b[1;33m,\u001b[0m\u001b[0mdata_to_plot\u001b[0m\u001b[1;33m[\u001b[0m\u001b[1;34m'Buoy'\u001b[0m\u001b[1;33m]\u001b[0m\u001b[1;33m,\u001b[0m \u001b[0mcolor\u001b[0m\u001b[1;33m=\u001b[0m\u001b[1;34m'red'\u001b[0m\u001b[1;33m)\u001b[0m\u001b[1;33m\u001b[0m\u001b[1;33m\u001b[0m\u001b[0m\n\u001b[0;32m      5\u001b[0m \u001b[0mplt\u001b[0m\u001b[1;33m.\u001b[0m\u001b[0mplot\u001b[0m\u001b[1;33m(\u001b[0m\u001b[0mdata_to_plot\u001b[0m\u001b[1;33m[\u001b[0m\u001b[1;34m'Smartfin'\u001b[0m\u001b[1;33m]\u001b[0m\u001b[1;33m,\u001b[0m\u001b[0myp\u001b[0m\u001b[1;33m)\u001b[0m\u001b[1;33m\u001b[0m\u001b[1;33m\u001b[0m\u001b[0m\n",
      "\u001b[1;31mNameError\u001b[0m: name 'm' is not defined"
     ]
    }
   ],
   "source": [
    "# (m,b) = np.polyfit(data_to_plot['Smartfin'],data_to_plot['Buoy'],1)\n",
    "yp = np.polyval([m,b],data_to_plot['Smartfin'])\n",
    "equation = 'y = ' + str(round(m,4)) + 'x' ' + ' + str(round(b,4))\n",
    "plt.scatter(data_to_plot['Smartfin'],data_to_plot['Buoy'], color='red')\n",
    "plt.plot(data_to_plot['Smartfin'],yp)\n",
    "#plt.text(1,1, equation)\n",
    "\n",
    "plt.xlabel('Smartfin Height [m]')\n",
    "plt.ylabel('CDIP Buoy Height [m]')\n",
    "plt.title('2017 Smartfin Height vs. CDIP Buoy Height', size=15)\n",
    "plt.grid()\n",
    "plt.show()\n",
    "print('Prediction is: ' + str(equation))\n",
    "\n",
    "#Calculate R^2 value\n",
    "# x = fin\n",
    "# y = buoy\n",
    "\n",
    "correlation_matrix = np.corrcoef(data_to_plot['Smartfin'], data_to_plot['Buoy'])\n",
    "correlation_xy = correlation_matrix[0,1]\n",
    "r_squared = correlation_xy**2\n",
    "\n",
    "print('R^2 value is: ' + str(r_squared))\n",
    "print(len(data_to_plot))"
   ]
  },
  {
   "cell_type": "code",
   "execution_count": null,
   "metadata": {
    "colab": {},
    "colab_type": "code",
    "id": "Y1gG5FwsPWQG"
   },
   "outputs": [],
   "source": [
    "# TODO: figure out how to implement the water time cropper and also match the height analysis in the smartfin app with the one here"
   ]
  }
 ],
 "metadata": {
  "colab": {
   "collapsed_sections": [],
   "name": "Scatter Plot.ipynb",
   "provenance": []
  },
  "kernelspec": {
   "display_name": "Python 3",
   "language": "python",
   "name": "python3"
  },
  "language_info": {
   "codemirror_mode": {
    "name": "ipython",
    "version": 3
   },
   "file_extension": ".py",
   "mimetype": "text/x-python",
   "name": "python",
   "nbconvert_exporter": "python",
   "pygments_lexer": "ipython3",
   "version": "3.8.3"
  }
 },
 "nbformat": 4,
 "nbformat_minor": 1
}
