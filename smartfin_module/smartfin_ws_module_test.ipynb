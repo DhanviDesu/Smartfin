{
 "cells": [
  {
   "cell_type": "code",
   "execution_count": 1,
   "metadata": {},
   "outputs": [],
   "source": [
    "from smartfin_ride_api import Ride"
   ]
  },
  {
   "cell_type": "code",
   "execution_count": 2,
   "metadata": {},
   "outputs": [
    {
     "name": "stdout",
     "output_type": "stream",
     "text": [
      "fetching ride from: https://surf.smartfin.org/ride/15692\n",
      "fetching ocean data from: https://surf.smartfin.org/media/201811/google_105349665704999793400_0006667E229D_181109191556_Ocean.CSV\n",
      "fetching motion data from: https://surf.smartfin.org/media/201811/google_105349665704999793400_0006667E229D_181109191556_Motion.CSV\n",
      "fetching ride from: https://surf.smartfin.org/ride/14814\n",
      "fetching ocean data from: https://surf.smartfin.org/media/201807/google_117589279598321562176_000666D321BE_180717191228_Ocean.CSV\n",
      "fetching motion data from: https://surf.smartfin.org/media/201807/google_117589279598321562176_000666D321BE_180717191228_Motion.CSV\n",
      "ride already in here\n",
      "ride already in here\n",
      "ride already in here\n",
      "ONE RIDE: {'15692': ['09/11/2018 19:16:03', '09/11/2018 20:38:03']} \n",
      "\n",
      "FEW RIDES: {'14814': ['17/07/2018 19:18:00', '17/07/2018 19:40:38'], '15692': ['09/11/2018 19:16:03', '09/11/2018 20:38:03']} \n",
      "\n",
      "ALL RIDES: {'15692': ['09/11/2018 19:16:03', '09/11/2018 20:38:03'], '14814': ['17/07/2018 19:18:00', '17/07/2018 19:40:38']} \n",
      "\n"
     ]
    }
   ],
   "source": [
    "ride = Ride()\n",
    "\n",
    "one_ride = ride.get_ride_timeframes('15692')\n",
    "few_rides = ride.get_ride_timeframes(['14814', '15692'])\n",
    "all_rides = ride.get_ride_timeframes()\n",
    "\n",
    "print(f'ONE RIDE: {one_ride} \\n')\n",
    "print(f'FEW RIDES: {few_rides} \\n')\n",
    "print(f'ALL RIDES: {all_rides} \\n')\n"
   ]
  },
  {
   "cell_type": "code",
   "execution_count": 3,
   "metadata": {
    "scrolled": false
   },
   "outputs": [
    {
     "name": "stdout",
     "output_type": "stream",
     "text": [
      "ride already in here\n",
      "ride already in here\n"
     ]
    },
    {
     "data": {
      "text/html": [
       "<div>\n",
       "<style scoped>\n",
       "    .dataframe tbody tr th:only-of-type {\n",
       "        vertical-align: middle;\n",
       "    }\n",
       "\n",
       "    .dataframe tbody tr th {\n",
       "        vertical-align: top;\n",
       "    }\n",
       "\n",
       "    .dataframe thead th {\n",
       "        text-align: right;\n",
       "    }\n",
       "</style>\n",
       "<table border=\"1\" class=\"dataframe\">\n",
       "  <thead>\n",
       "    <tr style=\"text-align: right;\">\n",
       "      <th></th>\n",
       "      <th>Time</th>\n",
       "      <th>IMU A1</th>\n",
       "      <th>IMU A2</th>\n",
       "      <th>IMU A3</th>\n",
       "      <th>IMU G1</th>\n",
       "      <th>IMU G2</th>\n",
       "      <th>IMU G3</th>\n",
       "      <th>IMU M1</th>\n",
       "      <th>IMU M2</th>\n",
       "      <th>IMU M3</th>\n",
       "      <th>Latitude</th>\n",
       "      <th>Longitude</th>\n",
       "      <th>TimeDelta</th>\n",
       "    </tr>\n",
       "    <tr>\n",
       "      <th>UTC</th>\n",
       "      <th></th>\n",
       "      <th></th>\n",
       "      <th></th>\n",
       "      <th></th>\n",
       "      <th></th>\n",
       "      <th></th>\n",
       "      <th></th>\n",
       "      <th></th>\n",
       "      <th></th>\n",
       "      <th></th>\n",
       "      <th></th>\n",
       "      <th></th>\n",
       "      <th></th>\n",
       "    </tr>\n",
       "  </thead>\n",
       "  <tbody>\n",
       "    <tr>\n",
       "      <th>2018-07-17 19:18:00.972000+00:00</th>\n",
       "      <td>793712.8605</td>\n",
       "      <td>-1.302446</td>\n",
       "      <td>-10.362105</td>\n",
       "      <td>9.136274</td>\n",
       "      <td>-5.0</td>\n",
       "      <td>16.0</td>\n",
       "      <td>10.0</td>\n",
       "      <td>270.0</td>\n",
       "      <td>306.0</td>\n",
       "      <td>102.0</td>\n",
       "      <td>32.88058</td>\n",
       "      <td>-117.23112</td>\n",
       "      <td>322011.5</td>\n",
       "    </tr>\n",
       "    <tr>\n",
       "      <th>2018-07-17 19:18:05.988000+00:00</th>\n",
       "      <td>793717.8610</td>\n",
       "      <td>-0.708684</td>\n",
       "      <td>-11.128249</td>\n",
       "      <td>9.155427</td>\n",
       "      <td>11.0</td>\n",
       "      <td>-42.0</td>\n",
       "      <td>21.0</td>\n",
       "      <td>282.0</td>\n",
       "      <td>296.0</td>\n",
       "      <td>108.0</td>\n",
       "      <td>32.88057</td>\n",
       "      <td>-117.23113</td>\n",
       "      <td>327012.0</td>\n",
       "    </tr>\n",
       "    <tr>\n",
       "      <th>2018-07-17 19:18:11.499000+00:00</th>\n",
       "      <td>793723.3485</td>\n",
       "      <td>-0.325611</td>\n",
       "      <td>-12.181698</td>\n",
       "      <td>6.876147</td>\n",
       "      <td>38.0</td>\n",
       "      <td>159.0</td>\n",
       "      <td>-5.0</td>\n",
       "      <td>239.0</td>\n",
       "      <td>329.0</td>\n",
       "      <td>97.0</td>\n",
       "      <td>32.88057</td>\n",
       "      <td>-117.23119</td>\n",
       "      <td>332499.5</td>\n",
       "    </tr>\n",
       "    <tr>\n",
       "      <th>2018-07-17 19:18:16.515000+00:00</th>\n",
       "      <td>793728.3485</td>\n",
       "      <td>0.593762</td>\n",
       "      <td>-9.940725</td>\n",
       "      <td>8.580819</td>\n",
       "      <td>-5.0</td>\n",
       "      <td>-125.0</td>\n",
       "      <td>-5.0</td>\n",
       "      <td>224.0</td>\n",
       "      <td>282.0</td>\n",
       "      <td>82.0</td>\n",
       "      <td>32.88061</td>\n",
       "      <td>-117.23122</td>\n",
       "      <td>337499.5</td>\n",
       "    </tr>\n",
       "    <tr>\n",
       "      <th>2018-07-17 19:20:47.061000+00:00</th>\n",
       "      <td>793878.4540</td>\n",
       "      <td>1.015142</td>\n",
       "      <td>-0.229843</td>\n",
       "      <td>-1.283292</td>\n",
       "      <td>-2.0</td>\n",
       "      <td>-23.0</td>\n",
       "      <td>1.0</td>\n",
       "      <td>264.0</td>\n",
       "      <td>-74.0</td>\n",
       "      <td>374.0</td>\n",
       "      <td>32.88074</td>\n",
       "      <td>-117.23140</td>\n",
       "      <td>487605.0</td>\n",
       "    </tr>\n",
       "  </tbody>\n",
       "</table>\n",
       "</div>"
      ],
      "text/plain": [
       "                                         Time    IMU A1     IMU A2    IMU A3  \\\n",
       "UTC                                                                            \n",
       "2018-07-17 19:18:00.972000+00:00  793712.8605 -1.302446 -10.362105  9.136274   \n",
       "2018-07-17 19:18:05.988000+00:00  793717.8610 -0.708684 -11.128249  9.155427   \n",
       "2018-07-17 19:18:11.499000+00:00  793723.3485 -0.325611 -12.181698  6.876147   \n",
       "2018-07-17 19:18:16.515000+00:00  793728.3485  0.593762  -9.940725  8.580819   \n",
       "2018-07-17 19:20:47.061000+00:00  793878.4540  1.015142  -0.229843 -1.283292   \n",
       "\n",
       "                                  IMU G1  IMU G2  IMU G3  IMU M1  IMU M2  \\\n",
       "UTC                                                                        \n",
       "2018-07-17 19:18:00.972000+00:00    -5.0    16.0    10.0   270.0   306.0   \n",
       "2018-07-17 19:18:05.988000+00:00    11.0   -42.0    21.0   282.0   296.0   \n",
       "2018-07-17 19:18:11.499000+00:00    38.0   159.0    -5.0   239.0   329.0   \n",
       "2018-07-17 19:18:16.515000+00:00    -5.0  -125.0    -5.0   224.0   282.0   \n",
       "2018-07-17 19:20:47.061000+00:00    -2.0   -23.0     1.0   264.0   -74.0   \n",
       "\n",
       "                                  IMU M3  Latitude  Longitude  TimeDelta  \n",
       "UTC                                                                       \n",
       "2018-07-17 19:18:00.972000+00:00   102.0  32.88058 -117.23112   322011.5  \n",
       "2018-07-17 19:18:05.988000+00:00   108.0  32.88057 -117.23113   327012.0  \n",
       "2018-07-17 19:18:11.499000+00:00    97.0  32.88057 -117.23119   332499.5  \n",
       "2018-07-17 19:18:16.515000+00:00    82.0  32.88061 -117.23122   337499.5  \n",
       "2018-07-17 19:20:47.061000+00:00   374.0  32.88074 -117.23140   487605.0  "
      ]
     },
     "execution_count": 3,
     "metadata": {},
     "output_type": "execute_result"
    }
   ],
   "source": [
    "dfs = ride.get_rides(['14814', '15692'])\n",
    "df = dfs['14814']\n",
    "df.head()"
   ]
  },
  {
   "cell_type": "code",
   "execution_count": 10,
   "metadata": {},
   "outputs": [
    {
     "name": "stdout",
     "output_type": "stream",
     "text": [
      "ride already in here\n",
      "ride already in here\n",
      "ride already in here\n"
     ]
    },
    {
     "data": {
      "text/html": [
       "<div>\n",
       "<style scoped>\n",
       "    .dataframe tbody tr th:only-of-type {\n",
       "        vertical-align: middle;\n",
       "    }\n",
       "\n",
       "    .dataframe tbody tr th {\n",
       "        vertical-align: top;\n",
       "    }\n",
       "\n",
       "    .dataframe thead th {\n",
       "        text-align: right;\n",
       "    }\n",
       "</style>\n",
       "<table border=\"1\" class=\"dataframe\">\n",
       "  <thead>\n",
       "    <tr style=\"text-align: right;\">\n",
       "      <th></th>\n",
       "      <th>Time</th>\n",
       "      <th>IMU A1</th>\n",
       "      <th>IMU A2</th>\n",
       "      <th>IMU A3</th>\n",
       "      <th>IMU G1</th>\n",
       "      <th>IMU G2</th>\n",
       "      <th>IMU G3</th>\n",
       "      <th>IMU M1</th>\n",
       "      <th>IMU M2</th>\n",
       "      <th>IMU M3</th>\n",
       "      <th>Latitude</th>\n",
       "      <th>Longitude</th>\n",
       "      <th>TimeDelta</th>\n",
       "    </tr>\n",
       "    <tr>\n",
       "      <th>UTC</th>\n",
       "      <th></th>\n",
       "      <th></th>\n",
       "      <th></th>\n",
       "      <th></th>\n",
       "      <th></th>\n",
       "      <th></th>\n",
       "      <th></th>\n",
       "      <th></th>\n",
       "      <th></th>\n",
       "      <th></th>\n",
       "      <th></th>\n",
       "      <th></th>\n",
       "      <th></th>\n",
       "    </tr>\n",
       "  </thead>\n",
       "  <tbody>\n",
       "    <tr>\n",
       "      <th>2018-11-09 19:16:03.789000+00:00</th>\n",
       "      <td>1.414743e+06</td>\n",
       "      <td>9.442731</td>\n",
       "      <td>-8.887277</td>\n",
       "      <td>2.106897</td>\n",
       "      <td>75.0</td>\n",
       "      <td>-124.0</td>\n",
       "      <td>-86.0</td>\n",
       "      <td>-309.0</td>\n",
       "      <td>209.0</td>\n",
       "      <td>39.0</td>\n",
       "      <td>32.85871</td>\n",
       "      <td>-117.25690</td>\n",
       "      <td>0.0</td>\n",
       "    </tr>\n",
       "    <tr>\n",
       "      <th>2018-11-09 19:16:35.997000+00:00</th>\n",
       "      <td>1.414775e+06</td>\n",
       "      <td>-1.685518</td>\n",
       "      <td>-0.555455</td>\n",
       "      <td>1.570596</td>\n",
       "      <td>-20.0</td>\n",
       "      <td>127.0</td>\n",
       "      <td>-77.0</td>\n",
       "      <td>-95.0</td>\n",
       "      <td>-173.0</td>\n",
       "      <td>199.0</td>\n",
       "      <td>32.85872</td>\n",
       "      <td>-117.25727</td>\n",
       "      <td>32004.5</td>\n",
       "    </tr>\n",
       "    <tr>\n",
       "      <th>2018-11-09 19:17:13.980000+00:00</th>\n",
       "      <td>1.414813e+06</td>\n",
       "      <td>1.225831</td>\n",
       "      <td>-19.843143</td>\n",
       "      <td>-0.766145</td>\n",
       "      <td>-64.0</td>\n",
       "      <td>-9.0</td>\n",
       "      <td>27.0</td>\n",
       "      <td>-78.0</td>\n",
       "      <td>328.0</td>\n",
       "      <td>-12.0</td>\n",
       "      <td>32.85872</td>\n",
       "      <td>-117.25732</td>\n",
       "      <td>69763.0</td>\n",
       "    </tr>\n",
       "    <tr>\n",
       "      <th>2018-11-09 19:17:19.491000+00:00</th>\n",
       "      <td>1.414818e+06</td>\n",
       "      <td>0.785298</td>\n",
       "      <td>-18.962077</td>\n",
       "      <td>0.210690</td>\n",
       "      <td>-14.0</td>\n",
       "      <td>54.0</td>\n",
       "      <td>6.0</td>\n",
       "      <td>-69.0</td>\n",
       "      <td>321.0</td>\n",
       "      <td>-23.0</td>\n",
       "      <td>32.85871</td>\n",
       "      <td>-117.25731</td>\n",
       "      <td>75247.5</td>\n",
       "    </tr>\n",
       "    <tr>\n",
       "      <th>2018-11-09 19:18:24.501000+00:00</th>\n",
       "      <td>1.414883e+06</td>\n",
       "      <td>0.823605</td>\n",
       "      <td>0.632069</td>\n",
       "      <td>3.236961</td>\n",
       "      <td>4.0</td>\n",
       "      <td>145.0</td>\n",
       "      <td>78.0</td>\n",
       "      <td>-91.0</td>\n",
       "      <td>-159.0</td>\n",
       "      <td>209.0</td>\n",
       "      <td>32.85884</td>\n",
       "      <td>-117.25756</td>\n",
       "      <td>139867.5</td>\n",
       "    </tr>\n",
       "  </tbody>\n",
       "</table>\n",
       "</div>"
      ],
      "text/plain": [
       "                                          Time    IMU A1     IMU A2    IMU A3  \\\n",
       "UTC                                                                             \n",
       "2018-11-09 19:16:03.789000+00:00  1.414743e+06  9.442731  -8.887277  2.106897   \n",
       "2018-11-09 19:16:35.997000+00:00  1.414775e+06 -1.685518  -0.555455  1.570596   \n",
       "2018-11-09 19:17:13.980000+00:00  1.414813e+06  1.225831 -19.843143 -0.766145   \n",
       "2018-11-09 19:17:19.491000+00:00  1.414818e+06  0.785298 -18.962077  0.210690   \n",
       "2018-11-09 19:18:24.501000+00:00  1.414883e+06  0.823605   0.632069  3.236961   \n",
       "\n",
       "                                  IMU G1  IMU G2  IMU G3  IMU M1  IMU M2  \\\n",
       "UTC                                                                        \n",
       "2018-11-09 19:16:03.789000+00:00    75.0  -124.0   -86.0  -309.0   209.0   \n",
       "2018-11-09 19:16:35.997000+00:00   -20.0   127.0   -77.0   -95.0  -173.0   \n",
       "2018-11-09 19:17:13.980000+00:00   -64.0    -9.0    27.0   -78.0   328.0   \n",
       "2018-11-09 19:17:19.491000+00:00   -14.0    54.0     6.0   -69.0   321.0   \n",
       "2018-11-09 19:18:24.501000+00:00     4.0   145.0    78.0   -91.0  -159.0   \n",
       "\n",
       "                                  IMU M3  Latitude  Longitude  TimeDelta  \n",
       "UTC                                                                       \n",
       "2018-11-09 19:16:03.789000+00:00    39.0  32.85871 -117.25690        0.0  \n",
       "2018-11-09 19:16:35.997000+00:00   199.0  32.85872 -117.25727    32004.5  \n",
       "2018-11-09 19:17:13.980000+00:00   -12.0  32.85872 -117.25732    69763.0  \n",
       "2018-11-09 19:17:19.491000+00:00   -23.0  32.85871 -117.25731    75247.5  \n",
       "2018-11-09 19:18:24.501000+00:00   209.0  32.85884 -117.25756   139867.5  "
      ]
     },
     "execution_count": 10,
     "metadata": {},
     "output_type": "execute_result"
    }
   ],
   "source": [
    "dfs = ride.get_rides()\n",
    "dfs['15692'].head()"
   ]
  },
  {
   "cell_type": "code",
   "execution_count": 5,
   "metadata": {},
   "outputs": [
    {
     "name": "stdout",
     "output_type": "stream",
     "text": [
      "ride already in here\n"
     ]
    },
    {
     "data": {
      "text/plain": [
       "{'15692': ['09/11/2018 19:16:03', '09/11/2018 20:38:03']}"
      ]
     },
     "execution_count": 5,
     "metadata": {},
     "output_type": "execute_result"
    }
   ],
   "source": [
    "ride.get_ride_timeframes('15692')"
   ]
  },
  {
   "cell_type": "code",
   "execution_count": 6,
   "metadata": {},
   "outputs": [
    {
     "name": "stdout",
     "output_type": "stream",
     "text": [
      "ride already in here\n",
      "fetching ride from: https://surf.smartfin.org/ride/14815\n",
      "fetching ocean data from: https://surf.smartfin.org/media/201807/google_117589279598321562176_000666D321BE_180719231539_Ocean.CSV\n",
      "fetching motion data from: https://surf.smartfin.org/media/201807/google_117589279598321562176_000666D321BE_180719231539_Motion.CSV\n",
      "ride already in here\n"
     ]
    },
    {
     "data": {
      "text/plain": [
       "{'14814': ['17/07/2018 19:18:00', '17/07/2018 19:40:38'],\n",
       " '14815': ['19/07/2018 23:23:06', '19/07/2018 23:46:40'],\n",
       " '15692': ['09/11/2018 19:16:03', '09/11/2018 20:38:03']}"
      ]
     },
     "execution_count": 6,
     "metadata": {},
     "output_type": "execute_result"
    }
   ],
   "source": [
    "ride.get_ride_timeframes(['14814', '14815', '15692'])"
   ]
  },
  {
   "cell_type": "code",
   "execution_count": 7,
   "metadata": {},
   "outputs": [
    {
     "name": "stdout",
     "output_type": "stream",
     "text": [
      "ride already in here\n",
      "ride already in here\n",
      "ride already in here\n"
     ]
    },
    {
     "data": {
      "text/plain": [
       "{'15692': ['09/11/2018 19:16:03', '09/11/2018 20:38:03'],\n",
       " '14814': ['17/07/2018 19:18:00', '17/07/2018 19:40:38'],\n",
       " '14815': ['19/07/2018 23:23:06', '19/07/2018 23:46:40']}"
      ]
     },
     "execution_count": 7,
     "metadata": {},
     "output_type": "execute_result"
    }
   ],
   "source": [
    "ride.get_ride_timeframes()"
   ]
  },
  {
   "cell_type": "code",
   "execution_count": 8,
   "metadata": {},
   "outputs": [
    {
     "name": "stdout",
     "output_type": "stream",
     "text": [
      "ride already in here\n",
      "checking for nearest buoy... 1/70\n",
      "checking for nearest buoy... 2/70\n",
      "checking for nearest buoy... 3/70\n",
      "checking for nearest buoy... 4/70\n",
      "checking for nearest buoy... 5/70\n",
      "checking for nearest buoy... 6/70\n",
      "checking for nearest buoy... 7/70\n",
      "checking for nearest buoy... 8/70\n",
      "checking for nearest buoy... 9/70\n",
      "checking for nearest buoy... 10/70\n",
      "checking for nearest buoy... 11/70\n",
      "checking for nearest buoy... 12/70\n",
      "checking for nearest buoy... 13/70\n",
      "checking for nearest buoy... 14/70\n",
      "checking for nearest buoy... 15/70\n",
      "checking for nearest buoy... 16/70\n",
      "checking for nearest buoy... 17/70\n",
      "checking for nearest buoy... 18/70\n",
      "checking for nearest buoy... 19/70\n",
      "checking for nearest buoy... 20/70\n",
      "checking for nearest buoy... 21/70\n",
      "checking for nearest buoy... 23/70\n",
      "checking for nearest buoy... 24/70\n",
      "checking for nearest buoy... 25/70\n",
      "checking for nearest buoy... 26/70\n",
      "checking for nearest buoy... 27/70\n",
      "checking for nearest buoy... 28/70\n",
      "checking for nearest buoy... 29/70\n",
      "checking for nearest buoy... 30/70\n",
      "checking for nearest buoy... 31/70\n",
      "checking for nearest buoy... 32/70\n",
      "checking for nearest buoy... 33/70\n",
      "checking for nearest buoy... 34/70\n",
      "checking for nearest buoy... 35/70\n",
      "checking for nearest buoy... 36/70\n",
      "checking for nearest buoy... 37/70\n",
      "checking for nearest buoy... 38/70\n",
      "checking for nearest buoy... 39/70\n",
      "checking for nearest buoy... 40/70\n",
      "checking for nearest buoy... 41/70\n",
      "checking for nearest buoy... 42/70\n",
      "checking for nearest buoy... 43/70\n",
      "checking for nearest buoy... 44/70\n",
      "checking for nearest buoy... 45/70\n",
      "checking for nearest buoy... 46/70\n",
      "checking for nearest buoy... 47/70\n",
      "checking for nearest buoy... 48/70\n",
      "checking for nearest buoy... 49/70\n",
      "checking for nearest buoy... 50/70\n",
      "checking for nearest buoy... 51/70\n",
      "checking for nearest buoy... 52/70\n",
      "checking for nearest buoy... 53/70\n",
      "checking for nearest buoy... 54/70\n",
      "checking for nearest buoy... 55/70\n",
      "checking for nearest buoy... 56/70\n",
      "checking for nearest buoy... 57/70\n",
      "checking for nearest buoy... 58/70\n",
      "checking for nearest buoy... 59/70\n",
      "checking for nearest buoy... 60/70\n",
      "checking for nearest buoy... 61/70\n",
      "checking for nearest buoy... 62/70\n",
      "checking for nearest buoy... 63/70\n",
      "checking for nearest buoy... 64/70\n",
      "checking for nearest buoy... 65/70\n",
      "checking for nearest buoy... 66/70\n",
      "checking for nearest buoy... 67/70\n",
      "checking for nearest buoy... 68/70\n",
      "retriving CDIP wave heights from: http://thredds.cdip.ucsd.edu/thredds/dodsC/cdip/archive/201p1/201p1_historic.nc\n",
      "calculating significant wave height between 09/11/2018 19:16:03 - 09/11/2018 20:38:03\n",
      "mean wave height: 0.41854390501976013\n"
     ]
    },
    {
     "data": {
      "text/plain": [
       "{'15692': [0.4185439, [0.42344794, 0.41363987]]}"
      ]
     },
     "execution_count": 8,
     "metadata": {},
     "output_type": "execute_result"
    }
   ],
   "source": [
    "ride.get_CDIP_heights(ride_ids='15692')"
   ]
  },
  {
   "cell_type": "code",
   "execution_count": 9,
   "metadata": {},
   "outputs": [
    {
     "ename": "TypeError",
     "evalue": "label_data() got an unexpected keyword argument 'ride_id'",
     "output_type": "error",
     "traceback": [
      "\u001b[1;31m---------------------------------------------------------------------------\u001b[0m",
      "\u001b[1;31mTypeError\u001b[0m                                 Traceback (most recent call last)",
      "\u001b[1;32m<ipython-input-9-69f0659ce0e3>\u001b[0m in \u001b[0;36m<module>\u001b[1;34m\u001b[0m\n\u001b[1;32m----> 1\u001b[1;33m \u001b[0mride\u001b[0m\u001b[1;33m.\u001b[0m\u001b[0mlabel_data\u001b[0m\u001b[1;33m(\u001b[0m\u001b[0mride_id\u001b[0m\u001b[1;33m=\u001b[0m\u001b[1;34m'15692'\u001b[0m\u001b[1;33m,\u001b[0m \u001b[0mfootage_file\u001b[0m\u001b[1;33m=\u001b[0m \u001b[1;34m'../Labelled_Footage/Footage3.txt'\u001b[0m\u001b[1;33m,\u001b[0m \u001b[0mlabelling_method\u001b[0m\u001b[1;33m=\u001b[0m\u001b[1;34m'complex'\u001b[0m\u001b[1;33m)\u001b[0m\u001b[1;33m\u001b[0m\u001b[1;33m\u001b[0m\u001b[0m\n\u001b[0m",
      "\u001b[1;31mTypeError\u001b[0m: label_data() got an unexpected keyword argument 'ride_id'"
     ]
    }
   ],
   "source": [
    "ride.label_data(ride_id='15692', footage_file= '../Labelled_Footage/Footage3.txt', labelling_method='complex')"
   ]
  },
  {
   "cell_type": "code",
   "execution_count": null,
   "metadata": {},
   "outputs": [],
   "source": []
  },
  {
   "cell_type": "code",
   "execution_count": null,
   "metadata": {},
   "outputs": [],
   "source": []
  }
 ],
 "metadata": {
  "kernelspec": {
   "display_name": "Python 3",
   "language": "python",
   "name": "python3"
  },
  "language_info": {
   "codemirror_mode": {
    "name": "ipython",
    "version": 3
   },
   "file_extension": ".py",
   "mimetype": "text/x-python",
   "name": "python",
   "nbconvert_exporter": "python",
   "pygments_lexer": "ipython3",
   "version": "3.8.3"
  }
 },
 "nbformat": 4,
 "nbformat_minor": 4
}
