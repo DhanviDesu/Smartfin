{
 "cells": [
  {
   "cell_type": "code",
   "execution_count": 13,
   "metadata": {},
   "outputs": [],
   "source": [
    "from smartfin_ride_api import Ride"
   ]
  },
  {
   "cell_type": "code",
   "execution_count": 14,
   "metadata": {},
   "outputs": [
    {
     "name": "stdout",
     "output_type": "stream",
     "text": [
      "fetching ride from: https://surf.smartfin.org/ride/15692\n",
      "fetching ocean data from: https://surf.smartfin.org/media/201811/google_105349665704999793400_0006667E229D_181109191556_Ocean.CSV\n",
      "fetching motion data from: https://surf.smartfin.org/media/201811/google_105349665704999793400_0006667E229D_181109191556_Motion.CSV\n",
      "<class 'pandas.core.frame.DataFrame'>\n",
      "fetching ride from: https://surf.smartfin.org/ride/14814\n",
      "fetching ocean data from: https://surf.smartfin.org/media/201807/google_117589279598321562176_000666D321BE_180717191228_Ocean.CSV\n",
      "fetching motion data from: https://surf.smartfin.org/media/201807/google_117589279598321562176_000666D321BE_180717191228_Motion.CSV\n",
      "<class 'pandas.core.frame.DataFrame'>\n",
      "ride already in here\n",
      "ride already in here\n",
      "ride already in here\n",
      "ONE RIDE: {'15692': ['09/11/2018 19:16:03', '09/11/2018 20:38:15']} \n",
      "\n",
      "FEW RIDES: {'14814': ['17/07/2018 19:12:37', '17/07/2018 19:42:00'], '15692': ['09/11/2018 19:16:03', '09/11/2018 20:38:15']} \n",
      "\n",
      "ALL RIDES: {'15692': ['09/11/2018 19:16:03', '09/11/2018 20:38:15'], '14814': ['17/07/2018 19:12:37', '17/07/2018 19:42:00']} \n",
      "\n"
     ]
    }
   ],
   "source": [
    "ride = Ride()\n",
    "\n",
    "one_ride = ride.get_ride_timeframes('15692')\n",
    "few_rides = ride.get_ride_timeframes(['14814', '15692'])\n",
    "all_rides = ride.get_ride_timeframes()\n",
    "\n",
    "print(f'ONE RIDE: {one_ride} \\n')\n",
    "print(f'FEW RIDES: {few_rides} \\n')\n",
    "print(f'ALL RIDES: {all_rides} \\n')\n"
   ]
  },
  {
   "cell_type": "code",
   "execution_count": 15,
   "metadata": {
    "scrolled": false
   },
   "outputs": [
    {
     "name": "stdout",
     "output_type": "stream",
     "text": [
      "ride already in here\n",
      "ride already in here\n"
     ]
    },
    {
     "data": {
      "text/html": [
       "<div>\n",
       "<style scoped>\n",
       "    .dataframe tbody tr th:only-of-type {\n",
       "        vertical-align: middle;\n",
       "    }\n",
       "\n",
       "    .dataframe tbody tr th {\n",
       "        vertical-align: top;\n",
       "    }\n",
       "\n",
       "    .dataframe thead th {\n",
       "        text-align: right;\n",
       "    }\n",
       "</style>\n",
       "<table border=\"1\" class=\"dataframe\">\n",
       "  <thead>\n",
       "    <tr style=\"text-align: right;\">\n",
       "      <th></th>\n",
       "      <th>Time</th>\n",
       "      <th>IMU A1</th>\n",
       "      <th>IMU A2</th>\n",
       "      <th>IMU A3</th>\n",
       "      <th>IMU G1</th>\n",
       "      <th>IMU G2</th>\n",
       "      <th>IMU G3</th>\n",
       "      <th>IMU M1</th>\n",
       "      <th>IMU M2</th>\n",
       "      <th>IMU M3</th>\n",
       "      <th>TimeDelta</th>\n",
       "    </tr>\n",
       "    <tr>\n",
       "      <th>UTC</th>\n",
       "      <th></th>\n",
       "      <th></th>\n",
       "      <th></th>\n",
       "      <th></th>\n",
       "      <th></th>\n",
       "      <th></th>\n",
       "      <th></th>\n",
       "      <th></th>\n",
       "      <th></th>\n",
       "      <th></th>\n",
       "      <th></th>\n",
       "    </tr>\n",
       "  </thead>\n",
       "  <tbody>\n",
       "    <tr>\n",
       "      <th>2018-07-17 19:12:37.968000+00:00</th>\n",
       "      <td>793390849.0</td>\n",
       "      <td>337.0</td>\n",
       "      <td>112.0</td>\n",
       "      <td>354.0</td>\n",
       "      <td>-24.0</td>\n",
       "      <td>-11.0</td>\n",
       "      <td>-97.0</td>\n",
       "      <td>27.0</td>\n",
       "      <td>1.0</td>\n",
       "      <td>181.0</td>\n",
       "      <td>0.0</td>\n",
       "    </tr>\n",
       "    <tr>\n",
       "      <th>2018-07-17 19:12:38.232000+00:00</th>\n",
       "      <td>793391099.0</td>\n",
       "      <td>354.0</td>\n",
       "      <td>106.0</td>\n",
       "      <td>315.0</td>\n",
       "      <td>-131.0</td>\n",
       "      <td>-237.0</td>\n",
       "      <td>-18.0</td>\n",
       "      <td>15.0</td>\n",
       "      <td>15.0</td>\n",
       "      <td>179.0</td>\n",
       "      <td>250.0</td>\n",
       "    </tr>\n",
       "    <tr>\n",
       "      <th>2018-07-17 19:12:38.496000+00:00</th>\n",
       "      <td>793391351.0</td>\n",
       "      <td>342.0</td>\n",
       "      <td>15.0</td>\n",
       "      <td>349.0</td>\n",
       "      <td>44.0</td>\n",
       "      <td>256.0</td>\n",
       "      <td>19.0</td>\n",
       "      <td>7.0</td>\n",
       "      <td>21.0</td>\n",
       "      <td>175.0</td>\n",
       "      <td>502.0</td>\n",
       "    </tr>\n",
       "    <tr>\n",
       "      <th>2018-07-17 19:12:38.727000+00:00</th>\n",
       "      <td>793391601.0</td>\n",
       "      <td>312.0</td>\n",
       "      <td>-33.0</td>\n",
       "      <td>395.0</td>\n",
       "      <td>-57.0</td>\n",
       "      <td>126.0</td>\n",
       "      <td>99.0</td>\n",
       "      <td>21.0</td>\n",
       "      <td>45.0</td>\n",
       "      <td>125.0</td>\n",
       "      <td>752.0</td>\n",
       "    </tr>\n",
       "    <tr>\n",
       "      <th>2018-07-17 19:12:38.991000+00:00</th>\n",
       "      <td>793391853.0</td>\n",
       "      <td>202.0</td>\n",
       "      <td>-58.0</td>\n",
       "      <td>424.0</td>\n",
       "      <td>336.0</td>\n",
       "      <td>743.0</td>\n",
       "      <td>143.0</td>\n",
       "      <td>39.0</td>\n",
       "      <td>55.0</td>\n",
       "      <td>97.0</td>\n",
       "      <td>1004.0</td>\n",
       "    </tr>\n",
       "  </tbody>\n",
       "</table>\n",
       "</div>"
      ],
      "text/plain": [
       "                                         Time  IMU A1  IMU A2  IMU A3  IMU G1  \\\n",
       "UTC                                                                             \n",
       "2018-07-17 19:12:37.968000+00:00  793390849.0   337.0   112.0   354.0   -24.0   \n",
       "2018-07-17 19:12:38.232000+00:00  793391099.0   354.0   106.0   315.0  -131.0   \n",
       "2018-07-17 19:12:38.496000+00:00  793391351.0   342.0    15.0   349.0    44.0   \n",
       "2018-07-17 19:12:38.727000+00:00  793391601.0   312.0   -33.0   395.0   -57.0   \n",
       "2018-07-17 19:12:38.991000+00:00  793391853.0   202.0   -58.0   424.0   336.0   \n",
       "\n",
       "                                  IMU G2  IMU G3  IMU M1  IMU M2  IMU M3  \\\n",
       "UTC                                                                        \n",
       "2018-07-17 19:12:37.968000+00:00   -11.0   -97.0    27.0     1.0   181.0   \n",
       "2018-07-17 19:12:38.232000+00:00  -237.0   -18.0    15.0    15.0   179.0   \n",
       "2018-07-17 19:12:38.496000+00:00   256.0    19.0     7.0    21.0   175.0   \n",
       "2018-07-17 19:12:38.727000+00:00   126.0    99.0    21.0    45.0   125.0   \n",
       "2018-07-17 19:12:38.991000+00:00   743.0   143.0    39.0    55.0    97.0   \n",
       "\n",
       "                                  TimeDelta  \n",
       "UTC                                          \n",
       "2018-07-17 19:12:37.968000+00:00        0.0  \n",
       "2018-07-17 19:12:38.232000+00:00      250.0  \n",
       "2018-07-17 19:12:38.496000+00:00      502.0  \n",
       "2018-07-17 19:12:38.727000+00:00      752.0  \n",
       "2018-07-17 19:12:38.991000+00:00     1004.0  "
      ]
     },
     "execution_count": 15,
     "metadata": {},
     "output_type": "execute_result"
    }
   ],
   "source": [
    "dfs = ride.get_rides(['14814', '15692'], convert_imu='')\n",
    "df = dfs['14814']\n",
    "df.head()"
   ]
  },
  {
   "cell_type": "code",
   "execution_count": 12,
   "metadata": {},
   "outputs": [
    {
     "data": {
      "text/plain": [
       "{'15692':                                           Time  IMU A1     IMU A2  IMU A3  \\\n",
       " UTC                                                                         \n",
       " 2018-11-09 19:16:03.789000+00:00  1.414743e+09   493.0  10.726023   110.0   \n",
       " 2018-11-09 19:16:04.053000+00:00  1.414743e+09   513.0  11.511322    62.0   \n",
       " 2018-11-09 19:16:04.284000+00:00  1.414743e+09   494.0  11.568782    80.0   \n",
       " 2018-11-09 19:16:04.548000+00:00  1.414744e+09   421.0  13.733141  -104.0   \n",
       " 2018-11-09 19:16:04.812000+00:00  1.414744e+09   534.0  15.667656   -32.0   \n",
       " ...                                        ...     ...        ...     ...   \n",
       " 2018-11-09 20:38:14.055000+00:00  1.419643e+09   501.0   9.595960    99.0   \n",
       " 2018-11-09 20:38:14.319000+00:00  1.419644e+09   501.0   9.595960    99.0   \n",
       " 2018-11-09 20:38:14.583000+00:00  1.419644e+09   502.0   9.595960    99.0   \n",
       " 2018-11-09 20:38:14.814000+00:00  1.419644e+09   501.0   9.557653    99.0   \n",
       " 2018-11-09 20:38:15.078000+00:00  1.419644e+09   501.0   9.595960    98.0   \n",
       " \n",
       "                                   IMU G1  IMU G2  IMU G3  IMU M1  IMU M2  \\\n",
       " UTC                                                                        \n",
       " 2018-11-09 19:16:03.789000+00:00    75.0  -124.0   -86.0  -309.0   209.0   \n",
       " 2018-11-09 19:16:04.053000+00:00    34.0   -36.0   -92.0  -320.0   194.0   \n",
       " 2018-11-09 19:16:04.284000+00:00    69.0   -63.0   -42.0  -329.0   189.0   \n",
       " 2018-11-09 19:16:04.548000+00:00   192.0   -92.0   -37.0  -330.0   180.0   \n",
       " 2018-11-09 19:16:04.812000+00:00  -421.0  -233.0  -229.0  -325.0   161.0   \n",
       " ...                                  ...     ...     ...     ...     ...   \n",
       " 2018-11-09 20:38:14.055000+00:00     9.0    21.0     2.0  -293.0   259.0   \n",
       " 2018-11-09 20:38:14.319000+00:00     9.0    20.0     2.0  -303.0   267.0   \n",
       " 2018-11-09 20:38:14.583000+00:00    10.0    21.0     1.0  -308.0   262.0   \n",
       " 2018-11-09 20:38:14.814000+00:00    10.0    21.0     1.0  -310.0   260.0   \n",
       " 2018-11-09 20:38:15.078000+00:00    10.0    20.0     2.0  -309.0   265.0   \n",
       " \n",
       "                                   IMU M3  TimeDelta  \n",
       " UTC                                                  \n",
       " 2018-11-09 19:16:03.789000+00:00    39.0        0.0  \n",
       " 2018-11-09 19:16:04.053000+00:00    38.0      252.5  \n",
       " 2018-11-09 19:16:04.284000+00:00    49.0      501.5  \n",
       " 2018-11-09 19:16:04.548000+00:00    64.0      753.5  \n",
       " 2018-11-09 19:16:04.812000+00:00    97.0     1003.5  \n",
       " ...                                  ...        ...  \n",
       " 2018-11-09 20:38:14.055000+00:00    41.0  4900552.5  \n",
       " 2018-11-09 20:38:14.319000+00:00    37.0  4900803.5  \n",
       " 2018-11-09 20:38:14.583000+00:00    32.0  4901054.5  \n",
       " 2018-11-09 20:38:14.814000+00:00    38.0  4901305.5  \n",
       " 2018-11-09 20:38:15.078000+00:00    35.0  4901557.5  \n",
       " \n",
       " [21645 rows x 11 columns],\n",
       " '14814':                                          Time  IMU A1     IMU A2  IMU A3  \\\n",
       " UTC                                                                        \n",
       " 2018-07-17 19:12:37.968000+00:00  793390849.0   337.0  11.951855   354.0   \n",
       " 2018-07-17 19:12:38.232000+00:00  793391099.0   354.0  11.836933   315.0   \n",
       " 2018-07-17 19:12:38.496000+00:00  793391351.0   342.0  10.093954   349.0   \n",
       " 2018-07-17 19:12:38.727000+00:00  793391601.0   312.0   9.174581   395.0   \n",
       " 2018-07-17 19:12:38.991000+00:00  793391853.0   202.0   8.695740   424.0   \n",
       " ...                                       ...     ...        ...     ...   \n",
       " 2018-07-17 19:41:59.739000+00:00  795147255.0   399.0   2.049437   272.0   \n",
       " 2018-07-17 19:41:59.970000+00:00  795147505.0   -40.0   6.339846   441.0   \n",
       " 2018-07-17 19:42:00.234000+00:00  795147757.0     5.0   7.852981   450.0   \n",
       " 2018-07-17 19:42:00.498000+00:00  795148007.0   -22.0   6.722918   523.0   \n",
       " 2018-07-17 19:42:00.729000+00:00  795148248.0     7.0   7.776367   512.0   \n",
       " \n",
       "                                   IMU G1  IMU G2  IMU G3  IMU M1  IMU M2  \\\n",
       " UTC                                                                        \n",
       " 2018-07-17 19:12:37.968000+00:00   -24.0   -11.0   -97.0    27.0     1.0   \n",
       " 2018-07-17 19:12:38.232000+00:00  -131.0  -237.0   -18.0    15.0    15.0   \n",
       " 2018-07-17 19:12:38.496000+00:00    44.0   256.0    19.0     7.0    21.0   \n",
       " 2018-07-17 19:12:38.727000+00:00   -57.0   126.0    99.0    21.0    45.0   \n",
       " 2018-07-17 19:12:38.991000+00:00   336.0   743.0   143.0    39.0    55.0   \n",
       " ...                                  ...     ...     ...     ...     ...   \n",
       " 2018-07-17 19:41:59.739000+00:00  1586.0  1789.0   168.0   -38.0   252.0   \n",
       " 2018-07-17 19:41:59.970000+00:00   256.0   156.0   129.0    66.0   146.0   \n",
       " 2018-07-17 19:42:00.234000+00:00    17.0   117.0   -31.0    97.0   109.0   \n",
       " 2018-07-17 19:42:00.498000+00:00   172.0   -53.0   -94.0   105.0   127.0   \n",
       " 2018-07-17 19:42:00.729000+00:00   112.0  -124.0   124.0    94.0   112.0   \n",
       " \n",
       "                                   IMU M3  TimeDelta  \n",
       " UTC                                                  \n",
       " 2018-07-17 19:12:37.968000+00:00   181.0        0.0  \n",
       " 2018-07-17 19:12:38.232000+00:00   179.0      250.0  \n",
       " 2018-07-17 19:12:38.496000+00:00   175.0      502.0  \n",
       " 2018-07-17 19:12:38.727000+00:00   125.0      752.0  \n",
       " 2018-07-17 19:12:38.991000+00:00    97.0     1004.0  \n",
       " ...                                  ...        ...  \n",
       " 2018-07-17 19:41:59.739000+00:00   110.0  1756406.0  \n",
       " 2018-07-17 19:41:59.970000+00:00    18.0  1756656.0  \n",
       " 2018-07-17 19:42:00.234000+00:00    17.0  1756908.0  \n",
       " 2018-07-17 19:42:00.498000+00:00     9.0  1757158.0  \n",
       " 2018-07-17 19:42:00.729000+00:00    -6.0  1757399.0  \n",
       " \n",
       " [7479 rows x 11 columns],\n",
       " '14815':                                           Time  IMU A1     IMU A2  IMU A3  \\\n",
       " UTC                                                                         \n",
       " 2018-07-19 23:15:48.489000+00:00  1.021624e+09  -151.0  11.243171   477.0   \n",
       " 2018-07-19 23:15:48.753000+00:00  1.021624e+09  -152.0  11.128249   483.0   \n",
       " 2018-07-19 23:15:48.984000+00:00  1.021624e+09  -153.0  11.070788   477.0   \n",
       " 2018-07-19 23:15:49.248000+00:00  1.021625e+09  -147.0  10.860099   475.0   \n",
       " 2018-07-19 23:15:49.512000+00:00  1.021625e+09  -151.0  10.936713   487.0   \n",
       " ...                                        ...     ...        ...     ...   \n",
       " 2018-07-19 23:46:46.356000+00:00  1.023476e+09     0.0   9.212888   519.0   \n",
       " 2018-07-19 23:46:46.620000+00:00  1.023477e+09    13.0   9.097966   499.0   \n",
       " 2018-07-19 23:46:46.884000+00:00  1.023477e+09    10.0   9.691728   506.0   \n",
       " 2018-07-19 23:46:47.115000+00:00  1.023477e+09    13.0   9.921572   505.0   \n",
       " 2018-07-19 23:46:47.379000+00:00  1.023477e+09    16.0   9.672575   499.0   \n",
       " \n",
       "                                   IMU G1  IMU G2  IMU G3  IMU M1  IMU M2  \\\n",
       " UTC                                                                        \n",
       " 2018-07-19 23:15:48.489000+00:00   -30.0    15.0    13.0   148.0    46.0   \n",
       " 2018-07-19 23:15:48.753000+00:00   -59.0    -1.0     9.0   146.0    52.0   \n",
       " 2018-07-19 23:15:48.984000+00:00   -26.0   -18.0    12.0   147.0    61.0   \n",
       " 2018-07-19 23:15:49.248000+00:00   -38.0   -15.0    -6.0   143.0    61.0   \n",
       " 2018-07-19 23:15:49.512000+00:00   -19.0     4.0     6.0   149.0    57.0   \n",
       " ...                                  ...     ...     ...     ...     ...   \n",
       " 2018-07-19 23:46:46.356000+00:00    64.0    40.0    35.0   179.0   351.0   \n",
       " 2018-07-19 23:46:46.620000+00:00     6.0    -6.0    64.0   167.0   351.0   \n",
       " 2018-07-19 23:46:46.884000+00:00    44.0   -49.0    -3.0   166.0   346.0   \n",
       " 2018-07-19 23:46:47.115000+00:00   -47.0   -63.0    28.0   165.0   339.0   \n",
       " 2018-07-19 23:46:47.379000+00:00   -10.0     2.0    13.0   173.0   339.0   \n",
       " \n",
       "                                   IMU M3  TimeDelta  \n",
       " UTC                                                  \n",
       " 2018-07-19 23:15:48.489000+00:00    32.0        0.0  \n",
       " 2018-07-19 23:15:48.753000+00:00    22.0      252.0  \n",
       " 2018-07-19 23:15:48.984000+00:00    25.0      502.0  \n",
       " 2018-07-19 23:15:49.248000+00:00    27.0      753.0  \n",
       " 2018-07-19 23:15:49.512000+00:00    31.0     1004.0  \n",
       " ...                                  ...        ...  \n",
       " 2018-07-19 23:46:46.356000+00:00    21.0  1852553.0  \n",
       " 2018-07-19 23:46:46.620000+00:00    21.0  1852806.0  \n",
       " 2018-07-19 23:46:46.884000+00:00    16.0  1853056.0  \n",
       " 2018-07-19 23:46:47.115000+00:00    13.0  1853307.0  \n",
       " 2018-07-19 23:46:47.379000+00:00     9.0  1853557.0  \n",
       " \n",
       " [9078 rows x 11 columns]}"
      ]
     },
     "execution_count": 12,
     "metadata": {},
     "output_type": "execute_result"
    }
   ],
   "source": [
    "ride.get_rides(convert_imu=True)"
   ]
  },
  {
   "cell_type": "code",
   "execution_count": 5,
   "metadata": {},
   "outputs": [
    {
     "name": "stdout",
     "output_type": "stream",
     "text": [
      "ride already in here\n"
     ]
    },
    {
     "data": {
      "text/plain": [
       "{'15692': ['09/11/2018 19:16:03', '09/11/2018 20:38:15']}"
      ]
     },
     "execution_count": 5,
     "metadata": {},
     "output_type": "execute_result"
    }
   ],
   "source": [
    "ride.get_ride_timeframes('15692')"
   ]
  },
  {
   "cell_type": "code",
   "execution_count": 6,
   "metadata": {},
   "outputs": [
    {
     "name": "stdout",
     "output_type": "stream",
     "text": [
      "ride already in here\n",
      "fetching ride from: https://surf.smartfin.org/ride/14815\n",
      "fetching ocean data from: https://surf.smartfin.org/media/201807/google_117589279598321562176_000666D321BE_180719231539_Ocean.CSV\n",
      "fetching motion data from: https://surf.smartfin.org/media/201807/google_117589279598321562176_000666D321BE_180719231539_Motion.CSV\n",
      "<class 'pandas.core.frame.DataFrame'>\n",
      "ride already in here\n"
     ]
    },
    {
     "data": {
      "text/plain": [
       "{'14814': ['17/07/2018 19:12:37', '17/07/2018 19:42:00'],\n",
       " '14815': ['19/07/2018 23:15:48', '19/07/2018 23:46:47'],\n",
       " '15692': ['09/11/2018 19:16:03', '09/11/2018 20:38:15']}"
      ]
     },
     "execution_count": 6,
     "metadata": {},
     "output_type": "execute_result"
    }
   ],
   "source": [
    "ride.get_ride_timeframes(['14814', '14815', '15692'])"
   ]
  },
  {
   "cell_type": "code",
   "execution_count": 7,
   "metadata": {},
   "outputs": [
    {
     "name": "stdout",
     "output_type": "stream",
     "text": [
      "ride already in here\n",
      "ride already in here\n",
      "ride already in here\n"
     ]
    },
    {
     "data": {
      "text/plain": [
       "{'15692': ['09/11/2018 19:16:03', '09/11/2018 20:38:15'],\n",
       " '14814': ['17/07/2018 19:12:37', '17/07/2018 19:42:00'],\n",
       " '14815': ['19/07/2018 23:15:48', '19/07/2018 23:46:47']}"
      ]
     },
     "execution_count": 7,
     "metadata": {},
     "output_type": "execute_result"
    }
   ],
   "source": [
    "ride.get_ride_timeframes()"
   ]
  },
  {
   "cell_type": "code",
   "execution_count": 8,
   "metadata": {},
   "outputs": [
    {
     "name": "stdout",
     "output_type": "stream",
     "text": [
      "ride already in here\n",
      "retriving CDIP wave heights from: http://thredds.cdip.ucsd.edu/thredds/dodsC/cdip/archive/067p1/067p1_historic.nc\n",
      "calculating significant wave height between 09/11/2018 19:16:03 - 09/11/2018 20:38:15\n",
      "mean wave height: 1.786666750907898\n"
     ]
    },
    {
     "data": {
      "text/plain": [
       "{'15692': [1.7866668, [1.86, 1.86, 1.64]]}"
      ]
     },
     "execution_count": 8,
     "metadata": {},
     "output_type": "execute_result"
    }
   ],
   "source": [
    "ride.get_CDIP_heights(station='067', ride_ids='15692')"
   ]
  },
  {
   "cell_type": "code",
   "execution_count": 9,
   "metadata": {},
   "outputs": [
    {
     "name": "stdout",
     "output_type": "stream",
     "text": [
      "ride already in here\n",
      "retriving CDIP wave heights from: http://thredds.cdip.ucsd.edu/thredds/dodsC/cdip/archive/067p1/067p1_historic.nc\n",
      "calculating significant wave height between 17/07/2018 19:12:37 - 17/07/2018 19:42:00\n",
      "mean wave height: 1.1200000047683716\n",
      "ride already in here\n",
      "retriving CDIP wave heights from: http://thredds.cdip.ucsd.edu/thredds/dodsC/cdip/archive/067p1/067p1_historic.nc\n",
      "calculating significant wave height between 09/11/2018 19:16:03 - 09/11/2018 20:38:15\n",
      "mean wave height: 1.786666750907898\n"
     ]
    },
    {
     "data": {
      "text/plain": [
       "{'14814': [1.12, [1.12]], '15692': [1.7866668, [1.86, 1.86, 1.64]]}"
      ]
     },
     "execution_count": 9,
     "metadata": {},
     "output_type": "execute_result"
    }
   ],
   "source": [
    "ride.get_CDIP_heights(station='067', ride_ids=['14814', '15692'])"
   ]
  },
  {
   "cell_type": "code",
   "execution_count": 10,
   "metadata": {},
   "outputs": [
    {
     "name": "stdout",
     "output_type": "stream",
     "text": [
      "ride already in here\n",
      "retriving CDIP wave heights from: http://thredds.cdip.ucsd.edu/thredds/dodsC/cdip/archive/067p1/067p1_historic.nc\n",
      "calculating significant wave height between 09/11/2018 19:16:03 - 09/11/2018 20:38:15\n",
      "mean wave height: 1.786666750907898\n",
      "ride already in here\n",
      "retriving CDIP wave heights from: http://thredds.cdip.ucsd.edu/thredds/dodsC/cdip/archive/067p1/067p1_historic.nc\n",
      "calculating significant wave height between 17/07/2018 19:12:37 - 17/07/2018 19:42:00\n",
      "mean wave height: 1.1200000047683716\n",
      "ride already in here\n",
      "retriving CDIP wave heights from: http://thredds.cdip.ucsd.edu/thredds/dodsC/cdip/archive/067p1/067p1_historic.nc\n",
      "calculating significant wave height between 19/07/2018 23:15:48 - 19/07/2018 23:46:47\n",
      "mean wave height: 1.2400000095367432\n"
     ]
    },
    {
     "data": {
      "text/plain": [
       "{'15692': [1.7866668, [1.86, 1.86, 1.64]],\n",
       " '14814': [1.12, [1.12]],\n",
       " '14815': [1.24, [1.24]]}"
      ]
     },
     "execution_count": 10,
     "metadata": {},
     "output_type": "execute_result"
    }
   ],
   "source": [
    "ride.get_CDIP_heights(station='067')"
   ]
  },
  {
   "cell_type": "code",
   "execution_count": 11,
   "metadata": {},
   "outputs": [
    {
     "ename": "KeyError",
     "evalue": "'IMU A2'",
     "output_type": "error",
     "traceback": [
      "\u001b[1;31m---------------------------------------------------------------------------\u001b[0m",
      "\u001b[1;31mKeyError\u001b[0m                                  Traceback (most recent call last)",
      "\u001b[1;32m<ipython-input-11-69f0659ce0e3>\u001b[0m in \u001b[0;36m<module>\u001b[1;34m\u001b[0m\n\u001b[1;32m----> 1\u001b[1;33m \u001b[0mride\u001b[0m\u001b[1;33m.\u001b[0m\u001b[0mlabel_data\u001b[0m\u001b[1;33m(\u001b[0m\u001b[0mride_id\u001b[0m\u001b[1;33m=\u001b[0m\u001b[1;34m'15692'\u001b[0m\u001b[1;33m,\u001b[0m \u001b[0mfootage_file\u001b[0m\u001b[1;33m=\u001b[0m \u001b[1;34m'../Labelled_Footage/Footage3.txt'\u001b[0m\u001b[1;33m,\u001b[0m \u001b[0mlabelling_method\u001b[0m\u001b[1;33m=\u001b[0m\u001b[1;34m'complex'\u001b[0m\u001b[1;33m)\u001b[0m\u001b[1;33m\u001b[0m\u001b[1;33m\u001b[0m\u001b[0m\n\u001b[0m",
      "\u001b[1;32m~\\Desktop\\Smartfin\\smartfin_module\\smartfin_ride_api.py\u001b[0m in \u001b[0;36mlabel_data\u001b[1;34m(self, ride_id, footage_file, labelling_method, sync_threshold)\u001b[0m\n\u001b[0;32m    336\u001b[0m                     \u001b[1;31m#Syncing occurs when IMU A2 data is negative for a longer period than the provided threshold\u001b[0m\u001b[1;33m\u001b[0m\u001b[1;33m\u001b[0m\u001b[1;33m\u001b[0m\u001b[0m\n\u001b[0;32m    337\u001b[0m                     \u001b[1;31m#Default is 20 seconds\u001b[0m\u001b[1;33m\u001b[0m\u001b[1;33m\u001b[0m\u001b[1;33m\u001b[0m\u001b[0m\n\u001b[1;32m--> 338\u001b[1;33m                     \u001b[1;32mfor\u001b[0m \u001b[0mdata\u001b[0m \u001b[1;32min\u001b[0m \u001b[0mdf\u001b[0m\u001b[1;33m[\u001b[0m\u001b[1;34m'IMU A2'\u001b[0m\u001b[1;33m]\u001b[0m\u001b[1;33m:\u001b[0m\u001b[1;33m\u001b[0m\u001b[1;33m\u001b[0m\u001b[0m\n\u001b[0m\u001b[0;32m    339\u001b[0m     \u001b[1;31m#                     print(data)\u001b[0m\u001b[1;33m\u001b[0m\u001b[1;33m\u001b[0m\u001b[1;33m\u001b[0m\u001b[0m\n\u001b[0;32m    340\u001b[0m                         \u001b[1;31m#\u001b[0m\u001b[1;33m\u001b[0m\u001b[1;33m\u001b[0m\u001b[1;33m\u001b[0m\u001b[0m\n",
      "\u001b[1;31mKeyError\u001b[0m: 'IMU A2'"
     ]
    }
   ],
   "source": [
    "ride.label_data(ride_id='15692', footage_file= '../Labelled_Footage/Footage3.txt', labelling_method='complex')"
   ]
  },
  {
   "cell_type": "code",
   "execution_count": null,
   "metadata": {},
   "outputs": [],
   "source": []
  }
 ],
 "metadata": {
  "kernelspec": {
   "display_name": "Python 3",
   "language": "python",
   "name": "python3"
  },
  "language_info": {
   "codemirror_mode": {
    "name": "ipython",
    "version": 3
   },
   "file_extension": ".py",
   "mimetype": "text/x-python",
   "name": "python",
   "nbconvert_exporter": "python",
   "pygments_lexer": "ipython3",
   "version": "3.8.3"
  }
 },
 "nbformat": 4,
 "nbformat_minor": 4
}
