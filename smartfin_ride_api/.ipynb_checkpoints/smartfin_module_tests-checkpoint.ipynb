{
 "cells": [
  {
   "cell_type": "code",
   "execution_count": 1,
   "metadata": {},
   "outputs": [],
   "source": [
    "from smartfin_ride_module import Ride"
   ]
  },
  {
   "cell_type": "code",
   "execution_count": 18,
   "metadata": {
    "scrolled": false
   },
   "outputs": [
    {
     "name": "stdout",
     "output_type": "stream",
     "text": [
      "ride initialized\n",
      "fetching ride from: https://surf.smartfin.org/ride/12984\n",
      "fetching ocean data from: https://surf.smartfin.org/media/201710/google_112035288398314271289_0006667E228C_171019001901_Ocean.CSV\n",
      "fetching motion data from: https://surf.smartfin.org/media/201710/google_112035288398314271289_0006667E228C_171019001901_Motion.CSV\n",
      "calcualting start_time: 19/10/2017 00:19:10\n",
      "calcualting end_time: 19/10/2017 04:13:35\n",
      "retriving CDIP wave heights from: http://thredds.cdip.ucsd.edu/thredds/dodsC/cdip/archive/201p1/201p1_historic.nc\n",
      "calculating significant wave height between 19/10/2017 00:19:10 - 19/10/2017 04:13:35\n",
      "calculating significant wave height between 19/10/2017 00:19:10 - 19/10/2017 04:13:35\n",
      "mean wave height: 0.7775000333786011\n",
      "mean ocean temp: 20.780048370361328\n",
      "retrieved nearest CDIP buoy: 201\n",
      "retrieved CDIP means height for ride: [0.72, 0.75, 0.74, 0.75, 0.82, 0.81, 0.83, 0.8]\n",
      "retrieved CDIP means temp for ride: [20.65, 20.65, 20.5, 20.45, 20.3, 20.2, 20.2, 20.1, 20.2, 20.2, 20.4, 20.45, 20.4, 20.35, 20.35, 20.35, 20.4, 20.4, 20.45, 20.45, 20.45, 20.45, 20.5, 20.55, 20.55, 20.75, 20.65, 21.1, 21.3, 21.35, 21.7, 21.4, 21.4, 22.05, 22.0, 21.85, 21.75, 21.75, 21.45, 21.2, 21.25, 21.4, 21.5, 21.35, 21.35, 21.35, 21.3, 21.3, 21.3, 21.35, 21.3, 21.2, 21.15, 21.25, 21.15, 21.05, 21.15, 21.1, 20.9, 20.75, 20.65, 20.6, 20.5, 20.5, 20.65, 20.7, 20.8, 20.7, 20.65, 20.65, 20.65, 20.7, 20.65, 20.55, 20.65, 20.8, 20.8, 20.9, 21.0, 21.0, 21.0, 21.05, 21.15, 21.15, 21.2, 21.25, 21.35, 21.25, 21.2, 21.1, 21.05, 21.1, 21.1, 21.15, 21.15, 21.05, 21.05, 21.1, 21.05, 20.95, 20.85, 20.8, 20.85, 20.85, 20.85, 20.8, 20.8, 20.75, 20.75, 20.7, 20.7, 20.65, 20.6, 20.55, 20.55, 20.65, 20.7, 20.7, 20.85, 20.8, 20.75, 20.85, 20.85, 20.8, 20.85, 20.9, 20.95, 20.95, 20.95, 21.0, 21.05, 21.0, 21.0, 20.95, 20.95, 20.95, 20.9, 20.9, 20.85, 20.85, 20.85, 20.8, 20.8, 20.8, 20.8, 20.8, 20.8, 20.8, 20.8, 20.75, 20.8, 20.8, 20.8, 20.8, 20.8, 20.8, 20.8, 20.75, 20.75, 20.7, 20.7, 20.7, 20.65, 20.6, 20.6, 20.55, 20.5, 20.5, 20.5, 20.5, 20.55, 20.55, 20.55, 20.6, 20.6, 20.6, 20.6, 20.6, 20.6, 20.6, 20.6, 20.6, 20.55, 20.55, 20.5, 20.5, 20.45, 20.4, 20.35, 20.3, 20.3, 20.3, 20.25, 20.25, 20.25, 20.3, 20.3, 20.3, 20.3, 20.25, 20.3, 20.25, 20.25, 20.25, 20.2, 20.2, 20.05, 20.05]\n"
     ]
    }
   ],
   "source": [
    "ride = Ride()\n",
    "data = ride.get_ride_data('12984')"
   ]
  },
  {
   "cell_type": "code",
   "execution_count": null,
   "metadata": {},
   "outputs": [],
   "source": []
  },
  {
   "cell_type": "code",
   "execution_count": 27,
   "metadata": {},
   "outputs": [
    {
     "data": {
      "text/plain": [
       "[<matplotlib.lines.Line2D at 0x1748a5940a0>]"
      ]
     },
     "execution_count": 27,
     "metadata": {},
     "output_type": "execute_result"
    },
    {
     "data": {
      "image/png": "[encoded data removed]",
      "text/plain": [
       "<Figure size 432x288 with 1 Axes>"
      ]
     },
     "metadata": {
      "needs_background": "light"
     },
     "output_type": "display_data"
    }
   ],
   "source": [
    "acc2 = data['motion_data']['IMU A2']\n",
    "sa = acc2[4500:5500]\n",
    "import matplotlib.pyplot as plt\n",
    "\n",
    "x2 = list(range(0, len(acc2)))\n",
    "plt.plot(x2, acc2)"
   ]
  },
  {
   "cell_type": "code",
   "execution_count": 4,
   "metadata": {
    "scrolled": true
   },
   "outputs": [
    {
     "data": {
      "text/plain": [
       "'09/11/2018 19:16:03'"
      ]
     },
     "execution_count": 4,
     "metadata": {},
     "output_type": "execute_result"
    }
   ],
   "source": [
    "data['start_time']"
   ]
  },
  {
   "cell_type": "code",
   "execution_count": 5,
   "metadata": {},
   "outputs": [
    {
     "data": {
      "text/plain": [
       "'09/11/2018 20:38:15'"
      ]
     },
     "execution_count": 5,
     "metadata": {},
     "output_type": "execute_result"
    }
   ],
   "source": [
    "data['end_time']"
   ]
  },
  {
   "cell_type": "code",
   "execution_count": 6,
   "metadata": {},
   "outputs": [
    {
     "ename": "NameError",
     "evalue": "name 'mdf' is not defined",
     "output_type": "error",
     "traceback": [
      "\u001b[1;31m---------------------------------------------------------------------------\u001b[0m",
      "\u001b[1;31mNameError\u001b[0m                                 Traceback (most recent call last)",
      "\u001b[1;32m<ipython-input-6-a61faae05d13>\u001b[0m in \u001b[0;36m<module>\u001b[1;34m\u001b[0m\n\u001b[1;32m----> 1\u001b[1;33m \u001b[0mmdf\u001b[0m\u001b[1;33m\u001b[0m\u001b[1;33m\u001b[0m\u001b[0m\n\u001b[0m",
      "\u001b[1;31mNameError\u001b[0m: name 'mdf' is not defined"
     ]
    }
   ],
   "source": [
    "mdf"
   ]
  },
  {
   "cell_type": "code",
   "execution_count": null,
   "metadata": {},
   "outputs": [],
   "source": [
    "odf"
   ]
  },
  {
   "cell_type": "code",
   "execution_count": null,
   "metadata": {},
   "outputs": [],
   "source": [
    "nearest_CDIP"
   ]
  },
  {
   "cell_type": "code",
   "execution_count": null,
   "metadata": {},
   "outputs": [],
   "source": [
    "means_CDIP"
   ]
  },
  {
   "cell_type": "code",
   "execution_count": null,
   "metadata": {},
   "outputs": [],
   "source": [
    "temps_CDIP"
   ]
  },
  {
   "cell_type": "code",
   "execution_count": null,
   "metadata": {},
   "outputs": [],
   "source": [
    "longitude"
   ]
  },
  {
   "cell_type": "code",
   "execution_count": null,
   "metadata": {},
   "outputs": [],
   "source": [
    "latitude"
   ]
  },
  {
   "cell_type": "code",
   "execution_count": null,
   "metadata": {},
   "outputs": [],
   "source": [
    "start_time"
   ]
  },
  {
   "cell_type": "code",
   "execution_count": null,
   "metadata": {},
   "outputs": [],
   "source": [
    "end_time"
   ]
  },
  {
   "cell_type": "code",
   "execution_count": null,
   "metadata": {},
   "outputs": [],
   "source": []
  }
 ],
 "metadata": {
  "kernelspec": {
   "display_name": "Python 3",
   "language": "python",
   "name": "python3"
  },
  "language_info": {
   "codemirror_mode": {
    "name": "ipython",
    "version": 3
   },
   "file_extension": ".py",
   "mimetype": "text/x-python",
   "name": "python",
   "nbconvert_exporter": "python",
   "pygments_lexer": "ipython3",
   "version": "3.8.3"
  }
 },
 "nbformat": 4,
 "nbformat_minor": 4
}
