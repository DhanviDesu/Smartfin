{
 "cells": [
  {
   "cell_type": "code",
   "execution_count": 1,
   "metadata": {},
   "outputs": [],
   "source": [
    "from smartfin_ride_module import RideModule"
   ]
  },
  {
   "cell_type": "code",
   "execution_count": 2,
   "metadata": {
    "scrolled": true
   },
   "outputs": [
    {
     "name": "stdout",
     "output_type": "stream",
     "text": [
      "ride initialized\n"
     ]
    }
   ],
   "source": [
    "ride = RideModule()"
   ]
  },
  {
   "cell_type": "code",
   "execution_count": 3,
   "metadata": {},
   "outputs": [
    {
     "name": "stderr",
     "output_type": "stream",
     "text": [
      "C:\\Users\\evans\\Desktop\\Smartfin\\smartfin_ride_api\\smartfin_ride_module.py:548: GuessedAtParserWarning: No parser was explicitly specified, so I'm using the best available HTML parser for this system (\"lxml\"). This usually isn't a problem, but if you run this code on another system, or in a different virtual environment, it may use a different parser and behave differently.\n",
      "\n",
      "The code that caused this warning is on line 548 of the file C:\\Users\\evans\\Desktop\\Smartfin\\smartfin_ride_api\\smartfin_ride_module.py. To get rid of this warning, pass the additional argument 'features=\"lxml\"' to the BeautifulSoup constructor.\n",
      "\n",
      "  soup = BeautifulSoup(html_content)\n"
     ]
    }
   ],
   "source": [
    "buoys = ride.get_CDIP_stations()"
   ]
  },
  {
   "cell_type": "code",
   "execution_count": 4,
   "metadata": {},
   "outputs": [
    {
     "data": {
      "text/plain": [
       "[{'buoyNum': '028',\n",
       "  'latitude': 33.85445022583008,\n",
       "  'longitude': -118.63274383544922},\n",
       " {'buoyNum': '029',\n",
       "  'latitude': 37.94649887084961,\n",
       "  'longitude': -123.46939086914062},\n",
       " {'buoyNum': '036',\n",
       "  'latitude': 46.85795593261719,\n",
       "  'longitude': -124.24425506591797},\n",
       " {'buoyNum': '045',\n",
       "  'latitude': 33.17892074584961,\n",
       "  'longitude': -117.4714126586914},\n",
       " {'buoyNum': '067',\n",
       "  'latitude': 33.22256088256836,\n",
       "  'longitude': -119.8730697631836},\n",
       " {'buoyNum': '071',\n",
       "  'latitude': 34.45792007446289,\n",
       "  'longitude': -120.7740249633789},\n",
       " {'buoyNum': '076',\n",
       "  'latitude': 35.20530700683594,\n",
       "  'longitude': -120.85952758789062},\n",
       " {'buoyNum': '092',\n",
       "  'latitude': 33.614967346191406,\n",
       "  'longitude': -118.31326293945312},\n",
       " {'buoyNum': '094',\n",
       "  'latitude': 40.29356384277344,\n",
       "  'longitude': -124.73766326904297},\n",
       " {'buoyNum': '098',\n",
       "  'latitude': 21.415639877319336,\n",
       "  'longitude': -157.6780548095703},\n",
       " {'buoyNum': '100',\n",
       "  'latitude': 32.93110656738281,\n",
       "  'longitude': -117.39202880859375},\n",
       " {'buoyNum': '103',\n",
       "  'latitude': 34.023048400878906,\n",
       "  'longitude': -118.57830047607422},\n",
       " {'buoyNum': '121',\n",
       "  'latitude': 13.354137420654297,\n",
       "  'longitude': 144.78839111328125},\n",
       " {'buoyNum': '132',\n",
       "  'latitude': 30.712284088134766,\n",
       "  'longitude': -81.29253387451172},\n",
       " {'buoyNum': '134',\n",
       "  'latitude': 27.551406860351562,\n",
       "  'longitude': -80.21977996826172},\n",
       " {'buoyNum': '139',\n",
       "  'latitude': 43.76807403564453,\n",
       "  'longitude': -124.54952239990234},\n",
       " {'buoyNum': '142',\n",
       "  'latitude': 37.7833137512207,\n",
       "  'longitude': -122.61727905273438},\n",
       " {'buoyNum': '143',\n",
       "  'latitude': 28.40003204345703,\n",
       "  'longitude': -80.53340148925781},\n",
       " {'buoyNum': '144',\n",
       "  'latitude': 27.343469619750977,\n",
       "  'longitude': -84.27690124511719},\n",
       " {'buoyNum': '147',\n",
       "  'latitude': 36.91267013549805,\n",
       "  'longitude': -75.73381805419922},\n",
       " {'buoyNum': '150',\n",
       "  'latitude': 34.14133834838867,\n",
       "  'longitude': -77.71202087402344},\n",
       " {'buoyNum': '154',\n",
       "  'latitude': 40.96870803833008,\n",
       "  'longitude': -71.12679290771484},\n",
       " {'buoyNum': '155',\n",
       "  'latitude': 32.569580078125,\n",
       "  'longitude': -117.16886138916016},\n",
       " {'buoyNum': '157',\n",
       "  'latitude': 36.34063720703125,\n",
       "  'longitude': -122.10130310058594},\n",
       " {'buoyNum': '158',\n",
       "  'latitude': 36.626277923583984,\n",
       "  'longitude': -121.9070816040039},\n",
       " {'buoyNum': '160',\n",
       "  'latitude': 42.79755401611328,\n",
       "  'longitude': -70.16852569580078},\n",
       " {'buoyNum': '162',\n",
       "  'latitude': 46.21516036987305,\n",
       "  'longitude': -124.12869262695312},\n",
       " {'buoyNum': '163',\n",
       "  'latitude': 7.086760997772217,\n",
       "  'longitude': 171.3934326171875},\n",
       " {'buoyNum': '166',\n",
       "  'latitude': 49.968788146972656,\n",
       "  'longitude': -145.1879425048828},\n",
       " {'buoyNum': '168',\n",
       "  'latitude': 40.890987396240234,\n",
       "  'longitude': -124.35660552978516},\n",
       " {'buoyNum': '171',\n",
       "  'latitude': 36.611698150634766,\n",
       "  'longitude': -74.8385009765625},\n",
       " {'buoyNum': '430',\n",
       "  'latitude': 36.25791931152344,\n",
       "  'longitude': -75.59221649169922},\n",
       " {'buoyNum': '433',\n",
       "  'latitude': 36.19986343383789,\n",
       "  'longitude': -75.7148666381836},\n",
       " {'buoyNum': '179',\n",
       "  'latitude': 46.13272476196289,\n",
       "  'longitude': -124.64860534667969},\n",
       " {'buoyNum': '181',\n",
       "  'latitude': 18.376392364501953,\n",
       "  'longitude': -67.27989196777344},\n",
       " {'buoyNum': '185',\n",
       "  'latitude': 36.719886779785156,\n",
       "  'longitude': -122.3508071899414},\n",
       " {'buoyNum': '187',\n",
       "  'latitude': 21.018299102783203,\n",
       "  'longitude': -156.4254150390625},\n",
       " {'buoyNum': '188',\n",
       "  'latitude': 19.780797958374023,\n",
       "  'longitude': -154.9688720703125},\n",
       " {'buoyNum': '189',\n",
       "  'latitude': -14.26736068725586,\n",
       "  'longitude': -170.49557495117188},\n",
       " {'buoyNum': '191',\n",
       "  'latitude': 32.53472900390625,\n",
       "  'longitude': -117.4295883178711},\n",
       " {'buoyNum': '192', 'latitude': 35.75, 'longitude': -75.33000183105469},\n",
       " {'buoyNum': '194',\n",
       "  'latitude': 30.000015258789062,\n",
       "  'longitude': -81.07989501953125},\n",
       " {'buoyNum': '196',\n",
       "  'latitude': 13.683246612548828,\n",
       "  'longitude': 144.811767578125},\n",
       " {'buoyNum': '197',\n",
       "  'latitude': 15.267845153808594,\n",
       "  'longitude': 145.662353515625},\n",
       " {'buoyNum': '198',\n",
       "  'latitude': 21.47750473022461,\n",
       "  'longitude': -157.75241088867188},\n",
       " {'buoyNum': '200',\n",
       "  'latitude': 33.72108459472656,\n",
       "  'longitude': -78.01475524902344},\n",
       " {'buoyNum': '201',\n",
       "  'latitude': 32.868080139160156,\n",
       "  'longitude': -117.26659393310547},\n",
       " {'buoyNum': '203',\n",
       "  'latitude': 33.760616302490234,\n",
       "  'longitude': -119.55327606201172},\n",
       " {'buoyNum': '205',\n",
       "  'latitude': 55.59794616699219,\n",
       "  'longitude': -131.76919555664062},\n",
       " {'buoyNum': '209',\n",
       "  'latitude': 39.77238082885742,\n",
       "  'longitude': -73.76953887939453},\n",
       " {'buoyNum': '213',\n",
       "  'latitude': 33.576255798339844,\n",
       "  'longitude': -118.18135833740234},\n",
       " {'buoyNum': '214',\n",
       "  'latitude': 27.589921951293945,\n",
       "  'longitude': -82.93102264404297},\n",
       " {'buoyNum': '215',\n",
       "  'latitude': 33.70033264160156,\n",
       "  'longitude': -118.20067596435547},\n",
       " {'buoyNum': '217',\n",
       "  'latitude': 34.21098709106445,\n",
       "  'longitude': -76.94744873046875},\n",
       " {'buoyNum': '220',\n",
       "  'latitude': 32.74998474121094,\n",
       "  'longitude': -117.49996948242188},\n",
       " {'buoyNum': '221',\n",
       "  'latitude': 41.83971405029297,\n",
       "  'longitude': -70.3289566040039},\n",
       " {'buoyNum': '222',\n",
       "  'latitude': 34.745323181152344,\n",
       "  'longitude': -121.60053253173828},\n",
       " {'buoyNum': '224',\n",
       "  'latitude': 37.756980895996094,\n",
       "  'longitude': -75.33351135253906},\n",
       " {'buoyNum': '225',\n",
       "  'latitude': 21.47730255126953,\n",
       "  'longitude': -157.75579833984375},\n",
       " {'buoyNum': '226',\n",
       "  'latitude': 25.700115203857422,\n",
       "  'longitude': -83.65010070800781},\n",
       " {'buoyNum': '230',\n",
       "  'latitude': 48.02667999267578,\n",
       "  'longitude': -87.76324462890625},\n",
       " {'buoyNum': '233',\n",
       "  'latitude': 21.297348022460938,\n",
       "  'longitude': -157.9589385986328},\n",
       " {'buoyNum': '236',\n",
       "  'latitude': 57.479454040527344,\n",
       "  'longitude': -151.69529724121094},\n",
       " {'buoyNum': '238',\n",
       "  'latitude': 21.32308006286621,\n",
       "  'longitude': -158.14947509765625},\n",
       " {'buoyNum': '239',\n",
       "  'latitude': 20.750219345092773,\n",
       "  'longitude': -157.00344848632812},\n",
       " {'buoyNum': '240',\n",
       "  'latitude': 37.02568817138672,\n",
       "  'longitude': -76.15080261230469},\n",
       " {'buoyNum': '243',\n",
       "  'latitude': 36.0013313293457,\n",
       "  'longitude': -75.42098236083984},\n",
       " {'buoyNum': '244',\n",
       "  'latitude': 24.40716552734375,\n",
       "  'longitude': -81.96683502197266},\n",
       " {'buoyNum': '247',\n",
       "  'latitude': 29.01664924621582,\n",
       "  'longitude': -89.83243560791016}]"
      ]
     },
     "execution_count": 4,
     "metadata": {},
     "output_type": "execute_result"
    }
   ],
   "source": [
    "buoys"
   ]
  },
  {
   "cell_type": "code",
   "execution_count": 5,
   "metadata": {},
   "outputs": [
    {
     "data": {
      "text/plain": [
       "33.85445022583008"
      ]
     },
     "execution_count": 5,
     "metadata": {},
     "output_type": "execute_result"
    }
   ],
   "source": [
    "num = (buoys[0]['latitude'])\n",
    "num"
   ]
  },
  {
   "cell_type": "code",
   "execution_count": 6,
   "metadata": {
    "scrolled": false
   },
   "outputs": [
    {
     "name": "stdout",
     "output_type": "stream",
     "text": [
      "fetching ride from: https://surf.smartfin.org/ride/15692\n",
      "fetching motion data from: https://surf.smartfin.org/media/201811/google_105349665704999793400_0006667E229D_181109191556_Motion.CSV\n",
      "fetching ocean data from: https://surf.smartfin.org/media/201811/google_105349665704999793400_0006667E229D_181109191556_Ocean.CSV\n",
      "calculated start_time: 2018-11-09T19:17:52\n",
      "calculated end_time: 2018-11-09T20:17:49\n",
      "retriving CDIP wave heights from: http://thredds.cdip.ucsd.edu/thredds/dodsC/cdip/archive/201p1/201p1_historic.nc\n",
      "calculating significant wave height between 2018-11-09T19:17:52 - 2018-11-09T20:17:49\n",
      "calculating significant wave height between 2018-11-09T19:17:52 - 2018-11-09T20:17:49\n",
      "mean wave height: 0.42014166712760925\n",
      "mean ocean temp: 19.48332977294922\n",
      "retrieved nearest CDIP buoy: 201\n",
      "retrieved CDIP mean height for ride: 0.42014166712760925\n",
      "retrieved CDIP mean temp for ride: 19.48332977294922\n",
      "2.9592332519531244\n",
      "mean is: -0.3885007188557947\n",
      "std. dev. is: 0.5899293956667351\n",
      "Upperbound is: 0.8503510120443489\n",
      "Lowerbound is: -1.6273524497559384\n",
      "0.8379705810546874\n",
      "chunking data\n",
      "getting displacements\n",
      "calculated smartfin significant wave height: 0.49091151500380603\n",
      "height reading sample rate: 10\n",
      "calculated smartfin significant wave height: 0.49091151500380603\n",
      "height reading sample rate: 10\n",
      "calculated smartfin ride temp: 20.04406902356902\n",
      "temperature reading sample rate: 6.02\n",
      "uploading ride data to database...\n"
     ]
    }
   ],
   "source": [
    "data = ride.get_ride_data('15692', buoys)"
   ]
  },
  {
   "cell_type": "code",
   "execution_count": 7,
   "metadata": {
    "scrolled": true
   },
   "outputs": [
    {
     "data": {
      "text/plain": [
       "'2018-11-09T19:17:52'"
      ]
     },
     "execution_count": 7,
     "metadata": {},
     "output_type": "execute_result"
    }
   ],
   "source": [
    "data['startTime']"
   ]
  },
  {
   "cell_type": "code",
   "execution_count": 8,
   "metadata": {},
   "outputs": [
    {
     "data": {
      "text/plain": [
       "'2018-11-09T20:17:49'"
      ]
     },
     "execution_count": 8,
     "metadata": {},
     "output_type": "execute_result"
    }
   ],
   "source": [
    "data['endTime']"
   ]
  },
  {
   "cell_type": "code",
   "execution_count": 9,
   "metadata": {},
   "outputs": [
    {
     "data": {
      "text/plain": [
       "0.42014167"
      ]
     },
     "execution_count": 9,
     "metadata": {},
     "output_type": "execute_result"
    }
   ],
   "source": [
    "data['heightCDIP']"
   ]
  },
  {
   "cell_type": "code",
   "execution_count": 10,
   "metadata": {},
   "outputs": [
    {
     "data": {
      "text/plain": [
       "19.48333"
      ]
     },
     "execution_count": 10,
     "metadata": {},
     "output_type": "execute_result"
    }
   ],
   "source": [
    "data['tempCDIP']"
   ]
  },
  {
   "cell_type": "code",
   "execution_count": 11,
   "metadata": {},
   "outputs": [
    {
     "data": {
      "text/plain": [
       "32.86058653508772"
      ]
     },
     "execution_count": 11,
     "metadata": {},
     "output_type": "execute_result"
    }
   ],
   "source": [
    "data['latitude']"
   ]
  },
  {
   "cell_type": "code",
   "execution_count": 12,
   "metadata": {
    "scrolled": true
   },
   "outputs": [
    {
     "data": {
      "text/plain": [
       "-117.25365867324561"
      ]
     },
     "execution_count": 12,
     "metadata": {},
     "output_type": "execute_result"
    }
   ],
   "source": [
    "data['longitude']"
   ]
  },
  {
   "cell_type": "code",
   "execution_count": 13,
   "metadata": {},
   "outputs": [
    {
     "data": {
      "text/plain": [
       "0.49091151500380603"
      ]
     },
     "execution_count": 13,
     "metadata": {},
     "output_type": "execute_result"
    }
   ],
   "source": [
    "data['heightSmartfin'] "
   ]
  },
  {
   "cell_type": "code",
   "execution_count": null,
   "metadata": {},
   "outputs": [],
   "source": []
  }
 ],
 "metadata": {
  "kernelspec": {
   "display_name": "Python 3",
   "language": "python",
   "name": "python3"
  },
  "language_info": {
   "codemirror_mode": {
    "name": "ipython",
    "version": 3
   },
   "file_extension": ".py",
   "mimetype": "text/x-python",
   "name": "python",
   "nbconvert_exporter": "python",
   "pygments_lexer": "ipython3",
   "version": "3.8.3"
  }
 },
 "nbformat": 4,
 "nbformat_minor": 4
}
