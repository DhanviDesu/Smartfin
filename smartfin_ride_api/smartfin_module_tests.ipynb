{
 "cells": [
  {
   "cell_type": "code",
   "execution_count": 1,
   "metadata": {},
   "outputs": [],
   "source": [
    "from smartfin_ride_module import Ride"
   ]
  },
  {
   "cell_type": "code",
   "execution_count": 18,
   "metadata": {
    "scrolled": false
   },
   "outputs": [
    {
     "name": "stdout",
     "output_type": "stream",
     "text": [
      "ride initialized\n",
      "fetching ride from: https://surf.smartfin.org/ride/12984\n",
      "fetching ocean data from: https://surf.smartfin.org/media/201710/google_112035288398314271289_0006667E228C_171019001901_Ocean.CSV\n",
      "fetching motion data from: https://surf.smartfin.org/media/201710/google_112035288398314271289_0006667E228C_171019001901_Motion.CSV\n",
      "calcualting start_time: 19/10/2017 00:19:10\n",
      "calcualting end_time: 19/10/2017 04:13:35\n",
      "retriving CDIP wave heights from: http://thredds.cdip.ucsd.edu/thredds/dodsC/cdip/archive/201p1/201p1_historic.nc\n",
      "calculating significant wave height between 19/10/2017 00:19:10 - 19/10/2017 04:13:35\n",
      "calculating significant wave height between 19/10/2017 00:19:10 - 19/10/2017 04:13:35\n",
      "mean wave height: 0.7775000333786011\n",
      "mean ocean temp: 20.780048370361328\n",
      "retrieved nearest CDIP buoy: 201\n",
      "retrieved CDIP means height for ride: [0.72, 0.75, 0.74, 0.75, 0.82, 0.81, 0.83, 0.8]\n",
      "retrieved CDIP means temp for ride: [20.65, 20.65, 20.5, 20.45, 20.3, 20.2, 20.2, 20.1, 20.2, 20.2, 20.4, 20.45, 20.4, 20.35, 20.35, 20.35, 20.4, 20.4, 20.45, 20.45, 20.45, 20.45, 20.5, 20.55, 20.55, 20.75, 20.65, 21.1, 21.3, 21.35, 21.7, 21.4, 21.4, 22.05, 22.0, 21.85, 21.75, 21.75, 21.45, 21.2, 21.25, 21.4, 21.5, 21.35, 21.35, 21.35, 21.3, 21.3, 21.3, 21.35, 21.3, 21.2, 21.15, 21.25, 21.15, 21.05, 21.15, 21.1, 20.9, 20.75, 20.65, 20.6, 20.5, 20.5, 20.65, 20.7, 20.8, 20.7, 20.65, 20.65, 20.65, 20.7, 20.65, 20.55, 20.65, 20.8, 20.8, 20.9, 21.0, 21.0, 21.0, 21.05, 21.15, 21.15, 21.2, 21.25, 21.35, 21.25, 21.2, 21.1, 21.05, 21.1, 21.1, 21.15, 21.15, 21.05, 21.05, 21.1, 21.05, 20.95, 20.85, 20.8, 20.85, 20.85, 20.85, 20.8, 20.8, 20.75, 20.75, 20.7, 20.7, 20.65, 20.6, 20.55, 20.55, 20.65, 20.7, 20.7, 20.85, 20.8, 20.75, 20.85, 20.85, 20.8, 20.85, 20.9, 20.95, 20.95, 20.95, 21.0, 21.05, 21.0, 21.0, 20.95, 20.95, 20.95, 20.9, 20.9, 20.85, 20.85, 20.85, 20.8, 20.8, 20.8, 20.8, 20.8, 20.8, 20.8, 20.8, 20.75, 20.8, 20.8, 20.8, 20.8, 20.8, 20.8, 20.8, 20.75, 20.75, 20.7, 20.7, 20.7, 20.65, 20.6, 20.6, 20.55, 20.5, 20.5, 20.5, 20.5, 20.55, 20.55, 20.55, 20.6, 20.6, 20.6, 20.6, 20.6, 20.6, 20.6, 20.6, 20.6, 20.55, 20.55, 20.5, 20.5, 20.45, 20.4, 20.35, 20.3, 20.3, 20.3, 20.25, 20.25, 20.25, 20.3, 20.3, 20.3, 20.3, 20.25, 20.3, 20.25, 20.25, 20.25, 20.2, 20.2, 20.05, 20.05]\n"
     ]
    }
   ],
   "source": [
    "ride = Ride()\n",
    "data = ride.get_ride_data('12984')"
   ]
  },
  {
   "cell_type": "code",
   "execution_count": 34,
   "metadata": {},
   "outputs": [
    {
     "data": {
      "text/html": [
       "<div>\n",
       "<style scoped>\n",
       "    .dataframe tbody tr th:only-of-type {\n",
       "        vertical-align: middle;\n",
       "    }\n",
       "\n",
       "    .dataframe tbody tr th {\n",
       "        vertical-align: top;\n",
       "    }\n",
       "\n",
       "    .dataframe thead th {\n",
       "        text-align: right;\n",
       "    }\n",
       "</style>\n",
       "<table border=\"1\" class=\"dataframe\">\n",
       "  <thead>\n",
       "    <tr style=\"text-align: right;\">\n",
       "      <th></th>\n",
       "      <th>Time</th>\n",
       "      <th>IMU A1</th>\n",
       "      <th>IMU A2</th>\n",
       "      <th>IMU A3</th>\n",
       "      <th>IMU G1</th>\n",
       "      <th>IMU G2</th>\n",
       "      <th>IMU G3</th>\n",
       "      <th>IMU M1</th>\n",
       "      <th>IMU M2</th>\n",
       "      <th>IMU M3</th>\n",
       "      <th>TimeDelta</th>\n",
       "    </tr>\n",
       "    <tr>\n",
       "      <th>UTC</th>\n",
       "      <th></th>\n",
       "      <th></th>\n",
       "      <th></th>\n",
       "      <th></th>\n",
       "      <th></th>\n",
       "      <th></th>\n",
       "      <th></th>\n",
       "      <th></th>\n",
       "      <th></th>\n",
       "      <th></th>\n",
       "      <th></th>\n",
       "    </tr>\n",
       "  </thead>\n",
       "  <tbody>\n",
       "    <tr>\n",
       "      <th>2017-10-19 00:19:10+00:00</th>\n",
       "      <td>29.247000</td>\n",
       "      <td>-0.798067</td>\n",
       "      <td>-6.920839</td>\n",
       "      <td>-7.789136</td>\n",
       "      <td>-17.333333</td>\n",
       "      <td>24.00</td>\n",
       "      <td>56.666667</td>\n",
       "      <td>87.00</td>\n",
       "      <td>3.00</td>\n",
       "      <td>439.333333</td>\n",
       "      <td>0.000000e+00</td>\n",
       "    </tr>\n",
       "    <tr>\n",
       "      <th>2017-10-19 00:19:11+00:00</th>\n",
       "      <td>30.123750</td>\n",
       "      <td>-1.230620</td>\n",
       "      <td>-7.584831</td>\n",
       "      <td>-10.477026</td>\n",
       "      <td>-19.750000</td>\n",
       "      <td>10.25</td>\n",
       "      <td>72.000000</td>\n",
       "      <td>121.75</td>\n",
       "      <td>-17.25</td>\n",
       "      <td>587.750000</td>\n",
       "      <td>8.767500e+02</td>\n",
       "    </tr>\n",
       "    <tr>\n",
       "      <th>2017-10-19 00:19:12+00:00</th>\n",
       "      <td>31.123750</td>\n",
       "      <td>-1.872266</td>\n",
       "      <td>-7.795521</td>\n",
       "      <td>-10.845734</td>\n",
       "      <td>-31.500000</td>\n",
       "      <td>-6.25</td>\n",
       "      <td>3.250000</td>\n",
       "      <td>128.75</td>\n",
       "      <td>-25.75</td>\n",
       "      <td>596.750000</td>\n",
       "      <td>1.876750e+03</td>\n",
       "    </tr>\n",
       "    <tr>\n",
       "      <th>2017-10-19 00:19:13+00:00</th>\n",
       "      <td>32.073750</td>\n",
       "      <td>-1.230620</td>\n",
       "      <td>-7.436390</td>\n",
       "      <td>-10.400412</td>\n",
       "      <td>37.250000</td>\n",
       "      <td>-27.25</td>\n",
       "      <td>74.750000</td>\n",
       "      <td>122.50</td>\n",
       "      <td>-35.50</td>\n",
       "      <td>593.500000</td>\n",
       "      <td>2.826750e+03</td>\n",
       "    </tr>\n",
       "    <tr>\n",
       "      <th>2017-10-19 00:19:14+00:00</th>\n",
       "      <td>33.036000</td>\n",
       "      <td>-1.431733</td>\n",
       "      <td>-7.120356</td>\n",
       "      <td>-10.371682</td>\n",
       "      <td>-8.000000</td>\n",
       "      <td>-3.00</td>\n",
       "      <td>31.000000</td>\n",
       "      <td>149.25</td>\n",
       "      <td>-58.25</td>\n",
       "      <td>587.750000</td>\n",
       "      <td>3.789000e+03</td>\n",
       "    </tr>\n",
       "    <tr>\n",
       "      <th>...</th>\n",
       "      <td>...</td>\n",
       "      <td>...</td>\n",
       "      <td>...</td>\n",
       "      <td>...</td>\n",
       "      <td>...</td>\n",
       "      <td>...</td>\n",
       "      <td>...</td>\n",
       "      <td>...</td>\n",
       "      <td>...</td>\n",
       "      <td>...</td>\n",
       "      <td>...</td>\n",
       "    </tr>\n",
       "    <tr>\n",
       "      <th>2017-10-19 00:49:05+00:00</th>\n",
       "      <td>1824.068800</td>\n",
       "      <td>0.222182</td>\n",
       "      <td>-0.141737</td>\n",
       "      <td>1.041957</td>\n",
       "      <td>-29.200000</td>\n",
       "      <td>78.20</td>\n",
       "      <td>60.200000</td>\n",
       "      <td>-42.00</td>\n",
       "      <td>-326.00</td>\n",
       "      <td>479.600000</td>\n",
       "      <td>1.794822e+06</td>\n",
       "    </tr>\n",
       "    <tr>\n",
       "      <th>2017-10-19 00:49:06+00:00</th>\n",
       "      <td>1825.139000</td>\n",
       "      <td>1.984314</td>\n",
       "      <td>-0.091937</td>\n",
       "      <td>0.440533</td>\n",
       "      <td>61.000000</td>\n",
       "      <td>61.00</td>\n",
       "      <td>110.600000</td>\n",
       "      <td>-86.40</td>\n",
       "      <td>-299.20</td>\n",
       "      <td>510.800000</td>\n",
       "      <td>1.795892e+06</td>\n",
       "    </tr>\n",
       "    <tr>\n",
       "      <th>2017-10-19 00:49:07+00:00</th>\n",
       "      <td>1826.086250</td>\n",
       "      <td>3.155558</td>\n",
       "      <td>-0.339977</td>\n",
       "      <td>-0.756568</td>\n",
       "      <td>40.000000</td>\n",
       "      <td>5.50</td>\n",
       "      <td>94.750000</td>\n",
       "      <td>-128.75</td>\n",
       "      <td>-260.25</td>\n",
       "      <td>512.750000</td>\n",
       "      <td>1.796839e+06</td>\n",
       "    </tr>\n",
       "    <tr>\n",
       "      <th>2017-10-19 00:49:08+00:00</th>\n",
       "      <td>1827.088333</td>\n",
       "      <td>3.604710</td>\n",
       "      <td>-1.053449</td>\n",
       "      <td>0.647392</td>\n",
       "      <td>-109.600000</td>\n",
       "      <td>-1.00</td>\n",
       "      <td>-5.400000</td>\n",
       "      <td>-142.80</td>\n",
       "      <td>-259.20</td>\n",
       "      <td>486.000000</td>\n",
       "      <td>1.797841e+06</td>\n",
       "    </tr>\n",
       "    <tr>\n",
       "      <th>2017-10-19 00:49:09+00:00</th>\n",
       "      <td>1828.088800</td>\n",
       "      <td>4.125688</td>\n",
       "      <td>-0.229843</td>\n",
       "      <td>0.609085</td>\n",
       "      <td>42.600000</td>\n",
       "      <td>-77.40</td>\n",
       "      <td>38.800000</td>\n",
       "      <td>-127.60</td>\n",
       "      <td>-266.00</td>\n",
       "      <td>498.800000</td>\n",
       "      <td>1.798842e+06</td>\n",
       "    </tr>\n",
       "  </tbody>\n",
       "</table>\n",
       "<p>1800 rows × 11 columns</p>\n",
       "</div>"
      ],
      "text/plain": [
       "                                  Time    IMU A1    IMU A2     IMU A3  \\\n",
       "UTC                                                                     \n",
       "2017-10-19 00:19:10+00:00    29.247000 -0.798067 -6.920839  -7.789136   \n",
       "2017-10-19 00:19:11+00:00    30.123750 -1.230620 -7.584831 -10.477026   \n",
       "2017-10-19 00:19:12+00:00    31.123750 -1.872266 -7.795521 -10.845734   \n",
       "2017-10-19 00:19:13+00:00    32.073750 -1.230620 -7.436390 -10.400412   \n",
       "2017-10-19 00:19:14+00:00    33.036000 -1.431733 -7.120356 -10.371682   \n",
       "...                                ...       ...       ...        ...   \n",
       "2017-10-19 00:49:05+00:00  1824.068800  0.222182 -0.141737   1.041957   \n",
       "2017-10-19 00:49:06+00:00  1825.139000  1.984314 -0.091937   0.440533   \n",
       "2017-10-19 00:49:07+00:00  1826.086250  3.155558 -0.339977  -0.756568   \n",
       "2017-10-19 00:49:08+00:00  1827.088333  3.604710 -1.053449   0.647392   \n",
       "2017-10-19 00:49:09+00:00  1828.088800  4.125688 -0.229843   0.609085   \n",
       "\n",
       "                               IMU G1  IMU G2      IMU G3  IMU M1  IMU M2  \\\n",
       "UTC                                                                         \n",
       "2017-10-19 00:19:10+00:00  -17.333333   24.00   56.666667   87.00    3.00   \n",
       "2017-10-19 00:19:11+00:00  -19.750000   10.25   72.000000  121.75  -17.25   \n",
       "2017-10-19 00:19:12+00:00  -31.500000   -6.25    3.250000  128.75  -25.75   \n",
       "2017-10-19 00:19:13+00:00   37.250000  -27.25   74.750000  122.50  -35.50   \n",
       "2017-10-19 00:19:14+00:00   -8.000000   -3.00   31.000000  149.25  -58.25   \n",
       "...                               ...     ...         ...     ...     ...   \n",
       "2017-10-19 00:49:05+00:00  -29.200000   78.20   60.200000  -42.00 -326.00   \n",
       "2017-10-19 00:49:06+00:00   61.000000   61.00  110.600000  -86.40 -299.20   \n",
       "2017-10-19 00:49:07+00:00   40.000000    5.50   94.750000 -128.75 -260.25   \n",
       "2017-10-19 00:49:08+00:00 -109.600000   -1.00   -5.400000 -142.80 -259.20   \n",
       "2017-10-19 00:49:09+00:00   42.600000  -77.40   38.800000 -127.60 -266.00   \n",
       "\n",
       "                               IMU M3     TimeDelta  \n",
       "UTC                                                  \n",
       "2017-10-19 00:19:10+00:00  439.333333  0.000000e+00  \n",
       "2017-10-19 00:19:11+00:00  587.750000  8.767500e+02  \n",
       "2017-10-19 00:19:12+00:00  596.750000  1.876750e+03  \n",
       "2017-10-19 00:19:13+00:00  593.500000  2.826750e+03  \n",
       "2017-10-19 00:19:14+00:00  587.750000  3.789000e+03  \n",
       "...                               ...           ...  \n",
       "2017-10-19 00:49:05+00:00  479.600000  1.794822e+06  \n",
       "2017-10-19 00:49:06+00:00  510.800000  1.795892e+06  \n",
       "2017-10-19 00:49:07+00:00  512.750000  1.796839e+06  \n",
       "2017-10-19 00:49:08+00:00  486.000000  1.797841e+06  \n",
       "2017-10-19 00:49:09+00:00  498.800000  1.798842e+06  \n",
       "\n",
       "[1800 rows x 11 columns]"
      ]
     },
     "execution_count": 34,
     "metadata": {},
     "output_type": "execute_result"
    }
   ],
   "source": [
    "data['motion_data'].head(1800)"
   ]
  },
  {
   "cell_type": "code",
   "execution_count": 33,
   "metadata": {},
   "outputs": [
    {
     "name": "stdout",
     "output_type": "stream",
     "text": [
      "50\n"
     ]
    },
    {
     "data": {
      "text/plain": [
       "[<matplotlib.lines.Line2D at 0x1748c893850>]"
      ]
     },
     "execution_count": 33,
     "metadata": {},
     "output_type": "execute_result"
    },
    {
     "data": {
      "image/png": "[encoded data removed]",
      "text/plain": [
       "<Figure size 432x288 with 1 Axes>"
      ]
     },
     "metadata": {
      "needs_background": "light"
     },
     "output_type": "display_data"
    }
   ],
   "source": [
    "acc2 = data['motion_data']['IMU A2']\n",
    "sa = acc2[4825:4875]\n",
    "import matplotlib.pyplot as plt\n",
    "print(len(sa))\n",
    "x2 = list(range(0, len(sa)))\n",
    "plt.plot(x2, sa)"
   ]
  },
  {
   "cell_type": "code",
   "execution_count": 4,
   "metadata": {
    "scrolled": true
   },
   "outputs": [
    {
     "data": {
      "text/plain": [
       "'09/11/2018 19:16:03'"
      ]
     },
     "execution_count": 4,
     "metadata": {},
     "output_type": "execute_result"
    }
   ],
   "source": [
    "data['start_time']"
   ]
  },
  {
   "cell_type": "code",
   "execution_count": 5,
   "metadata": {},
   "outputs": [
    {
     "data": {
      "text/plain": [
       "'09/11/2018 20:38:15'"
      ]
     },
     "execution_count": 5,
     "metadata": {},
     "output_type": "execute_result"
    }
   ],
   "source": [
    "data['end_time']"
   ]
  },
  {
   "cell_type": "code",
   "execution_count": 6,
   "metadata": {},
   "outputs": [
    {
     "ename": "NameError",
     "evalue": "name 'mdf' is not defined",
     "output_type": "error",
     "traceback": [
      "\u001b[1;31m---------------------------------------------------------------------------\u001b[0m",
      "\u001b[1;31mNameError\u001b[0m                                 Traceback (most recent call last)",
      "\u001b[1;32m<ipython-input-6-a61faae05d13>\u001b[0m in \u001b[0;36m<module>\u001b[1;34m\u001b[0m\n\u001b[1;32m----> 1\u001b[1;33m \u001b[0mmdf\u001b[0m\u001b[1;33m\u001b[0m\u001b[1;33m\u001b[0m\u001b[0m\n\u001b[0m",
      "\u001b[1;31mNameError\u001b[0m: name 'mdf' is not defined"
     ]
    }
   ],
   "source": [
    "mdf"
   ]
  },
  {
   "cell_type": "code",
   "execution_count": null,
   "metadata": {},
   "outputs": [],
   "source": [
    "odf"
   ]
  },
  {
   "cell_type": "code",
   "execution_count": null,
   "metadata": {},
   "outputs": [],
   "source": [
    "nearest_CDIP"
   ]
  },
  {
   "cell_type": "code",
   "execution_count": null,
   "metadata": {},
   "outputs": [],
   "source": [
    "means_CDIP"
   ]
  },
  {
   "cell_type": "code",
   "execution_count": null,
   "metadata": {},
   "outputs": [],
   "source": [
    "temps_CDIP"
   ]
  },
  {
   "cell_type": "code",
   "execution_count": null,
   "metadata": {},
   "outputs": [],
   "source": [
    "longitude"
   ]
  },
  {
   "cell_type": "code",
   "execution_count": null,
   "metadata": {},
   "outputs": [],
   "source": [
    "latitude"
   ]
  },
  {
   "cell_type": "code",
   "execution_count": null,
   "metadata": {},
   "outputs": [],
   "source": [
    "start_time"
   ]
  },
  {
   "cell_type": "code",
   "execution_count": null,
   "metadata": {},
   "outputs": [],
   "source": [
    "end_time"
   ]
  },
  {
   "cell_type": "code",
   "execution_count": null,
   "metadata": {},
   "outputs": [],
   "source": []
  }
 ],
 "metadata": {
  "kernelspec": {
   "display_name": "Python 3",
   "language": "python",
   "name": "python3"
  },
  "language_info": {
   "codemirror_mode": {
    "name": "ipython",
    "version": 3
   },
   "file_extension": ".py",
   "mimetype": "text/x-python",
   "name": "python",
   "nbconvert_exporter": "python",
   "pygments_lexer": "ipython3",
   "version": "3.8.3"
  }
 },
 "nbformat": 4,
 "nbformat_minor": 4
}
