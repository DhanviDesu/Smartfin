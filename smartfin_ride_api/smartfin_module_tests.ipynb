{
 "cells": [
  {
   "cell_type": "code",
   "execution_count": 1,
   "metadata": {},
   "outputs": [],
   "source": [
    "from smartfin_ride_module import RideModule"
   ]
  },
  {
   "cell_type": "code",
   "execution_count": 2,
   "metadata": {
    "scrolled": false
   },
   "outputs": [
    {
     "name": "stdout",
     "output_type": "stream",
     "text": [
      "ride initialized\n"
     ]
    }
   ],
   "source": [
    "ride = RideModule()"
   ]
  },
  {
   "cell_type": "code",
   "execution_count": 7,
   "metadata": {},
   "outputs": [],
   "source": [
    "buoys = ride.get_CDIP_stations()"
   ]
  },
  {
   "cell_type": "code",
   "execution_count": 8,
   "metadata": {},
   "outputs": [
    {
     "data": {
      "text/plain": [
       "[{'rideId': '028',\n",
       "  'latitude': 33.85445022583008,\n",
       "  'longitude': -118.63274383544922},\n",
       " {'rideId': '029',\n",
       "  'latitude': 37.94649887084961,\n",
       "  'longitude': -123.46939086914062},\n",
       " {'rideId': '036',\n",
       "  'latitude': 46.85795593261719,\n",
       "  'longitude': -124.24425506591797},\n",
       " {'rideId': '045',\n",
       "  'latitude': 33.17902374267578,\n",
       "  'longitude': -117.47134399414062},\n",
       " {'rideId': '067',\n",
       "  'latitude': 33.22256088256836,\n",
       "  'longitude': -119.8730697631836},\n",
       " {'rideId': '071',\n",
       "  'latitude': 34.45792007446289,\n",
       "  'longitude': -120.7740249633789},\n",
       " {'rideId': '076',\n",
       "  'latitude': 35.20530700683594,\n",
       "  'longitude': -120.85952758789062},\n",
       " {'rideId': '092',\n",
       "  'latitude': 33.614967346191406,\n",
       "  'longitude': -118.31326293945312},\n",
       " {'rideId': '094',\n",
       "  'latitude': 40.29356384277344,\n",
       "  'longitude': -124.73766326904297},\n",
       " {'rideId': '098',\n",
       "  'latitude': 21.415639877319336,\n",
       "  'longitude': -157.6780548095703},\n",
       " {'rideId': '100',\n",
       "  'latitude': 32.93110656738281,\n",
       "  'longitude': -117.39202880859375},\n",
       " {'rideId': '103',\n",
       "  'latitude': 34.023048400878906,\n",
       "  'longitude': -118.57830047607422},\n",
       " {'rideId': '106',\n",
       "  'latitude': 21.671878814697266,\n",
       "  'longitude': -158.1163330078125},\n",
       " {'rideId': '121',\n",
       "  'latitude': 13.354137420654297,\n",
       "  'longitude': 144.78839111328125},\n",
       " {'rideId': '132',\n",
       "  'latitude': 30.712284088134766,\n",
       "  'longitude': -81.29253387451172},\n",
       " {'rideId': '134',\n",
       "  'latitude': 27.551406860351562,\n",
       "  'longitude': -80.21977996826172},\n",
       " {'rideId': '139',\n",
       "  'latitude': 43.76807403564453,\n",
       "  'longitude': -124.54952239990234},\n",
       " {'rideId': '142',\n",
       "  'latitude': 37.7833137512207,\n",
       "  'longitude': -122.61727905273438},\n",
       " {'rideId': '143',\n",
       "  'latitude': 28.40003204345703,\n",
       "  'longitude': -80.53340148925781},\n",
       " {'rideId': '144',\n",
       "  'latitude': 27.343469619750977,\n",
       "  'longitude': -84.27690124511719},\n",
       " {'rideId': '147',\n",
       "  'latitude': 36.91267013549805,\n",
       "  'longitude': -75.73381805419922},\n",
       " {'rideId': '150',\n",
       "  'latitude': 34.14133834838867,\n",
       "  'longitude': -77.71202087402344},\n",
       " {'rideId': '154',\n",
       "  'latitude': 40.96870803833008,\n",
       "  'longitude': -71.12679290771484},\n",
       " {'rideId': '155',\n",
       "  'latitude': 32.569583892822266,\n",
       "  'longitude': -117.16885375976562},\n",
       " {'rideId': '157',\n",
       "  'latitude': 36.34063720703125,\n",
       "  'longitude': -122.10130310058594},\n",
       " {'rideId': '158',\n",
       "  'latitude': 36.626277923583984,\n",
       "  'longitude': -121.9070816040039},\n",
       " {'rideId': '160',\n",
       "  'latitude': 42.79755401611328,\n",
       "  'longitude': -70.16852569580078},\n",
       " {'rideId': '162',\n",
       "  'latitude': 46.21516036987305,\n",
       "  'longitude': -124.12869262695312},\n",
       " {'rideId': '163',\n",
       "  'latitude': 7.086760997772217,\n",
       "  'longitude': 171.3934326171875},\n",
       " {'rideId': '166',\n",
       "  'latitude': 49.968788146972656,\n",
       "  'longitude': -145.18795776367188},\n",
       " {'rideId': '168',\n",
       "  'latitude': 40.890987396240234,\n",
       "  'longitude': -124.35660552978516},\n",
       " {'rideId': '171',\n",
       "  'latitude': 36.611698150634766,\n",
       "  'longitude': -74.8385009765625},\n",
       " {'rideId': '430',\n",
       "  'latitude': 36.25791931152344,\n",
       "  'longitude': -75.59221649169922},\n",
       " {'rideId': '433',\n",
       "  'latitude': 36.19986343383789,\n",
       "  'longitude': -75.7148666381836},\n",
       " {'rideId': '181',\n",
       "  'latitude': 18.376392364501953,\n",
       "  'longitude': -67.27989196777344},\n",
       " {'rideId': '185',\n",
       "  'latitude': 36.719886779785156,\n",
       "  'longitude': -122.3508071899414},\n",
       " {'rideId': '187',\n",
       "  'latitude': 21.018299102783203,\n",
       "  'longitude': -156.4254150390625},\n",
       " {'rideId': '188',\n",
       "  'latitude': 19.780797958374023,\n",
       "  'longitude': -154.9688720703125},\n",
       " {'rideId': '189',\n",
       "  'latitude': -14.26736068725586,\n",
       "  'longitude': -170.49557495117188},\n",
       " {'rideId': '191',\n",
       "  'latitude': 32.53472900390625,\n",
       "  'longitude': -117.4295883178711},\n",
       " {'rideId': '192', 'latitude': 35.75, 'longitude': -75.33000183105469},\n",
       " {'rideId': '194',\n",
       "  'latitude': 30.000015258789062,\n",
       "  'longitude': -81.07989501953125},\n",
       " {'rideId': '196',\n",
       "  'latitude': 13.683246612548828,\n",
       "  'longitude': 144.811767578125},\n",
       " {'rideId': '197',\n",
       "  'latitude': 15.267845153808594,\n",
       "  'longitude': 145.662353515625},\n",
       " {'rideId': '198',\n",
       "  'latitude': 21.47750473022461,\n",
       "  'longitude': -157.75241088867188},\n",
       " {'rideId': '200',\n",
       "  'latitude': 33.72108459472656,\n",
       "  'longitude': -78.01475524902344},\n",
       " {'rideId': '201',\n",
       "  'latitude': 32.868080139160156,\n",
       "  'longitude': -117.26659393310547},\n",
       " {'rideId': '203',\n",
       "  'latitude': 33.760616302490234,\n",
       "  'longitude': -119.55327606201172},\n",
       " {'rideId': '205',\n",
       "  'latitude': 55.59794616699219,\n",
       "  'longitude': -131.76919555664062},\n",
       " {'rideId': '209',\n",
       "  'latitude': 39.77357864379883,\n",
       "  'longitude': -73.76947784423828},\n",
       " {'rideId': '213',\n",
       "  'latitude': 33.576255798339844,\n",
       "  'longitude': -118.18135833740234},\n",
       " {'rideId': '214',\n",
       "  'latitude': 27.589921951293945,\n",
       "  'longitude': -82.93102264404297},\n",
       " {'rideId': '215',\n",
       "  'latitude': 33.70033264160156,\n",
       "  'longitude': -118.20067596435547},\n",
       " {'rideId': '217',\n",
       "  'latitude': 34.21098709106445,\n",
       "  'longitude': -76.94744873046875},\n",
       " {'rideId': '220',\n",
       "  'latitude': 32.74998474121094,\n",
       "  'longitude': -117.49996948242188},\n",
       " {'rideId': '221',\n",
       "  'latitude': 41.83971405029297,\n",
       "  'longitude': -70.3289566040039},\n",
       " {'rideId': '222',\n",
       "  'latitude': 34.745323181152344,\n",
       "  'longitude': -121.60053253173828},\n",
       " {'rideId': '224',\n",
       "  'latitude': 37.756980895996094,\n",
       "  'longitude': -75.33351135253906},\n",
       " {'rideId': '225',\n",
       "  'latitude': 21.47730255126953,\n",
       "  'longitude': -157.75579833984375},\n",
       " {'rideId': '226',\n",
       "  'latitude': 25.700115203857422,\n",
       "  'longitude': -83.65010070800781},\n",
       " {'rideId': '230',\n",
       "  'latitude': 48.02667999267578,\n",
       "  'longitude': -87.76324462890625},\n",
       " {'rideId': '233',\n",
       "  'latitude': 21.297348022460938,\n",
       "  'longitude': -157.9589385986328},\n",
       " {'rideId': '236',\n",
       "  'latitude': 57.479454040527344,\n",
       "  'longitude': -151.69529724121094},\n",
       " {'rideId': '238',\n",
       "  'latitude': 21.32308006286621,\n",
       "  'longitude': -158.14947509765625},\n",
       " {'rideId': '239',\n",
       "  'latitude': 20.750219345092773,\n",
       "  'longitude': -157.00344848632812},\n",
       " {'rideId': '240',\n",
       "  'latitude': 37.02568817138672,\n",
       "  'longitude': -76.15080261230469},\n",
       " {'rideId': '241',\n",
       "  'latitude': 64.47259521484375,\n",
       "  'longitude': -165.47491455078125},\n",
       " {'rideId': '243',\n",
       "  'latitude': 36.0013313293457,\n",
       "  'longitude': -75.42098236083984},\n",
       " {'rideId': '244',\n",
       "  'latitude': 24.40716552734375,\n",
       "  'longitude': -81.96683502197266},\n",
       " {'rideId': '247',\n",
       "  'latitude': 29.01664924621582,\n",
       "  'longitude': -89.83243560791016}]"
      ]
     },
     "execution_count": 8,
     "metadata": {},
     "output_type": "execute_result"
    }
   ],
   "source": [
    "buoys"
   ]
  },
  {
   "cell_type": "code",
   "execution_count": 9,
   "metadata": {},
   "outputs": [
    {
     "data": {
      "text/plain": [
       "33.85445022583008"
      ]
     },
     "execution_count": 9,
     "metadata": {},
     "output_type": "execute_result"
    }
   ],
   "source": [
    "num = (buoys[0]['latitude'])\n",
    "num"
   ]
  },
  {
   "cell_type": "code",
   "execution_count": 10,
   "metadata": {},
   "outputs": [
    {
     "ename": "SyntaxError",
     "evalue": "unexpected EOF while parsing (<ipython-input-10-b232fcfa696c>, line 1)",
     "output_type": "error",
     "traceback": [
      "\u001b[1;36m  File \u001b[1;32m\"<ipython-input-10-b232fcfa696c>\"\u001b[1;36m, line \u001b[1;32m1\u001b[0m\n\u001b[1;33m    for buoy in buoys:\u001b[0m\n\u001b[1;37m                      ^\u001b[0m\n\u001b[1;31mSyntaxError\u001b[0m\u001b[1;31m:\u001b[0m unexpected EOF while parsing\n"
     ]
    }
   ],
   "source": [
    "for buoy in buoys:\n",
    "    "
   ]
  },
  {
   "cell_type": "code",
   "execution_count": 11,
   "metadata": {
    "scrolled": false
   },
   "outputs": [
    {
     "name": "stdout",
     "output_type": "stream",
     "text": [
      "these buoys:  [{'rideId': '028', 'latitude': 33.85445022583008, 'longitude': -118.63274383544922}, {'rideId': '029', 'latitude': 37.94649887084961, 'longitude': -123.46939086914062}, {'rideId': '036', 'latitude': 46.85795593261719, 'longitude': -124.24425506591797}, {'rideId': '045', 'latitude': 33.17902374267578, 'longitude': -117.47134399414062}, {'rideId': '067', 'latitude': 33.22256088256836, 'longitude': -119.8730697631836}, {'rideId': '071', 'latitude': 34.45792007446289, 'longitude': -120.7740249633789}, {'rideId': '076', 'latitude': 35.20530700683594, 'longitude': -120.85952758789062}, {'rideId': '092', 'latitude': 33.614967346191406, 'longitude': -118.31326293945312}, {'rideId': '094', 'latitude': 40.29356384277344, 'longitude': -124.73766326904297}, {'rideId': '098', 'latitude': 21.415639877319336, 'longitude': -157.6780548095703}, {'rideId': '100', 'latitude': 32.93110656738281, 'longitude': -117.39202880859375}, {'rideId': '103', 'latitude': 34.023048400878906, 'longitude': -118.57830047607422}, {'rideId': '106', 'latitude': 21.671878814697266, 'longitude': -158.1163330078125}, {'rideId': '121', 'latitude': 13.354137420654297, 'longitude': 144.78839111328125}, {'rideId': '132', 'latitude': 30.712284088134766, 'longitude': -81.29253387451172}, {'rideId': '134', 'latitude': 27.551406860351562, 'longitude': -80.21977996826172}, {'rideId': '139', 'latitude': 43.76807403564453, 'longitude': -124.54952239990234}, {'rideId': '142', 'latitude': 37.7833137512207, 'longitude': -122.61727905273438}, {'rideId': '143', 'latitude': 28.40003204345703, 'longitude': -80.53340148925781}, {'rideId': '144', 'latitude': 27.343469619750977, 'longitude': -84.27690124511719}, {'rideId': '147', 'latitude': 36.91267013549805, 'longitude': -75.73381805419922}, {'rideId': '150', 'latitude': 34.14133834838867, 'longitude': -77.71202087402344}, {'rideId': '154', 'latitude': 40.96870803833008, 'longitude': -71.12679290771484}, {'rideId': '155', 'latitude': 32.569583892822266, 'longitude': -117.16885375976562}, {'rideId': '157', 'latitude': 36.34063720703125, 'longitude': -122.10130310058594}, {'rideId': '158', 'latitude': 36.626277923583984, 'longitude': -121.9070816040039}, {'rideId': '160', 'latitude': 42.79755401611328, 'longitude': -70.16852569580078}, {'rideId': '162', 'latitude': 46.21516036987305, 'longitude': -124.12869262695312}, {'rideId': '163', 'latitude': 7.086760997772217, 'longitude': 171.3934326171875}, {'rideId': '166', 'latitude': 49.968788146972656, 'longitude': -145.18795776367188}, {'rideId': '168', 'latitude': 40.890987396240234, 'longitude': -124.35660552978516}, {'rideId': '171', 'latitude': 36.611698150634766, 'longitude': -74.8385009765625}, {'rideId': '430', 'latitude': 36.25791931152344, 'longitude': -75.59221649169922}, {'rideId': '433', 'latitude': 36.19986343383789, 'longitude': -75.7148666381836}, {'rideId': '181', 'latitude': 18.376392364501953, 'longitude': -67.27989196777344}, {'rideId': '185', 'latitude': 36.719886779785156, 'longitude': -122.3508071899414}, {'rideId': '187', 'latitude': 21.018299102783203, 'longitude': -156.4254150390625}, {'rideId': '188', 'latitude': 19.780797958374023, 'longitude': -154.9688720703125}, {'rideId': '189', 'latitude': -14.26736068725586, 'longitude': -170.49557495117188}, {'rideId': '191', 'latitude': 32.53472900390625, 'longitude': -117.4295883178711}, {'rideId': '192', 'latitude': 35.75, 'longitude': -75.33000183105469}, {'rideId': '194', 'latitude': 30.000015258789062, 'longitude': -81.07989501953125}, {'rideId': '196', 'latitude': 13.683246612548828, 'longitude': 144.811767578125}, {'rideId': '197', 'latitude': 15.267845153808594, 'longitude': 145.662353515625}, {'rideId': '198', 'latitude': 21.47750473022461, 'longitude': -157.75241088867188}, {'rideId': '200', 'latitude': 33.72108459472656, 'longitude': -78.01475524902344}, {'rideId': '201', 'latitude': 32.868080139160156, 'longitude': -117.26659393310547}, {'rideId': '203', 'latitude': 33.760616302490234, 'longitude': -119.55327606201172}, {'rideId': '205', 'latitude': 55.59794616699219, 'longitude': -131.76919555664062}, {'rideId': '209', 'latitude': 39.77357864379883, 'longitude': -73.76947784423828}, {'rideId': '213', 'latitude': 33.576255798339844, 'longitude': -118.18135833740234}, {'rideId': '214', 'latitude': 27.589921951293945, 'longitude': -82.93102264404297}, {'rideId': '215', 'latitude': 33.70033264160156, 'longitude': -118.20067596435547}, {'rideId': '217', 'latitude': 34.21098709106445, 'longitude': -76.94744873046875}, {'rideId': '220', 'latitude': 32.74998474121094, 'longitude': -117.49996948242188}, {'rideId': '221', 'latitude': 41.83971405029297, 'longitude': -70.3289566040039}, {'rideId': '222', 'latitude': 34.745323181152344, 'longitude': -121.60053253173828}, {'rideId': '224', 'latitude': 37.756980895996094, 'longitude': -75.33351135253906}, {'rideId': '225', 'latitude': 21.47730255126953, 'longitude': -157.75579833984375}, {'rideId': '226', 'latitude': 25.700115203857422, 'longitude': -83.65010070800781}, {'rideId': '230', 'latitude': 48.02667999267578, 'longitude': -87.76324462890625}, {'rideId': '233', 'latitude': 21.297348022460938, 'longitude': -157.9589385986328}, {'rideId': '236', 'latitude': 57.479454040527344, 'longitude': -151.69529724121094}, {'rideId': '238', 'latitude': 21.32308006286621, 'longitude': -158.14947509765625}, {'rideId': '239', 'latitude': 20.750219345092773, 'longitude': -157.00344848632812}, {'rideId': '240', 'latitude': 37.02568817138672, 'longitude': -76.15080261230469}, {'rideId': '241', 'latitude': 64.47259521484375, 'longitude': -165.47491455078125}, {'rideId': '243', 'latitude': 36.0013313293457, 'longitude': -75.42098236083984}, {'rideId': '244', 'latitude': 24.40716552734375, 'longitude': -81.96683502197266}, {'rideId': '247', 'latitude': 29.01664924621582, 'longitude': -89.83243560791016}]\n",
      "fetching ride from: https://surf.smartfin.org/ride/15692\n",
      "fetching ocean data from: https://surf.smartfin.org/media/201811/google_105349665704999793400_0006667E229D_181109191556_Ocean.CSV\n",
      "fetching motion data from: https://surf.smartfin.org/media/201811/google_105349665704999793400_0006667E229D_181109191556_Motion.CSV\n",
      "calculated start_time: 2018-11-09T19:16:03\n",
      "calculated end_time: 2018-11-09T20:38:15\n",
      "{'rideId': '028', 'latitude': 33.85445022583008, 'longitude': -118.63274383544922}\n",
      "{'rideId': '029', 'latitude': 37.94649887084961, 'longitude': -123.46939086914062}\n",
      "{'rideId': '036', 'latitude': 46.85795593261719, 'longitude': -124.24425506591797}\n",
      "{'rideId': '045', 'latitude': 33.17902374267578, 'longitude': -117.47134399414062}\n",
      "{'rideId': '067', 'latitude': 33.22256088256836, 'longitude': -119.8730697631836}\n",
      "{'rideId': '071', 'latitude': 34.45792007446289, 'longitude': -120.7740249633789}\n",
      "{'rideId': '076', 'latitude': 35.20530700683594, 'longitude': -120.85952758789062}\n",
      "{'rideId': '092', 'latitude': 33.614967346191406, 'longitude': -118.31326293945312}\n",
      "{'rideId': '094', 'latitude': 40.29356384277344, 'longitude': -124.73766326904297}\n",
      "{'rideId': '098', 'latitude': 21.415639877319336, 'longitude': -157.6780548095703}\n",
      "{'rideId': '100', 'latitude': 32.93110656738281, 'longitude': -117.39202880859375}\n",
      "{'rideId': '103', 'latitude': 34.023048400878906, 'longitude': -118.57830047607422}\n",
      "{'rideId': '106', 'latitude': 21.671878814697266, 'longitude': -158.1163330078125}\n",
      "{'rideId': '121', 'latitude': 13.354137420654297, 'longitude': 144.78839111328125}\n",
      "{'rideId': '132', 'latitude': 30.712284088134766, 'longitude': -81.29253387451172}\n",
      "{'rideId': '134', 'latitude': 27.551406860351562, 'longitude': -80.21977996826172}\n",
      "{'rideId': '139', 'latitude': 43.76807403564453, 'longitude': -124.54952239990234}\n",
      "{'rideId': '142', 'latitude': 37.7833137512207, 'longitude': -122.61727905273438}\n",
      "{'rideId': '143', 'latitude': 28.40003204345703, 'longitude': -80.53340148925781}\n",
      "{'rideId': '144', 'latitude': 27.343469619750977, 'longitude': -84.27690124511719}\n",
      "{'rideId': '147', 'latitude': 36.91267013549805, 'longitude': -75.73381805419922}\n",
      "{'rideId': '150', 'latitude': 34.14133834838867, 'longitude': -77.71202087402344}\n",
      "{'rideId': '154', 'latitude': 40.96870803833008, 'longitude': -71.12679290771484}\n",
      "{'rideId': '155', 'latitude': 32.569583892822266, 'longitude': -117.16885375976562}\n",
      "{'rideId': '157', 'latitude': 36.34063720703125, 'longitude': -122.10130310058594}\n",
      "{'rideId': '158', 'latitude': 36.626277923583984, 'longitude': -121.9070816040039}\n",
      "{'rideId': '160', 'latitude': 42.79755401611328, 'longitude': -70.16852569580078}\n",
      "{'rideId': '162', 'latitude': 46.21516036987305, 'longitude': -124.12869262695312}\n",
      "{'rideId': '163', 'latitude': 7.086760997772217, 'longitude': 171.3934326171875}\n",
      "{'rideId': '166', 'latitude': 49.968788146972656, 'longitude': -145.18795776367188}\n",
      "{'rideId': '168', 'latitude': 40.890987396240234, 'longitude': -124.35660552978516}\n",
      "{'rideId': '171', 'latitude': 36.611698150634766, 'longitude': -74.8385009765625}\n",
      "{'rideId': '430', 'latitude': 36.25791931152344, 'longitude': -75.59221649169922}\n",
      "{'rideId': '433', 'latitude': 36.19986343383789, 'longitude': -75.7148666381836}\n",
      "{'rideId': '181', 'latitude': 18.376392364501953, 'longitude': -67.27989196777344}\n",
      "{'rideId': '185', 'latitude': 36.719886779785156, 'longitude': -122.3508071899414}\n",
      "{'rideId': '187', 'latitude': 21.018299102783203, 'longitude': -156.4254150390625}\n",
      "{'rideId': '188', 'latitude': 19.780797958374023, 'longitude': -154.9688720703125}\n",
      "{'rideId': '189', 'latitude': -14.26736068725586, 'longitude': -170.49557495117188}\n",
      "{'rideId': '191', 'latitude': 32.53472900390625, 'longitude': -117.4295883178711}\n",
      "{'rideId': '192', 'latitude': 35.75, 'longitude': -75.33000183105469}\n",
      "{'rideId': '194', 'latitude': 30.000015258789062, 'longitude': -81.07989501953125}\n",
      "{'rideId': '196', 'latitude': 13.683246612548828, 'longitude': 144.811767578125}\n",
      "{'rideId': '197', 'latitude': 15.267845153808594, 'longitude': 145.662353515625}\n",
      "{'rideId': '198', 'latitude': 21.47750473022461, 'longitude': -157.75241088867188}\n",
      "{'rideId': '200', 'latitude': 33.72108459472656, 'longitude': -78.01475524902344}\n",
      "{'rideId': '201', 'latitude': 32.868080139160156, 'longitude': -117.26659393310547}\n",
      "{'rideId': '203', 'latitude': 33.760616302490234, 'longitude': -119.55327606201172}\n",
      "{'rideId': '205', 'latitude': 55.59794616699219, 'longitude': -131.76919555664062}\n",
      "{'rideId': '209', 'latitude': 39.77357864379883, 'longitude': -73.76947784423828}\n",
      "{'rideId': '213', 'latitude': 33.576255798339844, 'longitude': -118.18135833740234}\n",
      "{'rideId': '214', 'latitude': 27.589921951293945, 'longitude': -82.93102264404297}\n",
      "{'rideId': '215', 'latitude': 33.70033264160156, 'longitude': -118.20067596435547}\n",
      "{'rideId': '217', 'latitude': 34.21098709106445, 'longitude': -76.94744873046875}\n",
      "{'rideId': '220', 'latitude': 32.74998474121094, 'longitude': -117.49996948242188}\n",
      "{'rideId': '221', 'latitude': 41.83971405029297, 'longitude': -70.3289566040039}\n",
      "{'rideId': '222', 'latitude': 34.745323181152344, 'longitude': -121.60053253173828}\n",
      "{'rideId': '224', 'latitude': 37.756980895996094, 'longitude': -75.33351135253906}\n",
      "{'rideId': '225', 'latitude': 21.47730255126953, 'longitude': -157.75579833984375}\n",
      "{'rideId': '226', 'latitude': 25.700115203857422, 'longitude': -83.65010070800781}\n",
      "{'rideId': '230', 'latitude': 48.02667999267578, 'longitude': -87.76324462890625}\n",
      "{'rideId': '233', 'latitude': 21.297348022460938, 'longitude': -157.9589385986328}\n",
      "{'rideId': '236', 'latitude': 57.479454040527344, 'longitude': -151.69529724121094}\n",
      "{'rideId': '238', 'latitude': 21.32308006286621, 'longitude': -158.14947509765625}\n",
      "{'rideId': '239', 'latitude': 20.750219345092773, 'longitude': -157.00344848632812}\n",
      "{'rideId': '240', 'latitude': 37.02568817138672, 'longitude': -76.15080261230469}\n",
      "{'rideId': '241', 'latitude': 64.47259521484375, 'longitude': -165.47491455078125}\n",
      "{'rideId': '243', 'latitude': 36.0013313293457, 'longitude': -75.42098236083984}\n",
      "{'rideId': '244', 'latitude': 24.40716552734375, 'longitude': -81.96683502197266}\n",
      "{'rideId': '247', 'latitude': 29.01664924621582, 'longitude': -89.83243560791016}\n",
      "retriving CDIP wave heights from: http://thredds.cdip.ucsd.edu/thredds/dodsC/cdip/archive/201p1/201p1_historic.nc\n"
     ]
    },
    {
     "name": "stdout",
     "output_type": "stream",
     "text": [
      "calculating significant wave height between 2018-11-09T19:16:03 - 2018-11-09T20:38:15\n",
      "calculating significant wave height between 2018-11-09T19:16:03 - 2018-11-09T20:38:15\n",
      "mean wave height: 0.42014166712760925\n",
      "mean ocean temp: 19.481172561645508\n",
      "retrieved nearest CDIP buoy: 201\n",
      "retrieved CDIP mean height for ride: 0.42014166712760925\n",
      "retrieved CDIP mean temp for ride: 19.481172561645508\n",
      "calculated smartfin significant wave height: 0.38932804411248134\n",
      "height reading sample rate: 10\n",
      "calculated smartfin ride temp: 22.30490184049079\n",
      "temperature reading sample rate: 6.02\n",
      "uploading ride data to database...\n"
     ]
    }
   ],
   "source": [
    "data = ride.get_ride_data('15692', buoys)"
   ]
  },
  {
   "cell_type": "code",
   "execution_count": 13,
   "metadata": {
    "scrolled": true
   },
   "outputs": [
    {
     "data": {
      "text/plain": [
       "'2018-11-09T19:16:03'"
      ]
     },
     "execution_count": 13,
     "metadata": {},
     "output_type": "execute_result"
    }
   ],
   "source": [
    "data['startTime']"
   ]
  },
  {
   "cell_type": "code",
   "execution_count": null,
   "metadata": {},
   "outputs": [],
   "source": [
    "data['end_time']"
   ]
  },
  {
   "cell_type": "code",
   "execution_count": null,
   "metadata": {},
   "outputs": [],
   "source": [
    "data['CDIP_buoy']"
   ]
  },
  {
   "cell_type": "code",
   "execution_count": null,
   "metadata": {},
   "outputs": [],
   "source": [
    "data['CDIP_height']"
   ]
  },
  {
   "cell_type": "code",
   "execution_count": null,
   "metadata": {},
   "outputs": [],
   "source": [
    "data['CDIP_temp']"
   ]
  },
  {
   "cell_type": "code",
   "execution_count": null,
   "metadata": {},
   "outputs": [],
   "source": [
    "data['latitude']"
   ]
  },
  {
   "cell_type": "code",
   "execution_count": null,
   "metadata": {
    "scrolled": true
   },
   "outputs": [],
   "source": [
    "data['longitude']"
   ]
  },
  {
   "cell_type": "code",
   "execution_count": null,
   "metadata": {},
   "outputs": [],
   "source": [
    "mdf"
   ]
  },
  {
   "cell_type": "code",
   "execution_count": null,
   "metadata": {},
   "outputs": [],
   "source": [
    "odf"
   ]
  },
  {
   "cell_type": "code",
   "execution_count": null,
   "metadata": {},
   "outputs": [],
   "source": []
  }
 ],
 "metadata": {
  "kernelspec": {
   "display_name": "Python 3",
   "language": "python",
   "name": "python3"
  },
  "language_info": {
   "codemirror_mode": {
    "name": "ipython",
    "version": 3
   },
   "file_extension": ".py",
   "mimetype": "text/x-python",
   "name": "python",
   "nbconvert_exporter": "python",
   "pygments_lexer": "ipython3",
   "version": "3.8.3"
  }
 },
 "nbformat": 4,
 "nbformat_minor": 4
}
