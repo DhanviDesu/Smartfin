{
 "cells": [
  {
   "cell_type": "code",
   "execution_count": 1,
   "metadata": {},
   "outputs": [],
   "source": [
    "from smartfin_ride_module import Ride"
   ]
  },
  {
   "cell_type": "code",
   "execution_count": 30,
   "metadata": {
    "scrolled": false
   },
   "outputs": [
    {
     "name": "stdout",
     "output_type": "stream",
     "text": [
      "ride initialized\n",
      "fetching ride from: https://surf.smartfin.org/ride/15692\n",
      "fetching ocean data from: https://surf.smartfin.org/media/201811/google_105349665704999793400_0006667E229D_181109191556_Ocean.CSV\n",
      "fetching motion data from: https://surf.smartfin.org/media/201811/google_105349665704999793400_0006667E229D_181109191556_Motion.CSV\n",
      "calcualting start_time: 09/11/2018 19:16:03\n",
      "calcualting end_time: 09/11/2018 20:38:15\n",
      "retriving CDIP wave heights from: http://thredds.cdip.ucsd.edu/thredds/dodsC/cdip/archive/201p1/201p1_historic.nc\n",
      "calculating significant wave height between 09/11/2018 19:16:03 - 09/11/2018 20:38:15\n",
      "calculating significant wave height between 09/11/2018 19:16:03 - 09/11/2018 20:38:15\n",
      "mean wave height: 0.42014166712760925\n",
      "mean ocean temp: 19.481172561645508\n",
      "retrieved nearest CDIP buoy: 201\n",
      "retrieved CDIP means height for ride: [0.4274497, 0.41283363]\n",
      "retrieved CDIP means temp for ride: [19.540009, 19.540009, 19.540009, 19.459991, 19.459991, 19.5, 19.5, 19.5, 19.459991, 19.459991, 19.459991, 19.459991, 19.459991, 19.459991, 19.459991, 19.459991, 19.459991]\n"
     ]
    }
   ],
   "source": [
    "ride = Ride()\n",
    "data, mdf, odf = ride.get_ride_data('15692')"
   ]
  },
  {
   "cell_type": "code",
   "execution_count": 31,
   "metadata": {
    "scrolled": true
   },
   "outputs": [
    {
     "data": {
      "text/plain": [
       "'09/11/2018 19:16:03'"
      ]
     },
     "execution_count": 31,
     "metadata": {},
     "output_type": "execute_result"
    }
   ],
   "source": [
    "data['start_time']"
   ]
  },
  {
   "cell_type": "code",
   "execution_count": 32,
   "metadata": {},
   "outputs": [
    {
     "data": {
      "text/plain": [
       "'09/11/2018 20:38:15'"
      ]
     },
     "execution_count": 32,
     "metadata": {},
     "output_type": "execute_result"
    }
   ],
   "source": [
    "data['end_time']"
   ]
  },
  {
   "cell_type": "code",
   "execution_count": 33,
   "metadata": {},
   "outputs": [
    {
     "data": {
      "text/plain": [
       "'201'"
      ]
     },
     "execution_count": 33,
     "metadata": {},
     "output_type": "execute_result"
    }
   ],
   "source": [
    "data['CDIP_buoy']"
   ]
  },
  {
   "cell_type": "code",
   "execution_count": 34,
   "metadata": {},
   "outputs": [
    {
     "data": {
      "text/plain": [
       "0.42014167"
      ]
     },
     "execution_count": 34,
     "metadata": {},
     "output_type": "execute_result"
    }
   ],
   "source": [
    "data['CDIP_height']"
   ]
  },
  {
   "cell_type": "code",
   "execution_count": 35,
   "metadata": {},
   "outputs": [
    {
     "data": {
      "text/plain": [
       "19.481173"
      ]
     },
     "execution_count": 35,
     "metadata": {},
     "output_type": "execute_result"
    }
   ],
   "source": [
    "data['CDIP_temp']"
   ]
  },
  {
   "cell_type": "code",
   "execution_count": 36,
   "metadata": {},
   "outputs": [
    {
     "data": {
      "text/plain": [
       "32.86058653508772"
      ]
     },
     "execution_count": 36,
     "metadata": {},
     "output_type": "execute_result"
    }
   ],
   "source": [
    "data['latitude']"
   ]
  },
  {
   "cell_type": "code",
   "execution_count": 37,
   "metadata": {
    "scrolled": true
   },
   "outputs": [
    {
     "data": {
      "text/plain": [
       "-117.25365867324561"
      ]
     },
     "execution_count": 37,
     "metadata": {},
     "output_type": "execute_result"
    }
   ],
   "source": [
    "data['longitude']"
   ]
  },
  {
   "cell_type": "code",
   "execution_count": 38,
   "metadata": {},
   "outputs": [
    {
     "data": {
      "text/html": [
       "<div>\n",
       "<style scoped>\n",
       "    .dataframe tbody tr th:only-of-type {\n",
       "        vertical-align: middle;\n",
       "    }\n",
       "\n",
       "    .dataframe tbody tr th {\n",
       "        vertical-align: top;\n",
       "    }\n",
       "\n",
       "    .dataframe thead th {\n",
       "        text-align: right;\n",
       "    }\n",
       "</style>\n",
       "<table border=\"1\" class=\"dataframe\">\n",
       "  <thead>\n",
       "    <tr style=\"text-align: right;\">\n",
       "      <th></th>\n",
       "      <th>Time</th>\n",
       "      <th>IMU A1</th>\n",
       "      <th>IMU A2</th>\n",
       "      <th>IMU A3</th>\n",
       "      <th>IMU G1</th>\n",
       "      <th>IMU G2</th>\n",
       "      <th>IMU G3</th>\n",
       "      <th>IMU M1</th>\n",
       "      <th>IMU M2</th>\n",
       "      <th>IMU M3</th>\n",
       "    </tr>\n",
       "    <tr>\n",
       "      <th>UTC</th>\n",
       "      <th></th>\n",
       "      <th></th>\n",
       "      <th></th>\n",
       "      <th></th>\n",
       "      <th></th>\n",
       "      <th></th>\n",
       "      <th></th>\n",
       "      <th></th>\n",
       "      <th></th>\n",
       "      <th></th>\n",
       "    </tr>\n",
       "  </thead>\n",
       "  <tbody>\n",
       "    <tr>\n",
       "      <th>2018-11-09 19:16:03+00:00</th>\n",
       "      <td>1.414743e+06</td>\n",
       "      <td>9.442731</td>\n",
       "      <td>-8.887277</td>\n",
       "      <td>2.106897</td>\n",
       "      <td>75.00</td>\n",
       "      <td>-124.00</td>\n",
       "      <td>-86.00</td>\n",
       "      <td>-309.00</td>\n",
       "      <td>209.00</td>\n",
       "      <td>39.00</td>\n",
       "    </tr>\n",
       "    <tr>\n",
       "      <th>2018-11-09 19:16:04+00:00</th>\n",
       "      <td>1.414744e+06</td>\n",
       "      <td>9.394847</td>\n",
       "      <td>-6.493075</td>\n",
       "      <td>0.028730</td>\n",
       "      <td>-31.50</td>\n",
       "      <td>-106.00</td>\n",
       "      <td>-100.00</td>\n",
       "      <td>-326.00</td>\n",
       "      <td>181.00</td>\n",
       "      <td>62.00</td>\n",
       "    </tr>\n",
       "    <tr>\n",
       "      <th>2018-11-09 19:16:05+00:00</th>\n",
       "      <td>1.414745e+06</td>\n",
       "      <td>6.086061</td>\n",
       "      <td>-3.466804</td>\n",
       "      <td>-4.304775</td>\n",
       "      <td>-112.75</td>\n",
       "      <td>-552.00</td>\n",
       "      <td>-330.00</td>\n",
       "      <td>-261.25</td>\n",
       "      <td>28.25</td>\n",
       "      <td>240.25</td>\n",
       "    </tr>\n",
       "    <tr>\n",
       "      <th>2018-11-09 19:16:06+00:00</th>\n",
       "      <td>1.414746e+06</td>\n",
       "      <td>0.804452</td>\n",
       "      <td>-2.480393</td>\n",
       "      <td>-3.294421</td>\n",
       "      <td>-45.75</td>\n",
       "      <td>-299.50</td>\n",
       "      <td>202.50</td>\n",
       "      <td>-50.25</td>\n",
       "      <td>-49.25</td>\n",
       "      <td>314.25</td>\n",
       "    </tr>\n",
       "    <tr>\n",
       "      <th>2018-11-09 19:16:07+00:00</th>\n",
       "      <td>1.414747e+06</td>\n",
       "      <td>-0.881066</td>\n",
       "      <td>-1.647211</td>\n",
       "      <td>-4.769250</td>\n",
       "      <td>13.25</td>\n",
       "      <td>-42.50</td>\n",
       "      <td>19.75</td>\n",
       "      <td>1.75</td>\n",
       "      <td>-82.75</td>\n",
       "      <td>287.75</td>\n",
       "    </tr>\n",
       "    <tr>\n",
       "      <th>...</th>\n",
       "      <td>...</td>\n",
       "      <td>...</td>\n",
       "      <td>...</td>\n",
       "      <td>...</td>\n",
       "      <td>...</td>\n",
       "      <td>...</td>\n",
       "      <td>...</td>\n",
       "      <td>...</td>\n",
       "      <td>...</td>\n",
       "      <td>...</td>\n",
       "    </tr>\n",
       "    <tr>\n",
       "      <th>2018-11-09 20:38:11+00:00</th>\n",
       "      <td>1.419641e+06</td>\n",
       "      <td>9.562441</td>\n",
       "      <td>-9.840169</td>\n",
       "      <td>2.015918</td>\n",
       "      <td>4.00</td>\n",
       "      <td>20.00</td>\n",
       "      <td>-0.75</td>\n",
       "      <td>-289.00</td>\n",
       "      <td>229.50</td>\n",
       "      <td>3.50</td>\n",
       "    </tr>\n",
       "    <tr>\n",
       "      <th>2018-11-09 20:38:12+00:00</th>\n",
       "      <td>1.419642e+06</td>\n",
       "      <td>9.595960</td>\n",
       "      <td>-9.969456</td>\n",
       "      <td>1.939303</td>\n",
       "      <td>-37.00</td>\n",
       "      <td>18.00</td>\n",
       "      <td>-5.25</td>\n",
       "      <td>-303.25</td>\n",
       "      <td>262.25</td>\n",
       "      <td>24.75</td>\n",
       "    </tr>\n",
       "    <tr>\n",
       "      <th>2018-11-09 20:38:13+00:00</th>\n",
       "      <td>1.419643e+06</td>\n",
       "      <td>9.605537</td>\n",
       "      <td>-10.022128</td>\n",
       "      <td>1.896208</td>\n",
       "      <td>10.25</td>\n",
       "      <td>20.75</td>\n",
       "      <td>1.00</td>\n",
       "      <td>-300.50</td>\n",
       "      <td>262.50</td>\n",
       "      <td>33.50</td>\n",
       "    </tr>\n",
       "    <tr>\n",
       "      <th>2018-11-09 20:38:14+00:00</th>\n",
       "      <td>1.419644e+06</td>\n",
       "      <td>9.600749</td>\n",
       "      <td>-10.026917</td>\n",
       "      <td>1.896208</td>\n",
       "      <td>9.50</td>\n",
       "      <td>20.75</td>\n",
       "      <td>1.50</td>\n",
       "      <td>-303.50</td>\n",
       "      <td>262.00</td>\n",
       "      <td>37.00</td>\n",
       "    </tr>\n",
       "    <tr>\n",
       "      <th>2018-11-09 20:38:15+00:00</th>\n",
       "      <td>1.419644e+06</td>\n",
       "      <td>9.595960</td>\n",
       "      <td>-10.017340</td>\n",
       "      <td>1.877054</td>\n",
       "      <td>10.00</td>\n",
       "      <td>20.00</td>\n",
       "      <td>2.00</td>\n",
       "      <td>-309.00</td>\n",
       "      <td>265.00</td>\n",
       "      <td>35.00</td>\n",
       "    </tr>\n",
       "  </tbody>\n",
       "</table>\n",
       "<p>4933 rows × 10 columns</p>\n",
       "</div>"
      ],
      "text/plain": [
       "                                   Time    IMU A1     IMU A2    IMU A3  \\\n",
       "UTC                                                                      \n",
       "2018-11-09 19:16:03+00:00  1.414743e+06  9.442731  -8.887277  2.106897   \n",
       "2018-11-09 19:16:04+00:00  1.414744e+06  9.394847  -6.493075  0.028730   \n",
       "2018-11-09 19:16:05+00:00  1.414745e+06  6.086061  -3.466804 -4.304775   \n",
       "2018-11-09 19:16:06+00:00  1.414746e+06  0.804452  -2.480393 -3.294421   \n",
       "2018-11-09 19:16:07+00:00  1.414747e+06 -0.881066  -1.647211 -4.769250   \n",
       "...                                 ...       ...        ...       ...   \n",
       "2018-11-09 20:38:11+00:00  1.419641e+06  9.562441  -9.840169  2.015918   \n",
       "2018-11-09 20:38:12+00:00  1.419642e+06  9.595960  -9.969456  1.939303   \n",
       "2018-11-09 20:38:13+00:00  1.419643e+06  9.605537 -10.022128  1.896208   \n",
       "2018-11-09 20:38:14+00:00  1.419644e+06  9.600749 -10.026917  1.896208   \n",
       "2018-11-09 20:38:15+00:00  1.419644e+06  9.595960 -10.017340  1.877054   \n",
       "\n",
       "                           IMU G1  IMU G2  IMU G3  IMU M1  IMU M2  IMU M3  \n",
       "UTC                                                                        \n",
       "2018-11-09 19:16:03+00:00   75.00 -124.00  -86.00 -309.00  209.00   39.00  \n",
       "2018-11-09 19:16:04+00:00  -31.50 -106.00 -100.00 -326.00  181.00   62.00  \n",
       "2018-11-09 19:16:05+00:00 -112.75 -552.00 -330.00 -261.25   28.25  240.25  \n",
       "2018-11-09 19:16:06+00:00  -45.75 -299.50  202.50  -50.25  -49.25  314.25  \n",
       "2018-11-09 19:16:07+00:00   13.25  -42.50   19.75    1.75  -82.75  287.75  \n",
       "...                           ...     ...     ...     ...     ...     ...  \n",
       "2018-11-09 20:38:11+00:00    4.00   20.00   -0.75 -289.00  229.50    3.50  \n",
       "2018-11-09 20:38:12+00:00  -37.00   18.00   -5.25 -303.25  262.25   24.75  \n",
       "2018-11-09 20:38:13+00:00   10.25   20.75    1.00 -300.50  262.50   33.50  \n",
       "2018-11-09 20:38:14+00:00    9.50   20.75    1.50 -303.50  262.00   37.00  \n",
       "2018-11-09 20:38:15+00:00   10.00   20.00    2.00 -309.00  265.00   35.00  \n",
       "\n",
       "[4933 rows x 10 columns]"
      ]
     },
     "execution_count": 38,
     "metadata": {},
     "output_type": "execute_result"
    }
   ],
   "source": [
    "mdf"
   ]
  },
  {
   "cell_type": "code",
   "execution_count": 39,
   "metadata": {},
   "outputs": [
    {
     "data": {
      "text/html": [
       "<div>\n",
       "<style scoped>\n",
       "    .dataframe tbody tr th:only-of-type {\n",
       "        vertical-align: middle;\n",
       "    }\n",
       "\n",
       "    .dataframe tbody tr th {\n",
       "        vertical-align: top;\n",
       "    }\n",
       "\n",
       "    .dataframe thead th {\n",
       "        text-align: right;\n",
       "    }\n",
       "</style>\n",
       "<table border=\"1\" class=\"dataframe\">\n",
       "  <thead>\n",
       "    <tr style=\"text-align: right;\">\n",
       "      <th></th>\n",
       "      <th>Time</th>\n",
       "      <th>Temperature 1</th>\n",
       "      <th>Calibrated Temperature 1</th>\n",
       "      <th>Temperature 1 Stable</th>\n",
       "      <th>Temperature 2</th>\n",
       "      <th>Calibrated Temperature 2</th>\n",
       "      <th>Temperature 2 Stable</th>\n",
       "    </tr>\n",
       "    <tr>\n",
       "      <th>UTC</th>\n",
       "      <th></th>\n",
       "      <th></th>\n",
       "      <th></th>\n",
       "      <th></th>\n",
       "      <th></th>\n",
       "      <th></th>\n",
       "      <th></th>\n",
       "    </tr>\n",
       "  </thead>\n",
       "  <tbody>\n",
       "    <tr>\n",
       "      <th>2018-11-09 19:16:03+00:00</th>\n",
       "      <td>1.414742e+09</td>\n",
       "      <td>375.0</td>\n",
       "      <td>23.438</td>\n",
       "      <td>0.0</td>\n",
       "      <td>5207.0</td>\n",
       "      <td>20.512</td>\n",
       "      <td>0.0</td>\n",
       "    </tr>\n",
       "    <tr>\n",
       "      <th>2018-11-09 19:16:09+00:00</th>\n",
       "      <td>1.414748e+09</td>\n",
       "      <td>377.0</td>\n",
       "      <td>23.562</td>\n",
       "      <td>0.0</td>\n",
       "      <td>5239.0</td>\n",
       "      <td>20.637</td>\n",
       "      <td>0.0</td>\n",
       "    </tr>\n",
       "    <tr>\n",
       "      <th>2018-11-09 19:16:15+00:00</th>\n",
       "      <td>1.414754e+09</td>\n",
       "      <td>375.0</td>\n",
       "      <td>23.438</td>\n",
       "      <td>0.0</td>\n",
       "      <td>5250.0</td>\n",
       "      <td>20.680</td>\n",
       "      <td>0.0</td>\n",
       "    </tr>\n",
       "    <tr>\n",
       "      <th>2018-11-09 19:16:21+00:00</th>\n",
       "      <td>1.414761e+09</td>\n",
       "      <td>374.0</td>\n",
       "      <td>23.375</td>\n",
       "      <td>0.0</td>\n",
       "      <td>5250.0</td>\n",
       "      <td>20.680</td>\n",
       "      <td>0.0</td>\n",
       "    </tr>\n",
       "    <tr>\n",
       "      <th>2018-11-09 19:16:27+00:00</th>\n",
       "      <td>1.414767e+09</td>\n",
       "      <td>369.0</td>\n",
       "      <td>23.062</td>\n",
       "      <td>0.0</td>\n",
       "      <td>5111.0</td>\n",
       "      <td>20.135</td>\n",
       "      <td>0.0</td>\n",
       "    </tr>\n",
       "    <tr>\n",
       "      <th>...</th>\n",
       "      <td>...</td>\n",
       "      <td>...</td>\n",
       "      <td>...</td>\n",
       "      <td>...</td>\n",
       "      <td>...</td>\n",
       "      <td>...</td>\n",
       "      <td>...</td>\n",
       "    </tr>\n",
       "    <tr>\n",
       "      <th>2018-11-09 20:37:49+00:00</th>\n",
       "      <td>1.419619e+09</td>\n",
       "      <td>450.0</td>\n",
       "      <td>28.125</td>\n",
       "      <td>0.0</td>\n",
       "      <td>6662.0</td>\n",
       "      <td>26.217</td>\n",
       "      <td>0.0</td>\n",
       "    </tr>\n",
       "    <tr>\n",
       "      <th>2018-11-09 20:37:55+00:00</th>\n",
       "      <td>1.419625e+09</td>\n",
       "      <td>449.0</td>\n",
       "      <td>28.062</td>\n",
       "      <td>0.0</td>\n",
       "      <td>6635.0</td>\n",
       "      <td>26.111</td>\n",
       "      <td>0.0</td>\n",
       "    </tr>\n",
       "    <tr>\n",
       "      <th>2018-11-09 20:38:01+00:00</th>\n",
       "      <td>1.419631e+09</td>\n",
       "      <td>448.0</td>\n",
       "      <td>28.000</td>\n",
       "      <td>0.0</td>\n",
       "      <td>6608.0</td>\n",
       "      <td>26.005</td>\n",
       "      <td>0.0</td>\n",
       "    </tr>\n",
       "    <tr>\n",
       "      <th>2018-11-09 20:38:07+00:00</th>\n",
       "      <td>1.419637e+09</td>\n",
       "      <td>447.0</td>\n",
       "      <td>27.938</td>\n",
       "      <td>0.0</td>\n",
       "      <td>6587.0</td>\n",
       "      <td>25.923</td>\n",
       "      <td>0.0</td>\n",
       "    </tr>\n",
       "    <tr>\n",
       "      <th>2018-11-09 20:38:13+00:00</th>\n",
       "      <td>1.419643e+09</td>\n",
       "      <td>446.0</td>\n",
       "      <td>27.875</td>\n",
       "      <td>0.0</td>\n",
       "      <td>6560.0</td>\n",
       "      <td>25.817</td>\n",
       "      <td>0.0</td>\n",
       "    </tr>\n",
       "  </tbody>\n",
       "</table>\n",
       "<p>815 rows × 7 columns</p>\n",
       "</div>"
      ],
      "text/plain": [
       "                                   Time  Temperature 1  \\\n",
       "UTC                                                      \n",
       "2018-11-09 19:16:03+00:00  1.414742e+09          375.0   \n",
       "2018-11-09 19:16:09+00:00  1.414748e+09          377.0   \n",
       "2018-11-09 19:16:15+00:00  1.414754e+09          375.0   \n",
       "2018-11-09 19:16:21+00:00  1.414761e+09          374.0   \n",
       "2018-11-09 19:16:27+00:00  1.414767e+09          369.0   \n",
       "...                                 ...            ...   \n",
       "2018-11-09 20:37:49+00:00  1.419619e+09          450.0   \n",
       "2018-11-09 20:37:55+00:00  1.419625e+09          449.0   \n",
       "2018-11-09 20:38:01+00:00  1.419631e+09          448.0   \n",
       "2018-11-09 20:38:07+00:00  1.419637e+09          447.0   \n",
       "2018-11-09 20:38:13+00:00  1.419643e+09          446.0   \n",
       "\n",
       "                           Calibrated Temperature 1  Temperature 1 Stable  \\\n",
       "UTC                                                                         \n",
       "2018-11-09 19:16:03+00:00                    23.438                   0.0   \n",
       "2018-11-09 19:16:09+00:00                    23.562                   0.0   \n",
       "2018-11-09 19:16:15+00:00                    23.438                   0.0   \n",
       "2018-11-09 19:16:21+00:00                    23.375                   0.0   \n",
       "2018-11-09 19:16:27+00:00                    23.062                   0.0   \n",
       "...                                             ...                   ...   \n",
       "2018-11-09 20:37:49+00:00                    28.125                   0.0   \n",
       "2018-11-09 20:37:55+00:00                    28.062                   0.0   \n",
       "2018-11-09 20:38:01+00:00                    28.000                   0.0   \n",
       "2018-11-09 20:38:07+00:00                    27.938                   0.0   \n",
       "2018-11-09 20:38:13+00:00                    27.875                   0.0   \n",
       "\n",
       "                           Temperature 2  Calibrated Temperature 2  \\\n",
       "UTC                                                                  \n",
       "2018-11-09 19:16:03+00:00         5207.0                    20.512   \n",
       "2018-11-09 19:16:09+00:00         5239.0                    20.637   \n",
       "2018-11-09 19:16:15+00:00         5250.0                    20.680   \n",
       "2018-11-09 19:16:21+00:00         5250.0                    20.680   \n",
       "2018-11-09 19:16:27+00:00         5111.0                    20.135   \n",
       "...                                  ...                       ...   \n",
       "2018-11-09 20:37:49+00:00         6662.0                    26.217   \n",
       "2018-11-09 20:37:55+00:00         6635.0                    26.111   \n",
       "2018-11-09 20:38:01+00:00         6608.0                    26.005   \n",
       "2018-11-09 20:38:07+00:00         6587.0                    25.923   \n",
       "2018-11-09 20:38:13+00:00         6560.0                    25.817   \n",
       "\n",
       "                           Temperature 2 Stable  \n",
       "UTC                                              \n",
       "2018-11-09 19:16:03+00:00                   0.0  \n",
       "2018-11-09 19:16:09+00:00                   0.0  \n",
       "2018-11-09 19:16:15+00:00                   0.0  \n",
       "2018-11-09 19:16:21+00:00                   0.0  \n",
       "2018-11-09 19:16:27+00:00                   0.0  \n",
       "...                                         ...  \n",
       "2018-11-09 20:37:49+00:00                   0.0  \n",
       "2018-11-09 20:37:55+00:00                   0.0  \n",
       "2018-11-09 20:38:01+00:00                   0.0  \n",
       "2018-11-09 20:38:07+00:00                   0.0  \n",
       "2018-11-09 20:38:13+00:00                   0.0  \n",
       "\n",
       "[815 rows x 7 columns]"
      ]
     },
     "execution_count": 39,
     "metadata": {},
     "output_type": "execute_result"
    }
   ],
   "source": [
    "odf"
   ]
  },
  {
   "cell_type": "code",
   "execution_count": null,
   "metadata": {},
   "outputs": [],
   "source": []
  }
 ],
 "metadata": {
  "kernelspec": {
   "display_name": "Python 3",
   "language": "python",
   "name": "python3"
  },
  "language_info": {
   "codemirror_mode": {
    "name": "ipython",
    "version": 3
   },
   "file_extension": ".py",
   "mimetype": "text/x-python",
   "name": "python",
   "nbconvert_exporter": "python",
   "pygments_lexer": "ipython3",
   "version": "3.8.3"
  }
 },
 "nbformat": 4,
 "nbformat_minor": 4
}
